{
  "nbformat": 4,
  "nbformat_minor": 0,
  "metadata": {
    "colab": {
      "provenance": [],
      "gpuType": "T4",
      "mount_file_id": "1fV-2Mc6kjhr3GdesgLaaXJLp6qV5bBC9",
      "authorship_tag": "ABX9TyORNOsrVMJ1natM8zNNFgco",
      "include_colab_link": true
    },
    "kernelspec": {
      "name": "python3",
      "display_name": "Python 3"
    },
    "language_info": {
      "name": "python"
    },
    "accelerator": "GPU"
  },
  "cells": [
    {
      "cell_type": "markdown",
      "metadata": {
        "id": "view-in-github",
        "colab_type": "text"
      },
      "source": [
        "<a href=\"https://colab.research.google.com/github/julwdo/NLP-project/blob/main/NLP_Project_JW.ipynb\" target=\"_parent\"><img src=\"https://colab.research.google.com/assets/colab-badge.svg\" alt=\"Open In Colab\"/></a>"
      ]
    },
    {
      "cell_type": "code",
      "source": [
        "#!apt-get install openjdk-17-jdk-headless -qq > /dev/null # OpenJDK 17\n",
        "#!wget --show-progress https://dlcdn.apache.org/spark/spark-3.5.6/spark-3.5.6-bin-hadoop3.tgz # Apache Spark 3.5.5 with Hadoop 3 support\n",
        "#!tar xf spark-3.5.6-bin-hadoop3.tgz\n",
        "!pip install findspark sparknlp"
      ],
      "metadata": {
        "id": "mQ8T-LAUzBeh",
        "colab": {
          "base_uri": "https://localhost:8080/"
        },
        "outputId": "dd02ea86-23bf-4eb5-cd7c-c383cf43a8af"
      },
      "execution_count": 1,
      "outputs": [
        {
          "output_type": "stream",
          "name": "stdout",
          "text": [
            "Requirement already satisfied: findspark in /usr/local/lib/python3.12/dist-packages (2.0.1)\n",
            "Requirement already satisfied: sparknlp in /usr/local/lib/python3.12/dist-packages (1.0.0)\n",
            "Requirement already satisfied: spark-nlp in /usr/local/lib/python3.12/dist-packages (from sparknlp) (6.1.2)\n",
            "Requirement already satisfied: numpy in /usr/local/lib/python3.12/dist-packages (from sparknlp) (2.0.2)\n"
          ]
        }
      ]
    },
    {
      "cell_type": "code",
      "source": [
        "import os\n",
        "#import findspark\n",
        "#from pyspark.sql import SparkSession\n",
        "import sparknlp\n",
        "from google.colab import auth\n",
        "import pyspark.sql.functions as F\n",
        "from pyspark.sql.types import FloatType\n",
        "from nltk.sentiment import SentimentIntensityAnalyzer\n",
        "import math\n",
        "from collections import Counter\n",
        "from pyspark.sql import Window\n",
        "from pyspark.sql.types import StringType, NumericType\n",
        "from sparknlp.base import DocumentAssembler\n",
        "from sparknlp.annotator import XlmRoBertaSentenceEmbeddings\n",
        "from pyspark.ml import Pipeline\n",
        "from pyspark.ml.feature import VectorAssembler, StandardScaler"
      ],
      "metadata": {
        "id": "J-C_Oc4BzG2s"
      },
      "execution_count": 2,
      "outputs": []
    },
    {
      "cell_type": "code",
      "source": [
        "#import nltk\n",
        "#nltk.download('vader_lexicon')"
      ],
      "metadata": {
        "id": "1dvQfYXH_WoT"
      },
      "execution_count": 3,
      "outputs": []
    },
    {
      "cell_type": "code",
      "source": [
        "# Set up Spark\n",
        "#os.environ['JAVA_HOME'] = '/usr/lib/jvm/java-17-openjdk-amd64'\n",
        "#os.environ['SPARK_HOME'] = '/content/spark-3.5.6-bin-hadoop3'\n",
        "\n",
        "#findspark.init()\n",
        "#indspark.find()\n",
        "\n",
        "#spark = SparkSession.builder.appName('TwiBot22').getOrCreate()\n",
        "\n",
        "spark = sparknlp.start(gpu=False)"
      ],
      "metadata": {
        "id": "ByEenyZjzL5g"
      },
      "execution_count": 4,
      "outputs": []
    },
    {
      "cell_type": "code",
      "source": [
        "auth.authenticate_user()"
      ],
      "metadata": {
        "id": "nXzBU7MKS-dT"
      },
      "execution_count": 5,
      "outputs": []
    },
    {
      "cell_type": "code",
      "source": [
        "#!gcloud init"
      ],
      "metadata": {
        "id": "x3jli8AUVuOm"
      },
      "execution_count": 6,
      "outputs": []
    },
    {
      "cell_type": "code",
      "source": [
        "bucket_name = \"twibot-22\"\n",
        "file_names = [\"user.jsonl\", \"label.csv\", \"tweet_0.jsonl\"]\n",
        "\n",
        "for file_name in file_names:\n",
        "    local_path = f\"/content/{file_name}\"\n",
        "    if not os.path.exists(local_path):\n",
        "        !gsutil cp gs://{bucket_name}/{file_name} {local_path}\n",
        "    else:\n",
        "        print(f\"{file_name} already exists locally, skipping download.\")"
      ],
      "metadata": {
        "id": "T20eeOGhZdsN",
        "colab": {
          "base_uri": "https://localhost:8080/"
        },
        "outputId": "9b0fa19c-817c-4558-d264-2d5851f9f066"
      },
      "execution_count": 7,
      "outputs": [
        {
          "output_type": "stream",
          "name": "stdout",
          "text": [
            "user.jsonl already exists locally, skipping download.\n",
            "label.csv already exists locally, skipping download.\n",
            "tweet_0.jsonl already exists locally, skipping download.\n"
          ]
        }
      ]
    },
    {
      "cell_type": "code",
      "source": [
        "users = spark.read.json(f\"/content/user.jsonl\")\n",
        "\n",
        "users.printSchema()"
      ],
      "metadata": {
        "colab": {
          "base_uri": "https://localhost:8080/"
        },
        "id": "4ljK4HtA_MmV",
        "outputId": "abfd626b-d366-41a1-c29b-98628ab2d0b2"
      },
      "execution_count": 8,
      "outputs": [
        {
          "output_type": "stream",
          "name": "stdout",
          "text": [
            "root\n",
            " |-- created_at: string (nullable = true)\n",
            " |-- description: string (nullable = true)\n",
            " |-- entities: struct (nullable = true)\n",
            " |    |-- description: struct (nullable = true)\n",
            " |    |    |-- cashtags: array (nullable = true)\n",
            " |    |    |    |-- element: struct (containsNull = true)\n",
            " |    |    |    |    |-- end: long (nullable = true)\n",
            " |    |    |    |    |-- start: long (nullable = true)\n",
            " |    |    |    |    |-- tag: string (nullable = true)\n",
            " |    |    |-- hashtags: array (nullable = true)\n",
            " |    |    |    |-- element: struct (containsNull = true)\n",
            " |    |    |    |    |-- end: long (nullable = true)\n",
            " |    |    |    |    |-- start: long (nullable = true)\n",
            " |    |    |    |    |-- tag: string (nullable = true)\n",
            " |    |    |-- mentions: array (nullable = true)\n",
            " |    |    |    |-- element: struct (containsNull = true)\n",
            " |    |    |    |    |-- end: long (nullable = true)\n",
            " |    |    |    |    |-- start: long (nullable = true)\n",
            " |    |    |    |    |-- username: string (nullable = true)\n",
            " |    |    |-- urls: array (nullable = true)\n",
            " |    |    |    |-- element: struct (containsNull = true)\n",
            " |    |    |    |    |-- display_url: string (nullable = true)\n",
            " |    |    |    |    |-- end: long (nullable = true)\n",
            " |    |    |    |    |-- expanded_url: string (nullable = true)\n",
            " |    |    |    |    |-- start: long (nullable = true)\n",
            " |    |    |    |    |-- url: string (nullable = true)\n",
            " |    |-- url: struct (nullable = true)\n",
            " |    |    |-- urls: array (nullable = true)\n",
            " |    |    |    |-- element: struct (containsNull = true)\n",
            " |    |    |    |    |-- display_url: string (nullable = true)\n",
            " |    |    |    |    |-- end: long (nullable = true)\n",
            " |    |    |    |    |-- expanded_url: string (nullable = true)\n",
            " |    |    |    |    |-- start: long (nullable = true)\n",
            " |    |    |    |    |-- url: string (nullable = true)\n",
            " |-- id: string (nullable = true)\n",
            " |-- location: string (nullable = true)\n",
            " |-- name: string (nullable = true)\n",
            " |-- pinned_tweet_id: long (nullable = true)\n",
            " |-- profile_image_url: string (nullable = true)\n",
            " |-- protected: boolean (nullable = true)\n",
            " |-- public_metrics: struct (nullable = true)\n",
            " |    |-- followers_count: long (nullable = true)\n",
            " |    |-- following_count: long (nullable = true)\n",
            " |    |-- listed_count: long (nullable = true)\n",
            " |    |-- tweet_count: long (nullable = true)\n",
            " |-- url: string (nullable = true)\n",
            " |-- username: string (nullable = true)\n",
            " |-- verified: boolean (nullable = true)\n",
            " |-- withheld: struct (nullable = true)\n",
            " |    |-- country_codes: array (nullable = true)\n",
            " |    |    |-- element: string (containsNull = true)\n",
            "\n"
          ]
        }
      ]
    },
    {
      "cell_type": "code",
      "source": [
        "#users.show(5, truncate=False)"
      ],
      "metadata": {
        "id": "zfqG1CcW_Q1c"
      },
      "execution_count": 9,
      "outputs": []
    },
    {
      "cell_type": "code",
      "source": [
        "users_selected = users.select(\n",
        "    F.col(\"id\"),\n",
        "    F.col(\"name\"),\n",
        "    F.col(\"username\"),\n",
        "    F.col(\"created_at\"),\n",
        "    F.col(\"description\"),\n",
        "    F.col(\"url\"),\n",
        "    F.col(\"entities.description.cashtags\"),\n",
        "    F.col(\"entities.description.hashtags\"),\n",
        "    F.col(\"entities.description.mentions\"),\n",
        "    F.col(\"entities.description.urls\"),\n",
        "    F.col(\"location\"),\n",
        "    F.col(\"pinned_tweet_id\"),\n",
        "    F.col(\"profile_image_url\"),\n",
        "    F.col(\"protected\"),\n",
        "    F.col(\"public_metrics.followers_count\"),\n",
        "    F.col(\"public_metrics.following_count\"),\n",
        "    F.col(\"public_metrics.listed_count\"),\n",
        "    F.col(\"public_metrics.tweet_count\"),\n",
        "    F.col(\"verified\")\n",
        "    )"
      ],
      "metadata": {
        "id": "GQAYasduAYqH"
      },
      "execution_count": 10,
      "outputs": []
    },
    {
      "cell_type": "code",
      "source": [
        "users_selected.printSchema()"
      ],
      "metadata": {
        "colab": {
          "base_uri": "https://localhost:8080/"
        },
        "id": "Ce5ND56SEn8R",
        "outputId": "64fc0c28-57cc-4cc9-ebb2-2b7b6b196b93"
      },
      "execution_count": 11,
      "outputs": [
        {
          "output_type": "stream",
          "name": "stdout",
          "text": [
            "root\n",
            " |-- id: string (nullable = true)\n",
            " |-- name: string (nullable = true)\n",
            " |-- username: string (nullable = true)\n",
            " |-- created_at: string (nullable = true)\n",
            " |-- description: string (nullable = true)\n",
            " |-- url: string (nullable = true)\n",
            " |-- cashtags: array (nullable = true)\n",
            " |    |-- element: struct (containsNull = true)\n",
            " |    |    |-- end: long (nullable = true)\n",
            " |    |    |-- start: long (nullable = true)\n",
            " |    |    |-- tag: string (nullable = true)\n",
            " |-- hashtags: array (nullable = true)\n",
            " |    |-- element: struct (containsNull = true)\n",
            " |    |    |-- end: long (nullable = true)\n",
            " |    |    |-- start: long (nullable = true)\n",
            " |    |    |-- tag: string (nullable = true)\n",
            " |-- mentions: array (nullable = true)\n",
            " |    |-- element: struct (containsNull = true)\n",
            " |    |    |-- end: long (nullable = true)\n",
            " |    |    |-- start: long (nullable = true)\n",
            " |    |    |-- username: string (nullable = true)\n",
            " |-- urls: array (nullable = true)\n",
            " |    |-- element: struct (containsNull = true)\n",
            " |    |    |-- display_url: string (nullable = true)\n",
            " |    |    |-- end: long (nullable = true)\n",
            " |    |    |-- expanded_url: string (nullable = true)\n",
            " |    |    |-- start: long (nullable = true)\n",
            " |    |    |-- url: string (nullable = true)\n",
            " |-- location: string (nullable = true)\n",
            " |-- pinned_tweet_id: long (nullable = true)\n",
            " |-- profile_image_url: string (nullable = true)\n",
            " |-- protected: boolean (nullable = true)\n",
            " |-- followers_count: long (nullable = true)\n",
            " |-- following_count: long (nullable = true)\n",
            " |-- listed_count: long (nullable = true)\n",
            " |-- tweet_count: long (nullable = true)\n",
            " |-- verified: boolean (nullable = true)\n",
            "\n"
          ]
        }
      ]
    },
    {
      "cell_type": "code",
      "source": [
        "#users_selected.show(5, truncate=False)"
      ],
      "metadata": {
        "id": "m1nb1FybEtUp"
      },
      "execution_count": 12,
      "outputs": []
    },
    {
      "cell_type": "code",
      "source": [
        "labels = spark.read.csv(f\"/content/label.csv\", header=True, inferSchema=True)"
      ],
      "metadata": {
        "id": "sDJSz4DuE6_2"
      },
      "execution_count": 13,
      "outputs": []
    },
    {
      "cell_type": "code",
      "source": [
        "labels.show(5, truncate=False)"
      ],
      "metadata": {
        "colab": {
          "base_uri": "https://localhost:8080/"
        },
        "id": "2S3i6OraGnzV",
        "outputId": "fb92eae6-4108-4a7d-ae1f-4d5f38c3aa6e"
      },
      "execution_count": 14,
      "outputs": [
        {
          "output_type": "stream",
          "name": "stdout",
          "text": [
            "+--------------------+-----+\n",
            "|id                  |label|\n",
            "+--------------------+-----+\n",
            "|u1217628182611927040|human|\n",
            "|u2664730894         |human|\n",
            "|u1266703520205549568|human|\n",
            "|u1089159225148882949|human|\n",
            "|u36741729           |bot  |\n",
            "+--------------------+-----+\n",
            "only showing top 5 rows\n",
            "\n"
          ]
        }
      ]
    },
    {
      "cell_type": "code",
      "source": [
        "users_labeled = users_selected.join(labels, users_selected.id == labels.id, \"left\").drop(labels.id)"
      ],
      "metadata": {
        "id": "Dx7pGZ1rGpSJ"
      },
      "execution_count": 15,
      "outputs": []
    },
    {
      "cell_type": "code",
      "source": [
        "#users_labeled.show(5, truncate=False)"
      ],
      "metadata": {
        "id": "yxJV0qKaG_Et"
      },
      "execution_count": 16,
      "outputs": []
    },
    {
      "cell_type": "code",
      "source": [
        "#print('Summary of missing values:')\n",
        "#users_labeled.select([F.count(F.when(F.isnull(c), c)).alias(c) for c in users_labeled.columns]).show()"
      ],
      "metadata": {
        "id": "e29uv2D-P3Zz"
      },
      "execution_count": 17,
      "outputs": []
    },
    {
      "cell_type": "code",
      "source": [
        "sia = SentimentIntensityAnalyzer()\n",
        "\n",
        "def vader_sentiment(text):\n",
        "  return sia.polarity_scores(text)[\"compound\"]\n",
        "\n",
        "vader_udf = F.udf(vader_sentiment, FloatType())"
      ],
      "metadata": {
        "id": "hR9nb9Q6P7CJ"
      },
      "execution_count": 18,
      "outputs": []
    },
    {
      "cell_type": "code",
      "source": [
        "def shannon_entropy(string):\n",
        "    if string.strip() == \"\":\n",
        "        return 0.0\n",
        "    counts = Counter(string)\n",
        "    length = len(string)\n",
        "    return -sum((count/length) * math.log2(count/length) for count in counts.values())\n",
        "\n",
        "entropy_udf = F.udf(shannon_entropy, FloatType())"
      ],
      "metadata": {
        "id": "T9Gc6ww0beC5"
      },
      "execution_count": 19,
      "outputs": []
    },
    {
      "cell_type": "code",
      "source": [
        "now = F.current_timestamp()"
      ],
      "metadata": {
        "id": "3JkuBNxKOLqc"
      },
      "execution_count": 20,
      "outputs": []
    },
    {
      "cell_type": "code",
      "source": [
        "user_features = users_labeled.select(\n",
        "    F.col(\"id\"),\n",
        "    F.length(F.col(\"name\")).alias(\"name_length\"),\n",
        "    F.length(F.col(\"username\")).alias(\"username_length\"),\n",
        "    (F.length(F.col(\"username\")) / F.greatest(F.length(F.col(\"name\")), F.lit(1))).alias(\"username_name_length_ratio\"),\n",
        "    F.regexp_replace(F.regexp_replace(F.regexp_replace(F.col(\"description\"), r\"https?://t\\.co/\\S+\", \"<URL>\"), r\"(?<=^|\\s)@\\w+\", \"<USER>\"), r\"\\b[\\w\\.-]+@[\\w\\.-]+\\.\\w+\\b\", \"<EMAIL>\").alias(\"description\"),\n",
        "    F.length(F.col(\"description\")).alias(\"description_length\"),\n",
        "    F.when(F.col(\"name\") == \"\", False).otherwise(True).alias(\"has_name\"),\n",
        "    F.when(F.col(\"username\") == \"\", False).otherwise(True).alias(\"has_username\"),\n",
        "    F.when(F.col(\"description\") == \"\", False).otherwise(True).alias(\"has_description\"),\n",
        "    F.when(F.col(\"url\") == \"\", False).otherwise(True).alias(\"has_url\"),\n",
        "    F.when(F.col(\"location\").isNull() | (F.col(\"location\") == \"\"), False).otherwise(True).alias(\"has_location\"),\n",
        "    F.when(F.col(\"pinned_tweet_id\").isNull(), False).otherwise(True).alias(\"has_pinned_tweet\"),\n",
        "    F.col(\"name\").rlike(\"(?i)\\\\bbot\\\\b\").alias(\"has_bot_word_in_name\"),\n",
        "    F.col(\"description\").rlike(\"(?i)\\\\bbot\\\\b\").alias(\"has_bot_word_in_description\"),\n",
        "    (F.length(F.regexp_replace(F.col(\"name\"), \"[^\\\\d]\", \"\")) / F.greatest(F.length(F.col(\"name\")), F.lit(1))).alias(\"ratio_digits_in_name\"),\n",
        "    (F.length(F.regexp_replace(F.col(\"username\"), \"[^\\\\d]\", \"\")) / F.greatest(F.length(F.col(\"username\")), F.lit(1))).alias(\"ratio_digits_in_username\"),\n",
        "    (F.length(F.regexp_replace(F.col(\"description\"), \"[^\\\\d]\", \"\")) / F.greatest(F.length(F.col(\"description\")), F.lit(1))).alias(\"ratio_digits_in_description\"),\n",
        "    (F.length(F.regexp_replace(F.col(\"name\"), \"[A-Za-z0-9 ]\", \"\")) / F.greatest(F.length(F.col(\"name\")), F.lit(1))).alias(\"ratio_special_chars_in_name\"),\n",
        "    (F.length(F.regexp_replace(F.col(\"username\"), \"[A-Za-z0-9 ]\", \"\")) / F.greatest(F.length(F.col(\"username\")), F.lit(1))).alias(\"ratio_special_chars_in_username\"),\n",
        "    (F.length(F.regexp_replace(F.col(\"description\"), \"[A-Za-z0-9 ]\", \"\")) / F.greatest(F.length(F.col(\"description\")), F.lit(1))).alias(\"ratio_special_chars_in_description\"),\n",
        "    (F.length(F.regexp_replace(F.col(\"name\"), \"[^A-Z]\", \"\")) / F.greatest(F.length(F.regexp_replace(F.col(\"name\"), \"[^a-z]\", \"\")), F.lit(1))).alias(\"name_upper_to_lower_ratio\"),\n",
        "    (F.length(F.regexp_replace(F.col(\"username\"), \"[^A-Z]\", \"\")) / F.greatest(F.length(F.regexp_replace(F.col(\"username\"), \"[^a-z]\", \"\")), F.lit(1))).alias(\"username_upper_to_lower_ratio\"),\n",
        "    entropy_udf(F.col(\"name\")).alias(\"name_entropy\"),\n",
        "    entropy_udf(F.col(\"username\")).alias(\"username_entropy\"),\n",
        "    (F.levenshtein(F.col(\"username\"), F.col(\"name\")) / F.greatest(F.length(F.col(\"username\")), F.length(F.col(\"name\")), F.lit(1))).alias(\"username_name_levenshtein\"),\n",
        "    vader_udf(F.col(\"description\")).alias(\"description_sentiment\"),\n",
        "    F.when(F.col(\"cashtags\").isNotNull(), F.size(F.col(\"cashtags\"))).otherwise(F.lit(0)).alias(\"cashtag_in_description_count\"),\n",
        "    F.when(F.col(\"hashtags\").isNotNull(), F.size(F.col(\"hashtags\"))).otherwise(F.lit(0)).alias(\"hashtag_in_description_count\"),\n",
        "    F.when(F.col(\"mentions\").isNotNull(), F.size(F.col(\"mentions\"))).otherwise(F.lit(0)).alias(\"mention_in_description_count\"),\n",
        "    F.when(F.col(\"urls\").isNotNull(), F.size(F.col(\"urls\"))).otherwise(F.lit(0)).alias(\"url_in_description_count\"),\n",
        "    F.col(\"protected\").alias(\"is_protected\"),\n",
        "    F.col(\"verified\").alias(\"is_verified\"),\n",
        "    (F.unix_timestamp(now) - F.unix_timestamp(F.to_timestamp(\"created_at\"))).alias(\"account_age_seconds\"),\n",
        "    F.col(\"followers_count\"),\n",
        "    F.col(\"following_count\"),\n",
        "    F.col(\"listed_count\"),\n",
        "    F.col(\"tweet_count\"),\n",
        "    (F.col(\"followers_count\") / F.greatest(F.col(\"following_count\"), F.lit(1))).alias(\"followers_over_following\"),\n",
        "    (2 * F.col(\"followers_count\") / F.greatest(F.col(\"following_count\"), F.lit(1))).alias(\"double_followers_over_following\"),\n",
        "    (F.col(\"following_count\") / F.greatest(F.col(\"followers_count\"), F.lit(1))).alias(\"following_over_followers\"),\n",
        "    (F.col(\"following_count\") / F.greatest(F.col(\"followers_count\") ** 2, F.lit(1))).alias(\"following_over_followers_squared\"),\n",
        "    (F.col(\"following_count\") / F.greatest(F.col(\"followers_count\") + F.col(\"following_count\"), F.lit(1))).alias(\"following_over_total_connections\"),\n",
        "    (F.col(\"listed_count\") / F.greatest(F.col(\"followers_count\"), F.lit(1))).alias(\"listed_over_followers\"),\n",
        "    (F.col(\"tweet_count\") / F.greatest(F.col(\"followers_count\"), F.lit(1))).alias(\"tweets_over_followers\"),\n",
        "    (F.col(\"listed_count\") / F.greatest(F.col(\"tweet_count\"), F.lit(1))).alias(\"listed_over_tweets\"),\n",
        "    (F.col(\"followers_count\") / (F.unix_timestamp(now) - F.unix_timestamp(F.to_timestamp(\"created_at\")))).alias(\"follower_rate\"),\n",
        "    (F.col(\"following_count\") / (F.unix_timestamp(now) - F.unix_timestamp(F.to_timestamp(\"created_at\")))).alias(\"following_rate\"),\n",
        "    (F.col(\"listed_count\") / (F.unix_timestamp(now) - F.unix_timestamp(F.to_timestamp(\"created_at\")))).alias(\"listed_rate\"),\n",
        "    (F.col(\"tweet_count\") / (F.unix_timestamp(now) - F.unix_timestamp(F.to_timestamp(\"created_at\")))).alias(\"tweet_rate\"),\n",
        "    F.col(\"label\")\n",
        "    )"
      ],
      "metadata": {
        "id": "S2TklOE1NR4W"
      },
      "execution_count": 21,
      "outputs": []
    },
    {
      "cell_type": "code",
      "source": [
        "#user_features.show(5, truncate=False)"
      ],
      "metadata": {
        "id": "cNzg48OdN_Hk"
      },
      "execution_count": 22,
      "outputs": []
    },
    {
      "cell_type": "code",
      "source": [
        "tweets = spark.read.json(f\"/content/tweet_0.jsonl\")\n",
        "\n",
        "tweets.printSchema()"
      ],
      "metadata": {
        "id": "BoXGa7V54LOz",
        "colab": {
          "base_uri": "https://localhost:8080/"
        },
        "outputId": "91a20ee7-ed02-4dfb-f90a-95750bf08fe7"
      },
      "execution_count": 23,
      "outputs": [
        {
          "output_type": "stream",
          "name": "stdout",
          "text": [
            "root\n",
            " |-- attachments: struct (nullable = true)\n",
            " |    |-- media_keys: array (nullable = true)\n",
            " |    |    |-- element: string (containsNull = true)\n",
            " |    |-- poll_ids: array (nullable = true)\n",
            " |    |    |-- element: string (containsNull = true)\n",
            " |-- author_id: long (nullable = true)\n",
            " |-- context_annotations: array (nullable = true)\n",
            " |    |-- element: struct (containsNull = true)\n",
            " |    |    |-- domain: struct (nullable = true)\n",
            " |    |    |    |-- description: string (nullable = true)\n",
            " |    |    |    |-- id: string (nullable = true)\n",
            " |    |    |    |-- name: string (nullable = true)\n",
            " |    |    |-- entity: struct (nullable = true)\n",
            " |    |    |    |-- description: string (nullable = true)\n",
            " |    |    |    |-- id: string (nullable = true)\n",
            " |    |    |    |-- name: string (nullable = true)\n",
            " |-- conversation_id: long (nullable = true)\n",
            " |-- created_at: string (nullable = true)\n",
            " |-- entities: struct (nullable = true)\n",
            " |    |-- annotations: array (nullable = true)\n",
            " |    |    |-- element: struct (containsNull = true)\n",
            " |    |    |    |-- end: long (nullable = true)\n",
            " |    |    |    |-- normalized_text: string (nullable = true)\n",
            " |    |    |    |-- probability: double (nullable = true)\n",
            " |    |    |    |-- start: long (nullable = true)\n",
            " |    |    |    |-- type: string (nullable = true)\n",
            " |    |-- cashtags: array (nullable = true)\n",
            " |    |    |-- element: struct (containsNull = true)\n",
            " |    |    |    |-- end: long (nullable = true)\n",
            " |    |    |    |-- start: long (nullable = true)\n",
            " |    |    |    |-- tag: string (nullable = true)\n",
            " |    |-- hashtags: array (nullable = true)\n",
            " |    |    |-- element: struct (containsNull = true)\n",
            " |    |    |    |-- end: long (nullable = true)\n",
            " |    |    |    |-- indices: array (nullable = true)\n",
            " |    |    |    |    |-- element: long (containsNull = true)\n",
            " |    |    |    |-- start: long (nullable = true)\n",
            " |    |    |    |-- tag: string (nullable = true)\n",
            " |    |    |    |-- text: string (nullable = true)\n",
            " |    |-- media: array (nullable = true)\n",
            " |    |    |-- element: struct (containsNull = true)\n",
            " |    |    |    |-- display_url: string (nullable = true)\n",
            " |    |    |    |-- expanded_url: string (nullable = true)\n",
            " |    |    |    |-- id: long (nullable = true)\n",
            " |    |    |    |-- id_str: string (nullable = true)\n",
            " |    |    |    |-- indices: array (nullable = true)\n",
            " |    |    |    |    |-- element: long (containsNull = true)\n",
            " |    |    |    |-- media_url: string (nullable = true)\n",
            " |    |    |    |-- media_url_https: string (nullable = true)\n",
            " |    |    |    |-- sizes: struct (nullable = true)\n",
            " |    |    |    |    |-- large: struct (nullable = true)\n",
            " |    |    |    |    |    |-- h: long (nullable = true)\n",
            " |    |    |    |    |    |-- resize: string (nullable = true)\n",
            " |    |    |    |    |    |-- w: long (nullable = true)\n",
            " |    |    |    |    |-- medium: struct (nullable = true)\n",
            " |    |    |    |    |    |-- h: long (nullable = true)\n",
            " |    |    |    |    |    |-- resize: string (nullable = true)\n",
            " |    |    |    |    |    |-- w: long (nullable = true)\n",
            " |    |    |    |    |-- small: struct (nullable = true)\n",
            " |    |    |    |    |    |-- h: long (nullable = true)\n",
            " |    |    |    |    |    |-- resize: string (nullable = true)\n",
            " |    |    |    |    |    |-- w: long (nullable = true)\n",
            " |    |    |    |    |-- thumb: struct (nullable = true)\n",
            " |    |    |    |    |    |-- h: long (nullable = true)\n",
            " |    |    |    |    |    |-- resize: string (nullable = true)\n",
            " |    |    |    |    |    |-- w: long (nullable = true)\n",
            " |    |    |    |-- source_status_id: long (nullable = true)\n",
            " |    |    |    |-- source_status_id_str: string (nullable = true)\n",
            " |    |    |    |-- source_user_id: long (nullable = true)\n",
            " |    |    |    |-- source_user_id_str: string (nullable = true)\n",
            " |    |    |    |-- type: string (nullable = true)\n",
            " |    |    |    |-- url: string (nullable = true)\n",
            " |    |-- mentions: array (nullable = true)\n",
            " |    |    |-- element: struct (containsNull = true)\n",
            " |    |    |    |-- end: long (nullable = true)\n",
            " |    |    |    |-- id: string (nullable = true)\n",
            " |    |    |    |-- start: long (nullable = true)\n",
            " |    |    |    |-- username: string (nullable = true)\n",
            " |    |-- symbols: array (nullable = true)\n",
            " |    |    |-- element: struct (containsNull = true)\n",
            " |    |    |    |-- indices: array (nullable = true)\n",
            " |    |    |    |    |-- element: long (containsNull = true)\n",
            " |    |    |    |-- text: string (nullable = true)\n",
            " |    |-- urls: array (nullable = true)\n",
            " |    |    |-- element: struct (containsNull = true)\n",
            " |    |    |    |-- description: string (nullable = true)\n",
            " |    |    |    |-- display_url: string (nullable = true)\n",
            " |    |    |    |-- end: long (nullable = true)\n",
            " |    |    |    |-- expanded_url: string (nullable = true)\n",
            " |    |    |    |-- images: array (nullable = true)\n",
            " |    |    |    |    |-- element: struct (containsNull = true)\n",
            " |    |    |    |    |    |-- height: long (nullable = true)\n",
            " |    |    |    |    |    |-- url: string (nullable = true)\n",
            " |    |    |    |    |    |-- width: long (nullable = true)\n",
            " |    |    |    |-- indices: array (nullable = true)\n",
            " |    |    |    |    |-- element: long (containsNull = true)\n",
            " |    |    |    |-- start: long (nullable = true)\n",
            " |    |    |    |-- status: long (nullable = true)\n",
            " |    |    |    |-- title: string (nullable = true)\n",
            " |    |    |    |-- unwound_url: string (nullable = true)\n",
            " |    |    |    |-- url: string (nullable = true)\n",
            " |    |-- user_mentions: array (nullable = true)\n",
            " |    |    |-- element: struct (containsNull = true)\n",
            " |    |    |    |-- id: long (nullable = true)\n",
            " |    |    |    |-- id_str: string (nullable = true)\n",
            " |    |    |    |-- indices: array (nullable = true)\n",
            " |    |    |    |    |-- element: long (containsNull = true)\n",
            " |    |    |    |-- name: string (nullable = true)\n",
            " |    |    |    |-- screen_name: string (nullable = true)\n",
            " |-- geo: struct (nullable = true)\n",
            " |    |-- coordinates: string (nullable = true)\n",
            " |    |-- place_id: string (nullable = true)\n",
            " |    |-- type: string (nullable = true)\n",
            " |-- id: string (nullable = true)\n",
            " |-- in_reply_to_user_id: long (nullable = true)\n",
            " |-- lang: string (nullable = true)\n",
            " |-- possibly_sensitive: boolean (nullable = true)\n",
            " |-- public_metrics: struct (nullable = true)\n",
            " |    |-- like_count: long (nullable = true)\n",
            " |    |-- quote_count: long (nullable = true)\n",
            " |    |-- reply_count: long (nullable = true)\n",
            " |    |-- retweet_count: long (nullable = true)\n",
            " |-- referenced_tweets: array (nullable = true)\n",
            " |    |-- element: struct (containsNull = true)\n",
            " |    |    |-- id: string (nullable = true)\n",
            " |    |    |-- type: string (nullable = true)\n",
            " |-- reply_settings: string (nullable = true)\n",
            " |-- source: string (nullable = true)\n",
            " |-- text: string (nullable = true)\n",
            " |-- withheld: struct (nullable = true)\n",
            " |    |-- copyright: boolean (nullable = true)\n",
            " |    |-- country_codes: array (nullable = true)\n",
            " |    |    |-- element: string (containsNull = true)\n",
            " |    |-- scope: string (nullable = true)\n",
            "\n"
          ]
        }
      ]
    },
    {
      "cell_type": "code",
      "source": [
        "#tweets.show(5, truncate=False)"
      ],
      "metadata": {
        "id": "WQcJouz95AqR"
      },
      "execution_count": 24,
      "outputs": []
    },
    {
      "cell_type": "code",
      "source": [
        "tweets_selected = tweets.select(\n",
        "    F.col(\"id\"),\n",
        "    F.regexp_replace(F.regexp_replace(F.regexp_replace(F.col(\"text\"), r\"https?://t\\.co/\\S+\", \"<URL>\"), r\"(?<=^|\\s)@\\w+\", \"<USER>\"), r\"\\b[\\w\\.-]+@[\\w\\.-]+\\.\\w+\\b\", \"<EMAIL>\").alias(\"text\"),\n",
        "    F.concat(F.lit(\"u\"), F.col(\"author_id\")).alias(\"author_id\"),\n",
        "    F.col(\"created_at\"),\n",
        "    F.when(F.col(\"in_reply_to_user_id\").isNull(), False).otherwise(True).cast(\"int\").alias(\"is_reply\"),\n",
        "    F.col(\"lang\"),\n",
        "    F.col(\"possibly_sensitive\").cast(\"int\").alias(\"is_sensitive\"),\n",
        "    F.col(\"public_metrics.like_count\"),\n",
        "    F.col(\"public_metrics.quote_count\"),\n",
        "    F.col(\"public_metrics.reply_count\"),\n",
        "    F.col(\"public_metrics.retweet_count\")\n",
        "    )"
      ],
      "metadata": {
        "id": "YUIgowMCnixE"
      },
      "execution_count": 25,
      "outputs": []
    },
    {
      "cell_type": "code",
      "source": [
        "tweets_selected.printSchema()"
      ],
      "metadata": {
        "colab": {
          "base_uri": "https://localhost:8080/"
        },
        "id": "Ksw3FbI0oI30",
        "outputId": "e2ac79a2-2095-4be3-c291-92ca977a3a3a"
      },
      "execution_count": 26,
      "outputs": [
        {
          "output_type": "stream",
          "name": "stdout",
          "text": [
            "root\n",
            " |-- id: string (nullable = true)\n",
            " |-- text: string (nullable = true)\n",
            " |-- author_id: string (nullable = true)\n",
            " |-- created_at: string (nullable = true)\n",
            " |-- is_reply: integer (nullable = false)\n",
            " |-- lang: string (nullable = true)\n",
            " |-- is_sensitive: integer (nullable = true)\n",
            " |-- like_count: long (nullable = true)\n",
            " |-- quote_count: long (nullable = true)\n",
            " |-- reply_count: long (nullable = true)\n",
            " |-- retweet_count: long (nullable = true)\n",
            "\n"
          ]
        }
      ]
    },
    {
      "cell_type": "code",
      "source": [
        "#tweets_selected.show(5, truncate=False)"
      ],
      "metadata": {
        "id": "Olt6LrVdNQEB"
      },
      "execution_count": 27,
      "outputs": []
    },
    {
      "cell_type": "code",
      "source": [
        "#print('Summary of missing values:')\n",
        "#tweets_selected.select([F.count(F.when(F.isnull(c), c)).alias(c) for c in tweets_selected.columns]).show()"
      ],
      "metadata": {
        "id": "nwL2Tp8gNydF"
      },
      "execution_count": 28,
      "outputs": []
    },
    {
      "cell_type": "code",
      "source": [
        "# Truncate each tweet to 20 tokens\n",
        "def truncate_text(text, max_tokens=20):\n",
        "    tokens = text.split()\n",
        "    return \" \".join(tokens[:max_tokens])\n",
        "\n",
        "truncate_udf = F.udf(lambda x: truncate_text(x, 20), StringType())\n",
        "\n",
        "tweets_truncated = tweets_selected.withColumn(\n",
        "    \"text_truncated\", truncate_udf(\"text\")\n",
        ")"
      ],
      "metadata": {
        "id": "U99XIObrSVHW"
      },
      "execution_count": 29,
      "outputs": []
    },
    {
      "cell_type": "code",
      "source": [
        "#tweets_truncated.show(1, truncate=False)"
      ],
      "metadata": {
        "id": "wY8BAFM5Utlb"
      },
      "execution_count": 30,
      "outputs": []
    },
    {
      "cell_type": "code",
      "source": [
        "# Filter top tweets per author\n",
        "top_n = 10\n",
        "\n",
        "window = Window.partitionBy(\"author_id\").orderBy(F.col(\"created_at\").desc())\n",
        "tweets_truncated = tweets_truncated.withColumn(\"rank\", F.row_number().over(window))\n",
        "tweets_filtered = tweets_truncated.filter(F.col(\"rank\") <= top_n).drop(\"rank\")"
      ],
      "metadata": {
        "id": "3jkN_YbEKD1n"
      },
      "execution_count": 31,
      "outputs": []
    },
    {
      "cell_type": "code",
      "source": [
        "text_column = \"text\"\n",
        "\n",
        "tweet_features = tweets_filtered.groupBy(\"author_id\").agg(\n",
        "    F.concat_ws(\" \", F.collect_list(text_column)).alias(\"tweets_last20_concatenated_text\"),\n",
        "    F.avg(F.col(\"is_reply\")).alias(\"tweets_last20_reply_fraction\"),\n",
        "    F.countDistinct(\"lang\").alias(\"tweets_last20_num_distinct_langs\"),\n",
        "    F.avg(F.col(\"is_sensitive\")).alias(\"tweets_last20_sensitive_fraction\"),\n",
        "    F.avg(F.col(\"like_count\")).alias(\"tweets_last20_avg_likes\"),\n",
        "    F.avg(F.col(\"quote_count\")).alias(\"tweets_last20_avg_quotes\"),\n",
        "    F.avg(F.col(\"reply_count\")).alias(\"tweets_last20_avg_replies\"),\n",
        "    F.avg(F.col(\"retweet_count\")).alias(\"tweets_last20_avg_retweets\")\n",
        "    )"
      ],
      "metadata": {
        "id": "dOdcif7GIdfN"
      },
      "execution_count": 32,
      "outputs": []
    },
    {
      "cell_type": "code",
      "source": [
        "# Join user features with aggregated tweet features\n",
        "enriched_user_features = user_features.join(\n",
        "    tweet_features,\n",
        "    user_features.id == tweet_features.author_id,\n",
        "    how=\"inner\"\n",
        ").drop(\"author_id\")"
      ],
      "metadata": {
        "id": "ezqCAy0aPDmS"
      },
      "execution_count": 33,
      "outputs": []
    },
    {
      "cell_type": "code",
      "source": [
        "enriched_user_features.printSchema()"
      ],
      "metadata": {
        "colab": {
          "base_uri": "https://localhost:8080/"
        },
        "id": "tw__NrC-khyD",
        "outputId": "ea669e67-25b8-4065-95c7-ef357940e644"
      },
      "execution_count": 34,
      "outputs": [
        {
          "output_type": "stream",
          "name": "stdout",
          "text": [
            "root\n",
            " |-- id: string (nullable = true)\n",
            " |-- name_length: integer (nullable = true)\n",
            " |-- username_length: integer (nullable = true)\n",
            " |-- username_name_length_ratio: double (nullable = true)\n",
            " |-- description: string (nullable = true)\n",
            " |-- description_length: integer (nullable = true)\n",
            " |-- has_name: boolean (nullable = false)\n",
            " |-- has_username: boolean (nullable = false)\n",
            " |-- has_description: boolean (nullable = false)\n",
            " |-- has_url: boolean (nullable = false)\n",
            " |-- has_location: boolean (nullable = false)\n",
            " |-- has_pinned_tweet: boolean (nullable = false)\n",
            " |-- has_bot_word_in_name: boolean (nullable = true)\n",
            " |-- has_bot_word_in_description: boolean (nullable = true)\n",
            " |-- ratio_digits_in_name: double (nullable = true)\n",
            " |-- ratio_digits_in_username: double (nullable = true)\n",
            " |-- ratio_digits_in_description: double (nullable = true)\n",
            " |-- ratio_special_chars_in_name: double (nullable = true)\n",
            " |-- ratio_special_chars_in_username: double (nullable = true)\n",
            " |-- ratio_special_chars_in_description: double (nullable = true)\n",
            " |-- name_upper_to_lower_ratio: double (nullable = true)\n",
            " |-- username_upper_to_lower_ratio: double (nullable = true)\n",
            " |-- name_entropy: float (nullable = true)\n",
            " |-- username_entropy: float (nullable = true)\n",
            " |-- username_name_levenshtein: double (nullable = true)\n",
            " |-- description_sentiment: float (nullable = true)\n",
            " |-- cashtag_in_description_count: integer (nullable = false)\n",
            " |-- hashtag_in_description_count: integer (nullable = false)\n",
            " |-- mention_in_description_count: integer (nullable = false)\n",
            " |-- url_in_description_count: integer (nullable = false)\n",
            " |-- is_protected: boolean (nullable = true)\n",
            " |-- is_verified: boolean (nullable = true)\n",
            " |-- account_age_seconds: long (nullable = true)\n",
            " |-- followers_count: long (nullable = true)\n",
            " |-- following_count: long (nullable = true)\n",
            " |-- listed_count: long (nullable = true)\n",
            " |-- tweet_count: long (nullable = true)\n",
            " |-- followers_over_following: double (nullable = true)\n",
            " |-- double_followers_over_following: double (nullable = true)\n",
            " |-- following_over_followers: double (nullable = true)\n",
            " |-- following_over_followers_squared: double (nullable = true)\n",
            " |-- following_over_total_connections: double (nullable = true)\n",
            " |-- listed_over_followers: double (nullable = true)\n",
            " |-- tweets_over_followers: double (nullable = true)\n",
            " |-- listed_over_tweets: double (nullable = true)\n",
            " |-- follower_rate: double (nullable = true)\n",
            " |-- following_rate: double (nullable = true)\n",
            " |-- listed_rate: double (nullable = true)\n",
            " |-- tweet_rate: double (nullable = true)\n",
            " |-- label: string (nullable = true)\n",
            " |-- tweets_last20_concatenated_text: string (nullable = false)\n",
            " |-- tweets_last20_reply_fraction: double (nullable = true)\n",
            " |-- tweets_last20_num_distinct_langs: long (nullable = false)\n",
            " |-- tweets_last20_sensitive_fraction: double (nullable = true)\n",
            " |-- tweets_last20_avg_likes: double (nullable = true)\n",
            " |-- tweets_last20_avg_quotes: double (nullable = true)\n",
            " |-- tweets_last20_avg_replies: double (nullable = true)\n",
            " |-- tweets_last20_avg_retweets: double (nullable = true)\n",
            "\n"
          ]
        }
      ]
    },
    {
      "cell_type": "code",
      "source": [
        "#enriched_user_features.show(5, truncate=False)"
      ],
      "metadata": {
        "id": "Z4pZW8hmS9cZ"
      },
      "execution_count": 35,
      "outputs": []
    },
    {
      "cell_type": "code",
      "source": [
        "# Set the fraction of data to use (e.g., 0.5 for 50%)\n",
        "DATA_FRACTION = 0.01\n",
        "\n",
        "assert 0 < DATA_FRACTION <= 1, 'ERROR: DATA_FRACTION must be between 0 and 1 (exclusive).'"
      ],
      "metadata": {
        "id": "IdvPet3jt14x"
      },
      "execution_count": 36,
      "outputs": []
    },
    {
      "cell_type": "code",
      "source": [
        "# Sample the dataset according to DATA_FRACTION\n",
        "if DATA_FRACTION < 1:\n",
        "  print(f'Sampling {DATA_FRACTION * 100:.0f}% of the dataset.')\n",
        "  enriched_user_features = enriched_user_features.sample(False, DATA_FRACTION, 42)\n",
        "else:\n",
        "  print('Using the entire dataset.')"
      ],
      "metadata": {
        "colab": {
          "base_uri": "https://localhost:8080/"
        },
        "id": "SHf1GiQhoxhn",
        "outputId": "134a00a5-d54b-4f8d-b9ef-686f56bd4490"
      },
      "execution_count": 37,
      "outputs": [
        {
          "output_type": "stream",
          "name": "stdout",
          "text": [
            "Sampling 1% of the dataset.\n"
          ]
        }
      ]
    },
    {
      "cell_type": "code",
      "source": [
        "text_features = enriched_user_features.select(\n",
        "    F.col(\"id\"),\n",
        "    F.col(\"description\"),\n",
        "    F.col(\"tweets_last20_concatenated_text\")\n",
        "    )"
      ],
      "metadata": {
        "id": "aJOcmgbKym9c"
      },
      "execution_count": 38,
      "outputs": []
    },
    {
      "cell_type": "code",
      "source": [
        "desc_doc = DocumentAssembler() \\\n",
        "    .setInputCol(\"description\") \\\n",
        "    .setOutputCol(\"description_doc\")\n",
        "\n",
        "desc_embed = XlmRoBertaSentenceEmbeddings.pretrained(\"sent_xlm_roberta_base\", \"xx\") \\\n",
        "    .setInputCols([\"description_doc\"]) \\\n",
        "    .setOutputCol(\"description_embeddings\")\n",
        "\n",
        "tweets_doc = DocumentAssembler() \\\n",
        "    .setInputCol(\"tweets_last20_concatenated_text\") \\\n",
        "    .setOutputCol(\"tweets_doc\")\n",
        "\n",
        "tweets_embed = XlmRoBertaSentenceEmbeddings.pretrained(\"sent_xlm_roberta_base\", \"xx\") \\\n",
        "    .setInputCols([\"tweets_doc\"]) \\\n",
        "    .setOutputCol(\"tweets_embeddings\")\n",
        "\n",
        "pipeline = Pipeline(stages=[desc_doc, desc_embed, tweets_doc, tweets_embed])\n",
        "\n",
        "model = pipeline.fit(text_features)\n",
        "text_embeddings = model.transform(text_features)"
      ],
      "metadata": {
        "colab": {
          "base_uri": "https://localhost:8080/"
        },
        "id": "WiUWF7g2e0bO",
        "outputId": "d2feed8a-36bb-41cf-da93-9a37cff2faf0"
      },
      "execution_count": 39,
      "outputs": [
        {
          "output_type": "stream",
          "name": "stdout",
          "text": [
            "sent_xlm_roberta_base download started this may take some time.\n",
            "Approximate size to download 619.5 MB\n",
            "[OK!]\n",
            "sent_xlm_roberta_base download started this may take some time.\n",
            "Approximate size to download 619.5 MB\n",
            "[OK!]\n"
          ]
        }
      ]
    },
    {
      "cell_type": "code",
      "source": [
        "text_embeddings.printSchema()"
      ],
      "metadata": {
        "colab": {
          "base_uri": "https://localhost:8080/"
        },
        "id": "gKsAYwY1geco",
        "outputId": "5043d08f-2929-45c0-990c-e16ee8c7b466"
      },
      "execution_count": 40,
      "outputs": [
        {
          "output_type": "stream",
          "name": "stdout",
          "text": [
            "root\n",
            " |-- id: string (nullable = true)\n",
            " |-- description: string (nullable = true)\n",
            " |-- tweets_last20_concatenated_text: string (nullable = false)\n",
            " |-- description_doc: array (nullable = true)\n",
            " |    |-- element: struct (containsNull = true)\n",
            " |    |    |-- annotatorType: string (nullable = true)\n",
            " |    |    |-- begin: integer (nullable = false)\n",
            " |    |    |-- end: integer (nullable = false)\n",
            " |    |    |-- result: string (nullable = true)\n",
            " |    |    |-- metadata: map (nullable = true)\n",
            " |    |    |    |-- key: string\n",
            " |    |    |    |-- value: string (valueContainsNull = true)\n",
            " |    |    |-- embeddings: array (nullable = true)\n",
            " |    |    |    |-- element: float (containsNull = false)\n",
            " |-- description_embeddings: array (nullable = true)\n",
            " |    |-- element: struct (containsNull = true)\n",
            " |    |    |-- annotatorType: string (nullable = true)\n",
            " |    |    |-- begin: integer (nullable = false)\n",
            " |    |    |-- end: integer (nullable = false)\n",
            " |    |    |-- result: string (nullable = true)\n",
            " |    |    |-- metadata: map (nullable = true)\n",
            " |    |    |    |-- key: string\n",
            " |    |    |    |-- value: string (valueContainsNull = true)\n",
            " |    |    |-- embeddings: array (nullable = true)\n",
            " |    |    |    |-- element: float (containsNull = false)\n",
            " |-- tweets_doc: array (nullable = true)\n",
            " |    |-- element: struct (containsNull = true)\n",
            " |    |    |-- annotatorType: string (nullable = true)\n",
            " |    |    |-- begin: integer (nullable = false)\n",
            " |    |    |-- end: integer (nullable = false)\n",
            " |    |    |-- result: string (nullable = true)\n",
            " |    |    |-- metadata: map (nullable = true)\n",
            " |    |    |    |-- key: string\n",
            " |    |    |    |-- value: string (valueContainsNull = true)\n",
            " |    |    |-- embeddings: array (nullable = true)\n",
            " |    |    |    |-- element: float (containsNull = false)\n",
            " |-- tweets_embeddings: array (nullable = true)\n",
            " |    |-- element: struct (containsNull = true)\n",
            " |    |    |-- annotatorType: string (nullable = true)\n",
            " |    |    |-- begin: integer (nullable = false)\n",
            " |    |    |-- end: integer (nullable = false)\n",
            " |    |    |-- result: string (nullable = true)\n",
            " |    |    |-- metadata: map (nullable = true)\n",
            " |    |    |    |-- key: string\n",
            " |    |    |    |-- value: string (valueContainsNull = true)\n",
            " |    |    |-- embeddings: array (nullable = true)\n",
            " |    |    |    |-- element: float (containsNull = false)\n",
            "\n"
          ]
        }
      ]
    },
    {
      "cell_type": "code",
      "source": [
        "text_module = text_embeddings.select(\n",
        "    \"id\",\n",
        "    F.col(\"description_embeddings\")[0][\"embeddings\"].alias(\"description_vector\"),\n",
        "    F.col(\"tweets_embeddings\")[0][\"embeddings\"].alias(\"tweets_vector\")\n",
        "    )"
      ],
      "metadata": {
        "id": "yo_KpfDGrRm6"
      },
      "execution_count": 41,
      "outputs": []
    },
    {
      "cell_type": "code",
      "source": [
        "text_module.printSchema()"
      ],
      "metadata": {
        "colab": {
          "base_uri": "https://localhost:8080/"
        },
        "id": "ry6Y5iLNzWzZ",
        "outputId": "d65a9a03-5486-421d-c332-3725bea3d31a"
      },
      "execution_count": 42,
      "outputs": [
        {
          "output_type": "stream",
          "name": "stdout",
          "text": [
            "root\n",
            " |-- id: string (nullable = true)\n",
            " |-- description_vector: array (nullable = true)\n",
            " |    |-- element: float (containsNull = false)\n",
            " |-- tweets_vector: array (nullable = true)\n",
            " |    |-- element: float (containsNull = false)\n",
            "\n"
          ]
        }
      ]
    },
    {
      "cell_type": "code",
      "source": [
        "user_module = enriched_user_features.drop(\n",
        "    \"description\",\n",
        "    \"tweets_last20_concatenated_text\"\n",
        "    )"
      ],
      "metadata": {
        "id": "wjt0Pw8PDpSe"
      },
      "execution_count": 43,
      "outputs": []
    },
    {
      "cell_type": "code",
      "source": [
        "user_module.printSchema()"
      ],
      "metadata": {
        "colab": {
          "base_uri": "https://localhost:8080/"
        },
        "id": "HBf2D6ATEBJl",
        "outputId": "9352b3ac-b3a8-46c7-bc90-08b5009ce266"
      },
      "execution_count": 44,
      "outputs": [
        {
          "output_type": "stream",
          "name": "stdout",
          "text": [
            "root\n",
            " |-- id: string (nullable = true)\n",
            " |-- name_length: integer (nullable = true)\n",
            " |-- username_length: integer (nullable = true)\n",
            " |-- username_name_length_ratio: double (nullable = true)\n",
            " |-- description_length: integer (nullable = true)\n",
            " |-- has_name: boolean (nullable = false)\n",
            " |-- has_username: boolean (nullable = false)\n",
            " |-- has_description: boolean (nullable = false)\n",
            " |-- has_url: boolean (nullable = false)\n",
            " |-- has_location: boolean (nullable = false)\n",
            " |-- has_pinned_tweet: boolean (nullable = false)\n",
            " |-- has_bot_word_in_name: boolean (nullable = true)\n",
            " |-- has_bot_word_in_description: boolean (nullable = true)\n",
            " |-- ratio_digits_in_name: double (nullable = true)\n",
            " |-- ratio_digits_in_username: double (nullable = true)\n",
            " |-- ratio_digits_in_description: double (nullable = true)\n",
            " |-- ratio_special_chars_in_name: double (nullable = true)\n",
            " |-- ratio_special_chars_in_username: double (nullable = true)\n",
            " |-- ratio_special_chars_in_description: double (nullable = true)\n",
            " |-- name_upper_to_lower_ratio: double (nullable = true)\n",
            " |-- username_upper_to_lower_ratio: double (nullable = true)\n",
            " |-- name_entropy: float (nullable = true)\n",
            " |-- username_entropy: float (nullable = true)\n",
            " |-- username_name_levenshtein: double (nullable = true)\n",
            " |-- description_sentiment: float (nullable = true)\n",
            " |-- cashtag_in_description_count: integer (nullable = false)\n",
            " |-- hashtag_in_description_count: integer (nullable = false)\n",
            " |-- mention_in_description_count: integer (nullable = false)\n",
            " |-- url_in_description_count: integer (nullable = false)\n",
            " |-- is_protected: boolean (nullable = true)\n",
            " |-- is_verified: boolean (nullable = true)\n",
            " |-- account_age_seconds: long (nullable = true)\n",
            " |-- followers_count: long (nullable = true)\n",
            " |-- following_count: long (nullable = true)\n",
            " |-- listed_count: long (nullable = true)\n",
            " |-- tweet_count: long (nullable = true)\n",
            " |-- followers_over_following: double (nullable = true)\n",
            " |-- double_followers_over_following: double (nullable = true)\n",
            " |-- following_over_followers: double (nullable = true)\n",
            " |-- following_over_followers_squared: double (nullable = true)\n",
            " |-- following_over_total_connections: double (nullable = true)\n",
            " |-- listed_over_followers: double (nullable = true)\n",
            " |-- tweets_over_followers: double (nullable = true)\n",
            " |-- listed_over_tweets: double (nullable = true)\n",
            " |-- follower_rate: double (nullable = true)\n",
            " |-- following_rate: double (nullable = true)\n",
            " |-- listed_rate: double (nullable = true)\n",
            " |-- tweet_rate: double (nullable = true)\n",
            " |-- label: string (nullable = true)\n",
            " |-- tweets_last20_reply_fraction: double (nullable = true)\n",
            " |-- tweets_last20_num_distinct_langs: long (nullable = false)\n",
            " |-- tweets_last20_sensitive_fraction: double (nullable = true)\n",
            " |-- tweets_last20_avg_likes: double (nullable = true)\n",
            " |-- tweets_last20_avg_quotes: double (nullable = true)\n",
            " |-- tweets_last20_avg_replies: double (nullable = true)\n",
            " |-- tweets_last20_avg_retweets: double (nullable = true)\n",
            "\n"
          ]
        }
      ]
    },
    {
      "cell_type": "code",
      "source": [
        "# Train, validation, test split\n",
        "train_frac = 0.7\n",
        "val_frac = 0.2\n",
        "test_frac = 0.1\n",
        "\n",
        "train_df, val_df, test_df = user_module.randomSplit([train_frac, val_frac, test_frac], seed=42)"
      ],
      "metadata": {
        "id": "YzSLM2tk3R_Z"
      },
      "execution_count": 76,
      "outputs": []
    },
    {
      "cell_type": "code",
      "source": [
        "# Standardize numerical features\n",
        "numeric_cols = [\n",
        "    f.name for f in train_df.schema.fields if isinstance(f.dataType, NumericType)\n",
        "    ]\n",
        "\n",
        "w = Window.rowsBetween(Window.unboundedPreceding, Window.unboundedFollowing)\n",
        "\n",
        "for c in numeric_cols:\n",
        "    mean_c = F.mean(c).over(w)\n",
        "    std_c  = F.stddev(c).over(w)\n",
        "\n",
        "    train_df = train_df.withColumn(f\"{c}_scaled\", (F.col(c) - mean_c) / std_c)"
      ],
      "metadata": {
        "id": "LAxGE5MWKtYX"
      },
      "execution_count": 77,
      "outputs": []
    },
    {
      "cell_type": "code",
      "source": [
        "cols = [\n",
        "    f.name for f in train_df.schema.fields\n",
        "    if f.name not in numeric_cols\n",
        "]\n",
        "\n",
        "train_df = train_df.select(cols)"
      ],
      "metadata": {
        "id": "rp1GpoKsL_a0"
      },
      "execution_count": 78,
      "outputs": []
    },
    {
      "cell_type": "code",
      "source": [
        "train_df.show(5)"
      ],
      "metadata": {
        "colab": {
          "base_uri": "https://localhost:8080/"
        },
        "id": "Q2FK7kGxh4tD",
        "outputId": "8c3fe67e-3039-4034-d2b6-955d6ef283c0"
      },
      "execution_count": 79,
      "outputs": [
        {
          "output_type": "stream",
          "name": "stdout",
          "text": [
            "+--------------------+--------+------------+---------------+-------+------------+----------------+--------------------+---------------------------+------------+-----------+-----+--------------------+----------------------+---------------------------------+-------------------------+---------------------------+-------------------------------+----------------------------------+----------------------------------+--------------------------------------+-----------------------------------------+--------------------------------+------------------------------------+--------------------+-----------------------+--------------------------------+----------------------------+-----------------------------------+-----------------------------------+-----------------------------------+-------------------------------+--------------------------+----------------------+----------------------+--------------------+--------------------+-------------------------------+--------------------------------------+-------------------------------+---------------------------------------+---------------------------------------+----------------------------+----------------------------+-------------------------+--------------------+---------------------+--------------------+--------------------+-----------------------------------+---------------------------------------+---------------------------------------+------------------------------+-------------------------------+--------------------------------+---------------------------------+\n",
            "|                  id|has_name|has_username|has_description|has_url|has_location|has_pinned_tweet|has_bot_word_in_name|has_bot_word_in_description|is_protected|is_verified|label|  name_length_scaled|username_length_scaled|username_name_length_ratio_scaled|description_length_scaled|ratio_digits_in_name_scaled|ratio_digits_in_username_scaled|ratio_digits_in_description_scaled|ratio_special_chars_in_name_scaled|ratio_special_chars_in_username_scaled|ratio_special_chars_in_description_scaled|name_upper_to_lower_ratio_scaled|username_upper_to_lower_ratio_scaled| name_entropy_scaled|username_entropy_scaled|username_name_levenshtein_scaled|description_sentiment_scaled|cashtag_in_description_count_scaled|hashtag_in_description_count_scaled|mention_in_description_count_scaled|url_in_description_count_scaled|account_age_seconds_scaled|followers_count_scaled|following_count_scaled| listed_count_scaled|  tweet_count_scaled|followers_over_following_scaled|double_followers_over_following_scaled|following_over_followers_scaled|following_over_followers_squared_scaled|following_over_total_connections_scaled|listed_over_followers_scaled|tweets_over_followers_scaled|listed_over_tweets_scaled|follower_rate_scaled|following_rate_scaled|  listed_rate_scaled|   tweet_rate_scaled|tweets_last20_reply_fraction_scaled|tweets_last20_num_distinct_langs_scaled|tweets_last20_sensitive_fraction_scaled|tweets_last20_avg_likes_scaled|tweets_last20_avg_quotes_scaled|tweets_last20_avg_replies_scaled|tweets_last20_avg_retweets_scaled|\n",
            "+--------------------+--------+------------+---------------+-------+------------+----------------+--------------------+---------------------------+------------+-----------+-----+--------------------+----------------------+---------------------------------+-------------------------+---------------------------+-------------------------------+----------------------------------+----------------------------------+--------------------------------------+-----------------------------------------+--------------------------------+------------------------------------+--------------------+-----------------------+--------------------------------+----------------------------+-----------------------------------+-----------------------------------+-----------------------------------+-------------------------------+--------------------------+----------------------+----------------------+--------------------+--------------------+-------------------------------+--------------------------------------+-------------------------------+---------------------------------------+---------------------------------------+----------------------------+----------------------------+-------------------------+--------------------+---------------------+--------------------+--------------------+-----------------------------------+---------------------------------------+---------------------------------------+------------------------------+-------------------------------+--------------------------------+---------------------------------+\n",
            "|           u10065202|    true|        true|           true|   true|        true|           false|               false|                      false|       false|      false|human| 0.30912805008815214|   -1.8505295057969071|              -0.8900258245163705|      -1.5565703633784733|       -0.12628797537415526|            -0.3509657986005301|              -0.38071565882287917|                 1.279711988125011|                  -0.40868489021877175|                        5.768928957848247|            -0.15868117140443397|                  0.1195348975474859|  1.0035217493442963|    -1.1269166487724749|              0.5497592655325987|         -0.4664559685490628|               -0.05774754071849...|                -0.3686184949070185|                -0.5084430562944171|           -0.32566807619377874|         1.396309529080238|   -0.0798074025335289|  -0.10084497382215915|-0.06361459279216798|  0.6277318434694004|           -0.04212484277378408|                  -0.04212484277378408|           -0.23971916603119633|                   -0.07979021550472348|                    -1.0333099430326957|         -0.2566184605116246|        -0.13744463362629006|     -0.13806490027495294|-0.08492238252384061| -0.14338601309488422|-0.10818855755853628|  0.2794774181815916|                -0.7390814335700431|                    -0.6724538286494077|                    -0.1028821641600044|          -0.07583364770117114|           -0.05445408432326...|            -0.04019143133873389|             -0.17148549389839893|\n",
            "|          u100818387|    true|        true|           true|   true|        true|           false|               false|                      false|       false|      false|human| 0.17569975684080086|   -1.1119095568164643|              -0.6683524466235574|       0.4487289358624729|       -0.12628797537415526|             1.8299305154762178|              -0.38071565882287917|              -0.36957307460267785|                  -0.40868489021877175|                      0.21773268949662047|            -0.23353885515432515|                 -0.3040054470350397|  0.5899961595857892|     -0.692048064945489|              0.4906602309728336|          0.9875480271267063|               -0.05774754071849...|                -0.3686184949070185|                 1.3895261964860293|           -0.32566807619377874|        0.8915604390371452|  -0.10240514046484421|  -0.13067362178417596|-0.23610927200469606|-0.35716241440158164|           -0.04227110694835...|                  -0.04227110694835...|            -0.1429519077329838|                   -0.07924293830061505|                     0.3870878468470636|         0.28399517026412163|        -0.17156088667888997|     -0.09929050947132124|-0.10121545120487976| -0.16792155220519484|-0.25595490441201935|-0.34178576548370915|                 1.0079166626372673|                     0.5676835977946509|                    -0.1028821641600044|          -0.07520992473267968|                           NULL|                            NULL|              -0.1707045119515638|\n",
            "|         u1018494942|    true|        true|           true|   true|        true|            true|               false|                      false|       false|      false|human| -0.6248700026433069|   -0.7425995823262429|             -0.06540085875510539|       1.3110076345360797|       -0.12628797537415526|            -0.3509657986005301|              -0.13341288725674083|              -0.36957307460267785|                  -0.40868489021877175|                     7.313808246932216E-4|             -0.3208728195291982|                 -0.3040054470350397| -0.7252999594000408|    -0.9776677872204693|             -1.3981449135572517|         -1.1587368357493741|               -0.05774754071849...|                -0.3686184949070185|                -0.5084430562944171|             2.0280700445836874|       0.19502551437122792|   -0.0955084119835355|   -0.0577545585529299|-0.19317068232947446|   -0.29580649464887|           -0.04225678668015136|                  -0.04225678668015136|           -0.20297333863956846|                   -0.07977678035182029|                   -0.30078067251367774|         -0.2938695919045755|        -0.18064776998310283|     -0.11628051666075505|-0.09413703477817696| -0.07583953194285611| -0.2019756184603253| -0.2862167454455853|                -0.7390814335700431|                    -0.6724538286494077|                    -0.1028821641600044|          -0.07583364770117114|           -0.05445408432326...|            -0.04019143133873389|              -0.1456851974404523|\n",
            "|u1031572036831924224|    true|        true|           true|  false|        true|           false|               false|                      false|       false|      false|  bot|  0.9762695163249087|   -0.7425995823262429|              -0.8053868984118419|      -0.9148745876213704|       -0.12628797537415526|            -0.3509657986005301|              -0.38071565882287917|              -0.36957307460267785|                  -0.40868489021877175|                      -0.5315505048140152|            -0.22069562509919674|                  0.1195348975474859|  0.8058485809795877|    -1.3422052354402703|              0.1801216675587965|         -0.4664559685490628|               -0.05774754071849...|                -0.3686184949070185|                -0.5084430562944171|           -0.32566807619377874|        -1.138399677145393|  -0.10155149820998893|  -0.13170646970529842| -0.2383302335396213|-0.35500978148080975|           -0.04224865594531276|                  -0.04224865594531276|            -0.2137693257924833|                   -0.07973095045394203|                   -0.48038331244104826|        -0.38261593540243344|        -0.18324676022234426|     -0.11845155138466791|-0.09919686006644952| -0.15505405482267276|-0.25010602588453573|-0.33180704842684833|                -0.7390814335700431|                    -0.6724538286494077|                    -0.1028821641600044|          -0.07583364770117114|           -0.05445408432326...|            -0.04019143133873389|             -0.17120657177452925|\n",
            "|u1032006213746286592|    true|        true|           true|  false|        true|            true|               false|                      false|       false|      false|human|-0.22458512290125307|    1.4732602646150856|              0.31724149508448896|       1.1104777046119851|       -0.12628797537415526|            -0.3509657986005301|               0.14480273075516484|              -0.36957307460267785|                  -0.40868489021877175|                     -0.15949632964818333|            -0.20733866584186325|                 -0.0922352747437769|-0.01950639992465...|      1.302335802261009|             -0.8623136668820501|         -0.4664559685490628|               -0.05774754071849...|                -0.3686184949070185|                 0.4405415700958062|           -0.32566807619377874|       -1.1391708089295902|  -0.09832968711908356|   -0.1409194731617108| -0.1835465156781317|-0.34328204912010163|           -0.04168766525919734|                  -0.04168766525919734|           -0.24478944367405372|                   -0.07978997097913781|                    -1.1679867966769046|        0.003817879140859...|         -0.1866169137950109|     -0.03489906493498653|-0.09329151929058807|  -0.1754151447884442|-0.13029719173597423|-0.31302902878886835|               -0.04028219508711884|                    -0.6724538286494077|                    -0.1028821641600044|          -0.07356556417938401|                           NULL|                            NULL|             -0.13756856363584422|\n",
            "+--------------------+--------+------------+---------------+-------+------------+----------------+--------------------+---------------------------+------------+-----------+-----+--------------------+----------------------+---------------------------------+-------------------------+---------------------------+-------------------------------+----------------------------------+----------------------------------+--------------------------------------+-----------------------------------------+--------------------------------+------------------------------------+--------------------+-----------------------+--------------------------------+----------------------------+-----------------------------------+-----------------------------------+-----------------------------------+-------------------------------+--------------------------+----------------------+----------------------+--------------------+--------------------+-------------------------------+--------------------------------------+-------------------------------+---------------------------------------+---------------------------------------+----------------------------+----------------------------+-------------------------+--------------------+---------------------+--------------------+--------------------+-----------------------------------+---------------------------------------+---------------------------------------+------------------------------+-------------------------------+--------------------------------+---------------------------------+\n",
            "only showing top 5 rows\n",
            "\n"
          ]
        }
      ]
    },
    {
      "cell_type": "code",
      "source": [],
      "metadata": {
        "id": "_8AvaFHfh8I8"
      },
      "execution_count": null,
      "outputs": []
    }
  ]
}