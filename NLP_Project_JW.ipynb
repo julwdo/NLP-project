{
  "nbformat": 4,
  "nbformat_minor": 0,
  "metadata": {
    "colab": {
      "provenance": [],
      "mount_file_id": "1fV-2Mc6kjhr3GdesgLaaXJLp6qV5bBC9",
      "authorship_tag": "ABX9TyNOA8SUlVH3f2oXDV/2AdGO",
      "include_colab_link": true
    },
    "kernelspec": {
      "name": "python3",
      "display_name": "Python 3"
    },
    "language_info": {
      "name": "python"
    }
  },
  "cells": [
    {
      "cell_type": "markdown",
      "metadata": {
        "id": "view-in-github",
        "colab_type": "text"
      },
      "source": [
        "<a href=\"https://colab.research.google.com/github/julwdo/NLP-project/blob/main/NLP_Project_JW.ipynb\" target=\"_parent\"><img src=\"https://colab.research.google.com/assets/colab-badge.svg\" alt=\"Open In Colab\"/></a>"
      ]
    },
    {
      "cell_type": "code",
      "source": [
        "!apt-get install openjdk-17-jdk-headless -qq > /dev/null # OpenJDK 17\n",
        "!wget --show-progress https://dlcdn.apache.org/spark/spark-3.5.6/spark-3.5.6-bin-hadoop3.tgz # Apache Spark 3.5.5 with Hadoop 3 support\n",
        "!tar xf spark-3.5.6-bin-hadoop3.tgz\n",
        "!pip install findspark"
      ],
      "metadata": {
        "id": "mQ8T-LAUzBeh",
        "colab": {
          "base_uri": "https://localhost:8080/"
        },
        "outputId": "d08fb917-b18c-4eb2-fac2-baea6dd13ea8"
      },
      "execution_count": 1,
      "outputs": [
        {
          "output_type": "stream",
          "name": "stdout",
          "text": [
            "--2025-08-29 16:10:56--  https://dlcdn.apache.org/spark/spark-3.5.6/spark-3.5.6-bin-hadoop3.tgz\n",
            "Resolving dlcdn.apache.org (dlcdn.apache.org)... 151.101.2.132, 2a04:4e42::644\n",
            "Connecting to dlcdn.apache.org (dlcdn.apache.org)|151.101.2.132|:443... connected.\n",
            "HTTP request sent, awaiting response... 200 OK\n",
            "Length: 400923510 (382M) [application/x-gzip]\n",
            "Saving to: ‘spark-3.5.6-bin-hadoop3.tgz’\n",
            "\n",
            "spark-3.5.6-bin-had 100%[===================>] 382.35M   186MB/s    in 2.1s    \n",
            "\n",
            "2025-08-29 16:10:58 (186 MB/s) - ‘spark-3.5.6-bin-hadoop3.tgz’ saved [400923510/400923510]\n",
            "\n",
            "Collecting findspark\n",
            "  Downloading findspark-2.0.1-py2.py3-none-any.whl.metadata (352 bytes)\n",
            "Downloading findspark-2.0.1-py2.py3-none-any.whl (4.4 kB)\n",
            "Installing collected packages: findspark\n",
            "Successfully installed findspark-2.0.1\n"
          ]
        }
      ]
    },
    {
      "cell_type": "code",
      "source": [
        "import os\n",
        "import findspark\n",
        "from pyspark.sql import SparkSession\n",
        "from google.colab import auth\n",
        "import pyspark.sql.functions as F\n",
        "from pyspark.sql.types import FloatType\n",
        "from nltk.sentiment import SentimentIntensityAnalyzer\n",
        "import math\n",
        "from collections import Counter"
      ],
      "metadata": {
        "id": "J-C_Oc4BzG2s"
      },
      "execution_count": 81,
      "outputs": []
    },
    {
      "cell_type": "code",
      "source": [
        "#import nltk\n",
        "#nltk.download('vader_lexicon')"
      ],
      "metadata": {
        "id": "1dvQfYXH_WoT"
      },
      "execution_count": 77,
      "outputs": []
    },
    {
      "cell_type": "code",
      "source": [
        "# Set up Spark\n",
        "os.environ['JAVA_HOME'] = '/usr/lib/jvm/java-17-openjdk-amd64'\n",
        "os.environ['SPARK_HOME'] = '/content/spark-3.5.6-bin-hadoop3'\n",
        "\n",
        "findspark.init()\n",
        "findspark.find()\n",
        "\n",
        "spark = SparkSession.builder.appName('TwiBot22').getOrCreate()\n",
        "spark"
      ],
      "metadata": {
        "colab": {
          "base_uri": "https://localhost:8080/",
          "height": 219
        },
        "id": "ByEenyZjzL5g",
        "outputId": "ea7289ce-cfb8-42e7-c596-4b352ba34a15"
      },
      "execution_count": 3,
      "outputs": [
        {
          "output_type": "execute_result",
          "data": {
            "text/plain": [
              "<pyspark.sql.session.SparkSession at 0x7f30df888710>"
            ],
            "text/html": [
              "\n",
              "            <div>\n",
              "                <p><b>SparkSession - in-memory</b></p>\n",
              "                \n",
              "        <div>\n",
              "            <p><b>SparkContext</b></p>\n",
              "\n",
              "            <p><a href=\"http://31426b007bf5:4040\">Spark UI</a></p>\n",
              "\n",
              "            <dl>\n",
              "              <dt>Version</dt>\n",
              "                <dd><code>v3.5.6</code></dd>\n",
              "              <dt>Master</dt>\n",
              "                <dd><code>local[*]</code></dd>\n",
              "              <dt>AppName</dt>\n",
              "                <dd><code>TwiBot22</code></dd>\n",
              "            </dl>\n",
              "        </div>\n",
              "        \n",
              "            </div>\n",
              "        "
            ]
          },
          "metadata": {},
          "execution_count": 3
        }
      ]
    },
    {
      "cell_type": "code",
      "source": [
        "auth.authenticate_user()"
      ],
      "metadata": {
        "id": "nXzBU7MKS-dT"
      },
      "execution_count": 4,
      "outputs": []
    },
    {
      "cell_type": "code",
      "source": [
        "#!gcloud init"
      ],
      "metadata": {
        "id": "x3jli8AUVuOm"
      },
      "execution_count": 5,
      "outputs": []
    },
    {
      "cell_type": "code",
      "source": [
        "bucket_name = \"twibot-22\"\n",
        "file_names = [\"user.jsonl\", \"label.csv\", \"tweet_0.jsonl\"]\n",
        "\n",
        "for file_name in file_names:\n",
        "  !gsutil cp gs://{bucket_name}/{file_name} /content/{file_name}"
      ],
      "metadata": {
        "colab": {
          "base_uri": "https://localhost:8080/"
        },
        "id": "T20eeOGhZdsN",
        "outputId": "26293d5f-e41d-42b5-f4f0-7cbd141ce250"
      },
      "execution_count": 6,
      "outputs": [
        {
          "output_type": "stream",
          "name": "stdout",
          "text": [
            "Copying gs://twibot-22/user.jsonl...\n",
            "/ [0 files][    0.0 B/745.4 MiB]                                                \r==> NOTE: You are downloading one or more large file(s), which would\n",
            "run significantly faster if you enabled sliced object downloads. This\n",
            "feature is enabled by default but requires that compiled crcmod be\n",
            "installed (see \"gsutil help crcmod\").\n",
            "\n",
            "\\ [1 files][745.4 MiB/745.4 MiB]   56.4 MiB/s                                   \n",
            "Operation completed over 1 objects/745.4 MiB.                                    \n",
            "Copying gs://twibot-22/label.csv...\n",
            "/ [1 files][ 20.6 MiB/ 20.6 MiB]                                                \n",
            "Operation completed over 1 objects/20.6 MiB.                                     \n",
            "Copying gs://twibot-22/tweet_0.jsonl...\n",
            "==> NOTE: You are downloading one or more large file(s), which would\n",
            "run significantly faster if you enabled sliced object downloads. This\n",
            "feature is enabled by default but requires that compiled crcmod be\n",
            "installed (see \"gsutil help crcmod\").\n",
            "\n",
            "- [1 files][ 11.1 GiB/ 11.1 GiB]  104.1 MiB/s                                   \n",
            "Operation completed over 1 objects/11.1 GiB.                                     \n"
          ]
        }
      ]
    },
    {
      "cell_type": "code",
      "source": [
        "users = spark.read.json(f\"/content/user.jsonl\")\n",
        "\n",
        "users.printSchema()"
      ],
      "metadata": {
        "colab": {
          "base_uri": "https://localhost:8080/"
        },
        "id": "4ljK4HtA_MmV",
        "outputId": "7c868ff9-29db-4b08-b87b-b57eedd58e81"
      },
      "execution_count": 7,
      "outputs": [
        {
          "output_type": "stream",
          "name": "stdout",
          "text": [
            "root\n",
            " |-- created_at: string (nullable = true)\n",
            " |-- description: string (nullable = true)\n",
            " |-- entities: struct (nullable = true)\n",
            " |    |-- description: struct (nullable = true)\n",
            " |    |    |-- cashtags: array (nullable = true)\n",
            " |    |    |    |-- element: struct (containsNull = true)\n",
            " |    |    |    |    |-- end: long (nullable = true)\n",
            " |    |    |    |    |-- start: long (nullable = true)\n",
            " |    |    |    |    |-- tag: string (nullable = true)\n",
            " |    |    |-- hashtags: array (nullable = true)\n",
            " |    |    |    |-- element: struct (containsNull = true)\n",
            " |    |    |    |    |-- end: long (nullable = true)\n",
            " |    |    |    |    |-- start: long (nullable = true)\n",
            " |    |    |    |    |-- tag: string (nullable = true)\n",
            " |    |    |-- mentions: array (nullable = true)\n",
            " |    |    |    |-- element: struct (containsNull = true)\n",
            " |    |    |    |    |-- end: long (nullable = true)\n",
            " |    |    |    |    |-- start: long (nullable = true)\n",
            " |    |    |    |    |-- username: string (nullable = true)\n",
            " |    |    |-- urls: array (nullable = true)\n",
            " |    |    |    |-- element: struct (containsNull = true)\n",
            " |    |    |    |    |-- display_url: string (nullable = true)\n",
            " |    |    |    |    |-- end: long (nullable = true)\n",
            " |    |    |    |    |-- expanded_url: string (nullable = true)\n",
            " |    |    |    |    |-- start: long (nullable = true)\n",
            " |    |    |    |    |-- url: string (nullable = true)\n",
            " |    |-- url: struct (nullable = true)\n",
            " |    |    |-- urls: array (nullable = true)\n",
            " |    |    |    |-- element: struct (containsNull = true)\n",
            " |    |    |    |    |-- display_url: string (nullable = true)\n",
            " |    |    |    |    |-- end: long (nullable = true)\n",
            " |    |    |    |    |-- expanded_url: string (nullable = true)\n",
            " |    |    |    |    |-- start: long (nullable = true)\n",
            " |    |    |    |    |-- url: string (nullable = true)\n",
            " |-- id: string (nullable = true)\n",
            " |-- location: string (nullable = true)\n",
            " |-- name: string (nullable = true)\n",
            " |-- pinned_tweet_id: long (nullable = true)\n",
            " |-- profile_image_url: string (nullable = true)\n",
            " |-- protected: boolean (nullable = true)\n",
            " |-- public_metrics: struct (nullable = true)\n",
            " |    |-- followers_count: long (nullable = true)\n",
            " |    |-- following_count: long (nullable = true)\n",
            " |    |-- listed_count: long (nullable = true)\n",
            " |    |-- tweet_count: long (nullable = true)\n",
            " |-- url: string (nullable = true)\n",
            " |-- username: string (nullable = true)\n",
            " |-- verified: boolean (nullable = true)\n",
            " |-- withheld: struct (nullable = true)\n",
            " |    |-- country_codes: array (nullable = true)\n",
            " |    |    |-- element: string (containsNull = true)\n",
            "\n"
          ]
        }
      ]
    },
    {
      "cell_type": "code",
      "source": [
        "users.show(5, truncate=False)"
      ],
      "metadata": {
        "colab": {
          "base_uri": "https://localhost:8080/"
        },
        "id": "zfqG1CcW_Q1c",
        "outputId": "81940b75-831d-41ff-c1cb-f1b4746a1f16"
      },
      "execution_count": 8,
      "outputs": [
        {
          "output_type": "stream",
          "name": "stdout",
          "text": [
            "+-------------------------+-------------------------------------------------------------------------------------------------------------------------------+-----------------------------------------------------------------------------------------------------------------------------------------------------------------------------------------------------------------------------------------------------------------+--------------------+-------------------+-------------------------+---------------+----------------------------------------------------------------------------+---------+---------------------+-----------------------+-------------+--------+--------+\n",
            "|created_at               |description                                                                                                                    |entities                                                                                                                                                                                                                                                         |id                  |location           |name                     |pinned_tweet_id|profile_image_url                                                           |protected|public_metrics       |url                    |username     |verified|withheld|\n",
            "+-------------------------+-------------------------------------------------------------------------------------------------------------------------------+-----------------------------------------------------------------------------------------------------------------------------------------------------------------------------------------------------------------------------------------------------------------+--------------------+-------------------+-------------------------+---------------+----------------------------------------------------------------------------+---------+---------------------+-----------------------+-------------+--------+--------+\n",
            "|2020-01-16 02:02:55+00:00|Theoretical Computer Scientist. See also https://t.co/EXWR5jOrFW and https://t.co/JEkxX4JHSw                                   |{{NULL, NULL, NULL, [{windowsontheory.org, 64, http://windowsontheory.org, 41, https://t.co/EXWR5jOrFW}, {mltheory.org, 92, http://mltheory.org, 69, https://t.co/JEkxX4JHSw}]}, {[{boazbarak.org, 23, https://www.boazbarak.org/, 0, https://t.co/BoMip9FF17}]}}|u1217628182611927040|Cambridge, MA      |Boaz Barak               |NULL           |https://pbs.twimg.com/profile_images/1252262363132280834/ytIN-vzv_normal.jpg|false    |{7316, 215, 69, 3098}|https://t.co/BoMip9FF17|boazbaraktcs |false   |NULL    |\n",
            "|2014-07-02 17:56:46+00:00|creative _                                                                                                                     |NULL                                                                                                                                                                                                                                                             |u2664730894         |🎈                 |olawale 💨               |NULL           |https://pbs.twimg.com/profile_images/1478376381717401605/k4aboywe_normal.png|false    |{123, 1090, 0, 1823} |                       |wale_io      |false   |NULL    |\n",
            "|2020-05-30 12:10:45+00:00|👽                                                                                                                             |NULL                                                                                                                                                                                                                                                             |u1266703520205549568|NULL               |panagiota_.b             |NULL           |https://pbs.twimg.com/profile_images/1426086065165766662/KkzmeSXG_normal.jpg|false    |{3, 62, 0, 66}       |                       |b_panagiota  |false   |NULL    |\n",
            "|2019-01-26 13:52:49+00:00|mama to maya. ABIM research pathway fellow @UVA_ID. interests in mobile health, patient engagement, and implementation science.|{{NULL, NULL, [{50, 43, UVA_ID}], NULL}, NULL}                                                                                                                                                                                                                   |u1089159225148882949|Charlottesville, VA|Jacqueline Hodges, MD MPH|NULL           |https://pbs.twimg.com/profile_images/1302291715898966019/KSgUqpz2_normal.jpg|false    |{350, 577, 1, 237}   |                       |jachodges_md |false   |NULL    |\n",
            "|2009-04-30 19:01:42+00:00|Father / SWT Alumnus / Longhorn Fan                                                                                            |NULL                                                                                                                                                                                                                                                             |u36741729           |United States      |Matthew Stubblefield     |NULL           |https://pbs.twimg.com/profile_images/1458084621351112704/6S-ZgwIj_normal.jpg|true     |{240, 297, 8, 3713}  |                       |Matthew_Brody|false   |NULL    |\n",
            "+-------------------------+-------------------------------------------------------------------------------------------------------------------------------+-----------------------------------------------------------------------------------------------------------------------------------------------------------------------------------------------------------------------------------------------------------------+--------------------+-------------------+-------------------------+---------------+----------------------------------------------------------------------------+---------+---------------------+-----------------------+-------------+--------+--------+\n",
            "only showing top 5 rows\n",
            "\n"
          ]
        }
      ]
    },
    {
      "cell_type": "code",
      "source": [
        "users_selected = users.select(\n",
        "    F.col(\"id\"),\n",
        "    F.col(\"name\"),\n",
        "    F.col(\"username\"),\n",
        "    F.col(\"created_at\"),\n",
        "    F.col(\"description\"),\n",
        "    F.col(\"entities.description.cashtags\"),\n",
        "    F.col(\"entities.description.hashtags\"),\n",
        "    F.col(\"entities.description.mentions\"),\n",
        "    F.col(\"entities.description.urls\"),\n",
        "    F.col(\"location\"),\n",
        "    F.col(\"pinned_tweet_id\"),\n",
        "    F.col(\"profile_image_url\"),\n",
        "    F.col(\"protected\"),\n",
        "    F.col(\"public_metrics.followers_count\"),\n",
        "    F.col(\"public_metrics.following_count\"),\n",
        "    F.col(\"public_metrics.listed_count\"),\n",
        "    F.col(\"public_metrics.tweet_count\"),\n",
        "    F.col(\"verified\")\n",
        "    )"
      ],
      "metadata": {
        "id": "GQAYasduAYqH"
      },
      "execution_count": 21,
      "outputs": []
    },
    {
      "cell_type": "code",
      "source": [
        "users_selected.printSchema()"
      ],
      "metadata": {
        "colab": {
          "base_uri": "https://localhost:8080/"
        },
        "id": "Ce5ND56SEn8R",
        "outputId": "c60af3ca-30b6-4af3-d67b-8a9c8ac4501c"
      },
      "execution_count": 22,
      "outputs": [
        {
          "output_type": "stream",
          "name": "stdout",
          "text": [
            "root\n",
            " |-- id: string (nullable = true)\n",
            " |-- name: string (nullable = true)\n",
            " |-- username: string (nullable = true)\n",
            " |-- created_at: string (nullable = true)\n",
            " |-- description: string (nullable = true)\n",
            " |-- cashtags: array (nullable = true)\n",
            " |    |-- element: struct (containsNull = true)\n",
            " |    |    |-- end: long (nullable = true)\n",
            " |    |    |-- start: long (nullable = true)\n",
            " |    |    |-- tag: string (nullable = true)\n",
            " |-- hashtags: array (nullable = true)\n",
            " |    |-- element: struct (containsNull = true)\n",
            " |    |    |-- end: long (nullable = true)\n",
            " |    |    |-- start: long (nullable = true)\n",
            " |    |    |-- tag: string (nullable = true)\n",
            " |-- mentions: array (nullable = true)\n",
            " |    |-- element: struct (containsNull = true)\n",
            " |    |    |-- end: long (nullable = true)\n",
            " |    |    |-- start: long (nullable = true)\n",
            " |    |    |-- username: string (nullable = true)\n",
            " |-- urls: array (nullable = true)\n",
            " |    |-- element: struct (containsNull = true)\n",
            " |    |    |-- display_url: string (nullable = true)\n",
            " |    |    |-- end: long (nullable = true)\n",
            " |    |    |-- expanded_url: string (nullable = true)\n",
            " |    |    |-- start: long (nullable = true)\n",
            " |    |    |-- url: string (nullable = true)\n",
            " |-- location: string (nullable = true)\n",
            " |-- pinned_tweet_id: long (nullable = true)\n",
            " |-- profile_image_url: string (nullable = true)\n",
            " |-- protected: boolean (nullable = true)\n",
            " |-- followers_count: long (nullable = true)\n",
            " |-- following_count: long (nullable = true)\n",
            " |-- listed_count: long (nullable = true)\n",
            " |-- tweet_count: long (nullable = true)\n",
            " |-- verified: boolean (nullable = true)\n",
            "\n"
          ]
        }
      ]
    },
    {
      "cell_type": "code",
      "source": [
        "users_selected.show(20, truncate=False)"
      ],
      "metadata": {
        "colab": {
          "base_uri": "https://localhost:8080/"
        },
        "id": "m1nb1FybEtUp",
        "outputId": "49f8dbec-da5a-43df-e477-44954cf4c891"
      },
      "execution_count": 24,
      "outputs": [
        {
          "output_type": "stream",
          "name": "stdout",
          "text": [
            "+--------------------+-------------------------+---------------+-------------------------+-----------------------------------------------------------------------------------------------------------------------------------------------------+--------+--------------------------------------------------------------------------+------------------+----------------------------------------------------------------------------------------------------------------------------------------------------------+------------------------+-------------------+------------------------------------------------------------------------------+---------+---------------+---------------+------------+-----------+--------+\n",
            "|id                  |name                     |username       |created_at               |description                                                                                                                                          |cashtags|hashtags                                                                  |mentions          |urls                                                                                                                                                      |location                |pinned_tweet_id    |profile_image_url                                                             |protected|followers_count|following_count|listed_count|tweet_count|verified|\n",
            "+--------------------+-------------------------+---------------+-------------------------+-----------------------------------------------------------------------------------------------------------------------------------------------------+--------+--------------------------------------------------------------------------+------------------+----------------------------------------------------------------------------------------------------------------------------------------------------------+------------------------+-------------------+------------------------------------------------------------------------------+---------+---------------+---------------+------------+-----------+--------+\n",
            "|u1217628182611927040|Boaz Barak               |boazbaraktcs   |2020-01-16 02:02:55+00:00|Theoretical Computer Scientist. See also https://t.co/EXWR5jOrFW and https://t.co/JEkxX4JHSw                                                         |NULL    |NULL                                                                      |NULL              |[{windowsontheory.org, 64, http://windowsontheory.org, 41, https://t.co/EXWR5jOrFW}, {mltheory.org, 92, http://mltheory.org, 69, https://t.co/JEkxX4JHSw}]|Cambridge, MA           |NULL               |https://pbs.twimg.com/profile_images/1252262363132280834/ytIN-vzv_normal.jpg  |false    |7316           |215            |69          |3098       |false   |\n",
            "|u2664730894         |olawale 💨               |wale_io        |2014-07-02 17:56:46+00:00|creative _                                                                                                                                           |NULL    |NULL                                                                      |NULL              |NULL                                                                                                                                                      |🎈                      |NULL               |https://pbs.twimg.com/profile_images/1478376381717401605/k4aboywe_normal.png  |false    |123            |1090           |0           |1823       |false   |\n",
            "|u1266703520205549568|panagiota_.b             |b_panagiota    |2020-05-30 12:10:45+00:00|👽                                                                                                                                                   |NULL    |NULL                                                                      |NULL              |NULL                                                                                                                                                      |NULL                    |NULL               |https://pbs.twimg.com/profile_images/1426086065165766662/KkzmeSXG_normal.jpg  |false    |3              |62             |0           |66         |false   |\n",
            "|u1089159225148882949|Jacqueline Hodges, MD MPH|jachodges_md   |2019-01-26 13:52:49+00:00|mama to maya. ABIM research pathway fellow @UVA_ID. interests in mobile health, patient engagement, and implementation science.                      |NULL    |NULL                                                                      |[{50, 43, UVA_ID}]|NULL                                                                                                                                                      |Charlottesville, VA     |NULL               |https://pbs.twimg.com/profile_images/1302291715898966019/KSgUqpz2_normal.jpg  |false    |350            |577            |1           |237        |false   |\n",
            "|u36741729           |Matthew Stubblefield     |Matthew_Brody  |2009-04-30 19:01:42+00:00|Father / SWT Alumnus / Longhorn Fan                                                                                                                  |NULL    |NULL                                                                      |NULL              |NULL                                                                                                                                                      |United States           |NULL               |https://pbs.twimg.com/profile_images/1458084621351112704/6S-ZgwIj_normal.jpg  |true     |240            |297            |8           |3713       |false   |\n",
            "|u1365527332627247104|Sathish Kumar V          |vsathishkumar09|2021-02-27 05:01:12+00:00|I am studying M.ScGENOMICS at Kamaraj University, Madurai.                                                                                           |NULL    |NULL                                                                      |NULL              |NULL                                                                                                                                                      |Salem, Tamil Nadu, India|NULL               |https://pbs.twimg.com/profile_images/1477211329001709569/uhUoxvWT_normal.jpg  |true     |1              |378            |0           |2          |false   |\n",
            "|u1679822588         |Grian                    |GrianMC        |2013-08-18 04:21:48+00:00|                                                                                                                                                     |NULL    |NULL                                                                      |NULL              |NULL                                                                                                                                                      |🇬🇧                    |1143807515454558208|https://pbs.twimg.com/profile_images/1007734613630947330/rj3Jkwed_normal.jpg  |false    |238254         |293            |448         |1400       |false   |\n",
            "|u1519144464         |Nikhil Sewdass           |NikhilSewdass  |2013-06-15 11:34:55+00:00|The hottest brownboy in the game.                                                      UCT🏛                                                         |NULL    |NULL                                                                      |NULL              |NULL                                                                                                                                                      |Umhlanga, South Africa  |NULL               |https://pbs.twimg.com/profile_images/1463106911562354688/QmIbBIhm_normal.jpg  |false    |161            |278            |0           |788        |false   |\n",
            "|u15211869           |James Love               |jamie_love     |2008-06-23 20:59:59+00:00|Director, Knowledge Ecology International, an NGO working on knowledge governance                                                                    |NULL    |NULL                                                                      |NULL              |NULL                                                                                                                                                      |ÜT: 38.911326,-77.04508 |1335259215598915584|https://pbs.twimg.com/profile_images/1261384539768860675/gnc82KB1_normal.jpg  |false    |10299          |2166           |383         |57397      |true    |\n",
            "|u1309034737756000256|Michael Goves Coke Dealer|CokeGoves      |2020-09-24 07:39:51+00:00|well busy                                                                                                                                            |NULL    |NULL                                                                      |NULL              |NULL                                                                                                                                                      |NULL                    |NULL               |https://pbs.twimg.com/profile_images/1309035532287172611/KsSfMoo8_normal.jpg  |false    |217            |233            |0           |27         |false   |\n",
            "|u1341789703633178624|mo                       |mo39826506     |2020-12-23 16:56:30+00:00|                                                                                                                                                     |NULL    |NULL                                                                      |NULL              |NULL                                                                                                                                                      |NULL                    |NULL               |https://abs.twimg.com/sticky/default_profile_images/default_profile_normal.png|false    |0              |136            |0           |6          |false   |\n",
            "|u848975226          |Javier Santiago-Arcos    |fjsantiagoarcos|2012-09-27 09:49:18+00:00|PhD student in the heterogenous biocatalysis group at CIC biomaGUNE                                                                                  |NULL    |NULL                                                                      |NULL              |NULL                                                                                                                                                      |NULL                    |NULL               |https://pbs.twimg.com/profile_images/1173937456615440384/CA7fg0uA_normal.jpg  |false    |51             |154            |0           |637        |false   |\n",
            "|u1109809482656149504|Quantum Bullshit Detector|BullshitQuantum|2019-03-24 13:29:34+00:00|Often correct albeit not infallible\\n-Scott Aaronson                                                                                                 |NULL    |NULL                                                                      |NULL              |NULL                                                                                                                                                      |NULL                    |1364622151228121088|https://pbs.twimg.com/profile_images/1109811750382108672/uFNvFwnI_normal.png  |false    |12471          |393            |113         |766        |false   |\n",
            "|u138814032          |Cristina Kirchner        |CFKArgentina   |2010-04-30 17:36:51+00:00|Militante peronista. Vicepresidenta de la República Argentina. 2 veces Presidenta mandato cumplido 🇦🇷                                              |NULL    |NULL                                                                      |NULL              |NULL                                                                                                                                                      |Argentina               |NULL               |https://pbs.twimg.com/profile_images/1112014698/foto6-3.jpg_1__normal.jpg     |false    |5994250        |241            |14356       |15538      |true    |\n",
            "|u457554412          |samsmith                 |samsmith       |2012-01-07 15:05:53+00:00|They/Them\\nhttps://t.co/UvtxD9uZtX                                                                                                                   |NULL    |NULL                                                                      |NULL              |[{samsmith.world/Catalogue, 33, http://samsmith.world/Catalogue, 10, https://t.co/UvtxD9uZtX}]                                                            |London, England         |NULL               |https://pbs.twimg.com/profile_images/1377928043369533441/FOtLgJWN_normal.jpg  |false    |7982826        |1302           |4403        |14644      |true    |\n",
            "|u17899123           |Tristan Henderson        |tnhh           |2008-12-05 15:19:41+00:00|Not on here much anymore. Posting occasionally at https://t.co/FM4wMfwN3e                                                                            |NULL    |NULL                                                                      |NULL              |[{pixelfed.social/tnhh, 73, https://pixelfed.social/tnhh, 50, https://t.co/FM4wMfwN3e}]                                                                   |neither here nor there  |1406516144568254465|https://pbs.twimg.com/profile_images/1053670970957983744/JLQCA6Ia_normal.jpg  |true     |1713           |990            |92          |29699      |false   |\n",
            "|u2465283662         |AK                       |ak92501        |2014-04-27 00:20:12+00:00|paper tweets, dms are open                                                                                                                           |NULL    |NULL                                                                      |NULL              |NULL                                                                                                                                                      |NULL                    |NULL               |https://pbs.twimg.com/profile_images/1451191636810092553/kpM5Fe12_normal.jpg  |false    |45541          |1206           |605         |9194       |false   |\n",
            "|u1467973039883182090|صارا                     |_3rw_          |2021-12-06 21:44:04+00:00|https://t.co/Hmg5gBvd9A                                                                                                                              |NULL    |NULL                                                                      |NULL              |[{t.me/BiChatBot?star…, 23, http://t.me/BiChatBot?start=sc-666704-UIL4XqR, 0, https://t.co/Hmg5gBvd9A}]                                                   |NULL                    |NULL               |https://pbs.twimg.com/profile_images/1469340552361562127/gwz3w2lx_normal.jpg  |false    |1573           |1688           |2           |146        |false   |\n",
            "|u234059290          |Professor Booty PhD      |ProfBootyPhD   |2011-01-04 19:11:39+00:00|Come for the science (genetics & cell biology), stay for the social justice, parenting, comedy and random crap. #BlackLivesMatter #heynongman #GARABA|NULL    |[{129, 112, BlackLivesMatter}, {141, 130, heynongman}, {149, 142, GARABA}]|NULL              |NULL                                                                                                                                                      |Salt Lake City,UT, USA  |1470252396815085573|https://pbs.twimg.com/profile_images/551855299502411776/KWfPbWk5_normal.jpeg  |false    |4694           |4739           |116         |91381      |false   |\n",
            "|u1142890104853106688|wyomingwormboy           |wyomingwormboy |2019-06-23 20:20:09+00:00|Quite likely the most eminent worm wrangler in the state of Wyoming named David. Professor, incurable class clown. He/Him/Jerk (if you know me well) |NULL    |NULL                                                                      |NULL              |NULL                                                                                                                                                      |NULL                    |NULL               |https://pbs.twimg.com/profile_images/1328194800080744448/d6bKAsp0_normal.jpg  |false    |2913           |587            |9           |3343       |false   |\n",
            "+--------------------+-------------------------+---------------+-------------------------+-----------------------------------------------------------------------------------------------------------------------------------------------------+--------+--------------------------------------------------------------------------+------------------+----------------------------------------------------------------------------------------------------------------------------------------------------------+------------------------+-------------------+------------------------------------------------------------------------------+---------+---------------+---------------+------------+-----------+--------+\n",
            "only showing top 20 rows\n",
            "\n"
          ]
        }
      ]
    },
    {
      "cell_type": "code",
      "source": [
        "labels = spark.read.csv(f\"/content/label.csv\", header=True, inferSchema=True)"
      ],
      "metadata": {
        "id": "sDJSz4DuE6_2"
      },
      "execution_count": 25,
      "outputs": []
    },
    {
      "cell_type": "code",
      "source": [
        "labels.show(5, truncate=False)"
      ],
      "metadata": {
        "colab": {
          "base_uri": "https://localhost:8080/"
        },
        "id": "2S3i6OraGnzV",
        "outputId": "76f69f72-6b76-494e-e6bf-9846e1713290"
      },
      "execution_count": 26,
      "outputs": [
        {
          "output_type": "stream",
          "name": "stdout",
          "text": [
            "+--------------------+-----+\n",
            "|id                  |label|\n",
            "+--------------------+-----+\n",
            "|u1217628182611927040|human|\n",
            "|u2664730894         |human|\n",
            "|u1266703520205549568|human|\n",
            "|u1089159225148882949|human|\n",
            "|u36741729           |bot  |\n",
            "+--------------------+-----+\n",
            "only showing top 5 rows\n",
            "\n"
          ]
        }
      ]
    },
    {
      "cell_type": "code",
      "source": [
        "users_labeled = users_selected.join(labels, users_selected.id == labels.id, \"left\").drop(labels.id)"
      ],
      "metadata": {
        "id": "Dx7pGZ1rGpSJ"
      },
      "execution_count": 27,
      "outputs": []
    },
    {
      "cell_type": "code",
      "source": [
        "users_labeled.show(20, truncate=False)"
      ],
      "metadata": {
        "colab": {
          "base_uri": "https://localhost:8080/"
        },
        "id": "yxJV0qKaG_Et",
        "outputId": "dd0c2cee-0c06-45f0-e746-4d3f96a86c73"
      },
      "execution_count": 28,
      "outputs": [
        {
          "output_type": "stream",
          "name": "stdout",
          "text": [
            "+--------------------+--------------------------------------+---------------+-------------------------+---------------------------------------------------------------------------------------------------------------------------------------------------------------+--------+----------------------+-------------------------------------------------------------------------+-------------------------------------------------------------------------------------------------------+------------------------------+-------------------+--------------------------------------------------------------------------------------------+---------+---------------+---------------+------------+-----------+--------+-----+\n",
            "|id                  |name                                  |username       |created_at               |description                                                                                                                                                    |cashtags|hashtags              |mentions                                                                 |urls                                                                                                   |location                      |pinned_tweet_id    |profile_image_url                                                                           |protected|followers_count|following_count|listed_count|tweet_count|verified|label|\n",
            "+--------------------+--------------------------------------+---------------+-------------------------+---------------------------------------------------------------------------------------------------------------------------------------------------------------+--------+----------------------+-------------------------------------------------------------------------+-------------------------------------------------------------------------------------------------------+------------------------------+-------------------+--------------------------------------------------------------------------------------------+---------+---------------+---------------+------------+-----------+--------+-----+\n",
            "|u103016248          |Papajoe MP🌹 “#GTTO 🌹 #DitchTheTories|Papajoe1407    |2010-01-08 15:51:36+00:00|76 yr old Labour through and through. Hate Social injustice! Thats why I support Jeremy Corbyn. They think it's all over! oh and a MUFC season ticket holder!  |NULL    |NULL                  |NULL                                                                     |NULL                                                                                                   | Heart will always be in Yorks|NULL               |https://pbs.twimg.com/profile_images/1079771767441379329/57ZDCeJ2_normal.jpg                |false    |3899           |3939           |123         |250198     |false   |human|\n",
            "|u1089159225148882949|Jacqueline Hodges, MD MPH             |jachodges_md   |2019-01-26 13:52:49+00:00|mama to maya. ABIM research pathway fellow @UVA_ID. interests in mobile health, patient engagement, and implementation science.                                |NULL    |NULL                  |[{50, 43, UVA_ID}]                                                       |NULL                                                                                                   |Charlottesville, VA           |NULL               |https://pbs.twimg.com/profile_images/1302291715898966019/KSgUqpz2_normal.jpg                |false    |350            |577            |1           |237        |false   |human|\n",
            "|u1109809482656149504|Quantum Bullshit Detector             |BullshitQuantum|2019-03-24 13:29:34+00:00|Often correct albeit not infallible\\n-Scott Aaronson                                                                                                           |NULL    |NULL                  |NULL                                                                     |NULL                                                                                                   |NULL                          |1364622151228121088|https://pbs.twimg.com/profile_images/1109811750382108672/uFNvFwnI_normal.png                |false    |12471          |393            |113         |766        |false   |human|\n",
            "|u1134223836         |Gillians Blinds                       |GilliansBlinds |2013-01-30 14:27:37+00:00|                                                                                                                                                               |NULL    |NULL                  |NULL                                                                     |NULL                                                                                                   |Round Spinney, Northampton    |NULL               |https://pbs.twimg.com/profile_images/3184029997/55a0925e44a7cb08fed450e5d5e48136_normal.jpeg|false    |1625           |1888           |5           |19433      |false   |human|\n",
            "|u1156622199005929473|Devin's Bench                         |DevinsBench    |2019-07-31 17:46:36+00:00|Things end up on my bench, then I take them apart.\\nI've also been an employee of HSC (Halted Specialties) in Santa Clara.                                     |NULL    |NULL                  |NULL                                                                     |NULL                                                                                                   |NULL                          |NULL               |https://pbs.twimg.com/profile_images/1156628371024912385/JaIa5hca_normal.jpg                |false    |519            |24             |4           |1382       |false   |human|\n",
            "|u1163776538707451908|Into Games                            |intogamesHQ    |2019-08-20 11:35:42+00:00|creating accessible career pathways into the games industry for all in the UK 🎮 hello@intogames.org | join the discord: https://t.co/E3liPISyyv               |NULL    |NULL                  |NULL                                                                     |[{intogames.org/discord, 143, http://intogames.org/discord, 120, https://t.co/E3liPISyyv}]             |United Kingdom                |NULL               |https://pbs.twimg.com/profile_images/1338951016155406336/i8J_rir9_normal.jpg                |false    |4861           |1106           |42          |2846       |false   |human|\n",
            "|u1266703520205549568|panagiota_.b                          |b_panagiota    |2020-05-30 12:10:45+00:00|👽                                                                                                                                                             |NULL    |NULL                  |NULL                                                                     |NULL                                                                                                   |NULL                          |NULL               |https://pbs.twimg.com/profile_images/1426086065165766662/KkzmeSXG_normal.jpg                |false    |3              |62             |0           |66         |false   |human|\n",
            "|u1309034737756000256|Michael Goves Coke Dealer             |CokeGoves      |2020-09-24 07:39:51+00:00|well busy                                                                                                                                                      |NULL    |NULL                  |NULL                                                                     |NULL                                                                                                   |NULL                          |NULL               |https://pbs.twimg.com/profile_images/1309035532287172611/KsSfMoo8_normal.jpg                |false    |217            |233            |0           |27         |false   |human|\n",
            "|u1341789703633178624|mo                                    |mo39826506     |2020-12-23 16:56:30+00:00|                                                                                                                                                               |NULL    |NULL                  |NULL                                                                     |NULL                                                                                                   |NULL                          |NULL               |https://abs.twimg.com/sticky/default_profile_images/default_profile_normal.png              |false    |0              |136            |0           |6          |false   |bot  |\n",
            "|u1351974920599842819|JSpeer Sound                          |JSpeerSound    |2021-01-20 19:28:40+00:00|Sound and Nature. I revel in life's presentation and hope to record and share these experiences.\\n\\nDJ JAZ - Bust Yo' Brass - @RadioCampusBesa\\n\\nHe/Him       |NULL    |NULL                  |[{140, 124, RadioCampusBesa}]                                            |NULL                                                                                                   |Besancon FR                   |1420803137779257350|https://pbs.twimg.com/profile_images/1366318952058654721/jBOxuuQL_normal.jpg                |false    |184            |213            |0           |1006       |false   |human|\n",
            "|u1351983417802383361|Obscure Game Aesthetics               |game_obscure   |2021-01-20 20:02:29+00:00|Posting pretty screenshots and artworks from not-so-popular, forgotten or sometimes even cancelled video games. Suggestions are welcome!                       |NULL    |NULL                  |NULL                                                                     |NULL                                                                                                   |NULL                          |1413699420592377857|https://pbs.twimg.com/profile_images/1455147368396255232/tg3_Pxpe_normal.jpg                |false    |40320          |93             |144         |4482       |false   |human|\n",
            "|u1356360497713598465|suhasya                               |suhasyagames   |2021-02-01 21:55:25+00:00|an emerging game developer;                                                                                                                                    |NULL    |NULL                  |NULL                                                                     |NULL                                                                                                   |Moscow, Russia                |1365052352013754371|https://pbs.twimg.com/profile_images/1356363428051513345/BcPJvulD_normal.jpg                |false    |354            |71             |3           |204        |false   |bot  |\n",
            "|u1413439514         |#FreeMsAngie                          |BetseyChace    |2013-05-08 17:46:17+00:00|Building justice + democracy in MA. Campaign Manager @RoweForRep 2020. @MassPowerVote #Right2Vote ballot init 2019. @IJDH Haiti justice 2012-2019. She/her.    |NULL    |[{97, 86, Right2Vote}]|[{64, 53, RoweForRep}, {85, 71, MassPowerVote}, {121, 116, IJDH}]        |NULL                                                                                                   |Cambridge, MA                 |1423270809347502080|https://pbs.twimg.com/profile_images/1392143030820429831/-cBPtB_A_normal.jpg                |false    |1304           |100            |85          |221972     |false   |human|\n",
            "|u1467973039883182090|صارا                                  |_3rw_          |2021-12-06 21:44:04+00:00|https://t.co/Hmg5gBvd9A                                                                                                                                        |NULL    |NULL                  |NULL                                                                     |[{t.me/BiChatBot?star…, 23, http://t.me/BiChatBot?start=sc-666704-UIL4XqR, 0, https://t.co/Hmg5gBvd9A}]|NULL                          |NULL               |https://pbs.twimg.com/profile_images/1469340552361562127/gwz3w2lx_normal.jpg                |false    |1573           |1688           |2           |146        |false   |human|\n",
            "|u1471458789035413504|Luera Martin                          |elvanamartin   |2021-12-16 12:35:13+00:00|My Dream is to color whole the world.                                                                                                                          |NULL    |NULL                  |NULL                                                                     |NULL                                                                                                   |NULL                          |NULL               |https://pbs.twimg.com/profile_images/1471459353613914115/cBaj_Cgt_normal.jpg                |false    |14             |8              |3           |220        |false   |bot  |\n",
            "|u1483629332278956035|Hdushwh                               |Hdushwh4       |2022-01-19 02:36:18+00:00|                                                                                                                                                               |NULL    |NULL                  |NULL                                                                     |NULL                                                                                                   |NULL                          |NULL               |https://abs.twimg.com/sticky/default_profile_images/default_profile_normal.png              |false    |0              |1              |0           |0          |false   |bot  |\n",
            "|u1485073227399548930|Fernanda Michel                       |Fernand18886261|2022-01-23 02:14:04+00:00|                                                                                                                                                               |NULL    |NULL                  |NULL                                                                     |NULL                                                                                                   |NULL                          |NULL               |https://pbs.twimg.com/profile_images/1485073317178523655/iXwgQNx__normal.jpg                |false    |0              |4              |0           |0          |false   |human|\n",
            "|u1485561333839917058|ywp                                   |ywp83408225    |2022-01-24 10:33:28+00:00|                                                                                                                                                               |NULL    |NULL                  |NULL                                                                     |NULL                                                                                                   |NULL                          |NULL               |https://abs.twimg.com/sticky/default_profile_images/default_profile_normal.png              |false    |0              |1              |0           |0          |false   |bot  |\n",
            "|u15932785           |Steve Tally                           |SteveTally     |2008-08-21 15:52:42+00:00|📚Author of “Bland Ambition” (Harcourt) and “Almost America” (HarperCollins) Progressive Christian. Dearly love @lisatally @ac_tally @tallyhoclassic e-🚴🏻    |NULL    |NULL                  |[{121, 111, lisatally}, {131, 122, ac_tally}, {147, 132, tallyhoclassic}]|NULL                                                                                                   |West Lafayette, Indiana       |NULL               |https://pbs.twimg.com/profile_images/460549785242456064/auRHPGKs_normal.jpeg                |false    |2909           |3218           |97          |45620      |false   |human|\n",
            "|u1648320506         |Jesús Dapena Botero                   |DapenaJ        |2013-08-05 17:48:12+00:00|Soy médico, nacido en Medellín y formado allí como galeno, como psiquiatra y psicoanalista; soy hijo de padre gallego y madre colombiano, criollo, criollísimo.|NULL    |NULL                  |NULL                                                                     |NULL                                                                                                   |Madrid                        |NULL               |https://pbs.twimg.com/profile_images/429956636422053888/3ZI4Vjvf_normal.jpeg                |false    |262            |688            |2           |9802       |false   |human|\n",
            "+--------------------+--------------------------------------+---------------+-------------------------+---------------------------------------------------------------------------------------------------------------------------------------------------------------+--------+----------------------+-------------------------------------------------------------------------+-------------------------------------------------------------------------------------------------------+------------------------------+-------------------+--------------------------------------------------------------------------------------------+---------+---------------+---------------+------------+-----------+--------+-----+\n",
            "only showing top 20 rows\n",
            "\n"
          ]
        }
      ]
    },
    {
      "cell_type": "code",
      "source": [
        "print('Summary of missing values:')\n",
        "users_labeled.select([F.count(F.when(F.isnull(c), c)).alias(c) for c in users_labeled.columns]).show()"
      ],
      "metadata": {
        "colab": {
          "base_uri": "https://localhost:8080/"
        },
        "id": "e29uv2D-P3Zz",
        "outputId": "d36c6809-7307-407f-f8e8-399e8c370298"
      },
      "execution_count": 29,
      "outputs": [
        {
          "output_type": "stream",
          "name": "stdout",
          "text": [
            "Summary of missing values:\n",
            "+---+----+--------+----------+-----------+--------+--------+--------+------+--------+---------------+-----------------+---------+---------------+---------------+------------+-----------+--------+-----+\n",
            "| id|name|username|created_at|description|cashtags|hashtags|mentions|  urls|location|pinned_tweet_id|profile_image_url|protected|followers_count|following_count|listed_count|tweet_count|verified|label|\n",
            "+---+----+--------+----------+-----------+--------+--------+--------+------+--------+---------------+-----------------+---------+---------------+---------------+------------+-----------+--------+-----+\n",
            "|  0|   0|       0|         0|          0|  997126|  832135|  786552|912917|  291542|         610135|                0|        0|              0|              0|           0|          0|       0|    0|\n",
            "+---+----+--------+----------+-----------+--------+--------+--------+------+--------+---------------+-----------------+---------+---------------+---------------+------------+-----------+--------+-----+\n",
            "\n"
          ]
        }
      ]
    },
    {
      "cell_type": "code",
      "source": [
        "sia = SentimentIntensityAnalyzer()\n",
        "\n",
        "def vader_sentiment(text):\n",
        "    if text.strip() == \"\":\n",
        "        return 0.0\n",
        "    return float(sia.polarity_scores(text)[\"compound\"])\n",
        "\n",
        "vader_udf = F.udf(vader_sentiment, FloatType())"
      ],
      "metadata": {
        "id": "okH_MO95-j9w"
      },
      "execution_count": 78,
      "outputs": []
    },
    {
      "cell_type": "code",
      "source": [
        "def shannon_entropy(s):\n",
        "    if s.strip() == \"\":\n",
        "        return 0.0\n",
        "    counts = Counter(s)\n",
        "    length = len(s)\n",
        "    entropy = -sum((count/length) * math.log2(count/length) for count in counts.values())\n",
        "    return float(entropy)\n",
        "\n",
        "entropy_udf = F.udf(shannon_entropy, FloatType())"
      ],
      "metadata": {
        "id": "hrjv7ALHAB1n"
      },
      "execution_count": 83,
      "outputs": []
    },
    {
      "cell_type": "code",
      "source": [
        "user_features = users_labeled.select(\n",
        "    F.col(\"id\"),\n",
        "    F.col(\"following_count\"),\n",
        "    F.col(\"followers_count\"),\n",
        "    F.col(\"tweet_count\"),\n",
        "    F.length(F.col(\"username\")).alias(\"username_length\"),\n",
        "    F.length(F.col(\"name\")).alias(\"name_length\"),\n",
        "    (F.unix_timestamp(F.current_timestamp()) - F.unix_timestamp(F.to_timestamp(\"created_at\"))).alias(\"account_age_seconds\"),\n",
        "    F.col(\"protected\").alias(\"is_protected\"),\n",
        "    F.col(\"verified\").alias(\"is_verified\"),\n",
        "    F.col(\"listed_count\"),\n",
        "    F.when(F.col(\"description\") == \"\", False).otherwise(True).alias(\"has_description\"),\n",
        "    F.when(F.col(\"location\").isNull() | (F.col(\"location\") == \"\"), False).otherwise(True).alias(\"has_location\"),\n",
        "    F.when(F.col(\"cashtags\").isNotNull(), F.size(F.col(\"cashtags\"))).otherwise(F.lit(0)).alias(\"cashtag_in_description_count\"),\n",
        "    F.when(F.col(\"hashtags\").isNotNull(), F.size(F.col(\"hashtags\"))).otherwise(F.lit(0)).alias(\"hashtag_in_description_count\"),\n",
        "    F.when(F.col(\"mentions\").isNotNull(), F.size(F.col(\"mentions\"))).otherwise(F.lit(0)).alias(\"mention_in_description_count\"),\n",
        "    F.when(F.col(\"urls\").isNotNull(), F.size(F.col(\"urls\"))).otherwise(F.lit(0)).alias(\"url_in_description_count\"),\n",
        "    F.when(F.col(\"description\").rlike(\"(?i)\\\\bbot\\\\b\"), True).otherwise(False).alias(\"has_bot_word_in_description\"),\n",
        "    F.when(F.col(\"username\").rlike(\"(?i)\\\\bbot\\\\b\"), True).otherwise(False).alias(\"has_bot_word_in_username\"),\n",
        "    F.when(F.col(\"name\").rlike(\"(?i)\\\\bbot\\\\b\"), True).otherwise(False).alias(\"has_bot_word_in_name\"),\n",
        "    F.length(F.col(\"description\")).alias(\"description_length\"),\n",
        "    (F.col(\"followers_count\")/(F.col(\"following_count\") + 1e-6)).alias(\"followers_following_ratio\"),\n",
        "    (F.col(\"tweet_count\")/(F.unix_timestamp(F.current_timestamp()) - F.unix_timestamp(F.to_timestamp(\"created_at\")))).alias(\"tweet_rate\"),\n",
        "    (F.col(\"followers_count\")/(F.unix_timestamp(F.current_timestamp()) - F.unix_timestamp(F.to_timestamp(\"created_at\")))).alias(\"follower_rate\"),\n",
        "    (F.col(\"following_count\")/(F.unix_timestamp(F.current_timestamp()) - F.unix_timestamp(F.to_timestamp(\"created_at\")))).alias(\"following_rate\"),\n",
        "    (F.col(\"listed_count\")/(F.unix_timestamp(F.current_timestamp()) - F.unix_timestamp(F.to_timestamp(\"created_at\")))).alias(\"listed_rate\"),\n",
        "    F.levenshtein(F.col(\"username\"), F.col(\"name\")).alias(\"username_name_levenshtein\"),\n",
        "    (F.length(F.col(\"username\"))/(F.length(F.col(\"name\")) + 1e-6)).alias(\"username_length_name_length_ratio\"),\n",
        "    F.when(F.col(\"pinned_tweet_id\").isNull(), False).otherwise(True).alias(\"has_pinned_tweet\"),\n",
        "    F.length(F.regexp_replace(F.col(\"username\"), \"[^\\\\d]\", \"\")).alias(\"num_digits_in_username\"),\n",
        "    F.length(F.regexp_replace(F.col(\"name\"), \"[^\\\\d]\", \"\")).alias(\"num_digits_in_name\"),\n",
        "    (F.length(F.regexp_replace(F.col(\"username\"), \"[^A-Z]\", \"\"))/(F.length(F.regexp_replace(F.col(\"username\"), \"[^a-z]\", \"\")) + 1e-6)).alias(\"num_uppercase_in_username_num_lowercase_in_username_ratio\"),\n",
        "    (F.length(F.regexp_replace(F.col(\"name\"), \"[^A-Z]\", \"\"))/(F.length(F.regexp_replace(F.col(\"name\"), \"[^a-z]\", \"\")) + 1e-6)).alias(\"num_uppercase_in_name_num_lowercase_in_name_ratio\"),\n",
        "    (F.col(\"following_count\")/(F.col(\"followers_count\") + 1e-6)).alias(\"following_followers_ratio\"),\n",
        "    (F.col(\"following_count\") / (F.col(\"followers_count\")**2 + 1e-6)).alias(\"following_over_followers_squared\"),\n",
        "    (F.col(\"following_count\") / (F.col(\"followers_count\") + F.col(\"following_count\") + 1e-6)).alias(\"following_over_total_connections_ratio\"),\n",
        "    ((2 * F.col(\"followers_count\")) / (F.col(\"following_count\") + 1e-6)).alias(\"double_followers_over_following\"),\n",
        "    (F.col(\"listed_count\") / (F.col(\"followers_count\") + 1e-6)).alias(\"listed_over_followers_ratio\"),\n",
        "    (F.col(\"tweet_count\") / (F.col(\"followers_count\") + 1e-6)).alias(\"tweet_over_followers_ratio\"),\n",
        "    (F.col(\"listed_count\") / (F.col(\"tweet_count\") + 1e-6)).alias(\"listed_over_followers_ratio\"),\n",
        "    vader_udf(F.col(\"description\")).alias(\"description_sentiment\"),\n",
        "    entropy_udf(F.col(\"name\")).alias(\"name_entropy\"),\n",
        "    entropy_udf(F.col(\"username\")).alias(\"username_entropy\")\n",
        "    )"
      ],
      "metadata": {
        "id": "S2TklOE1NR4W"
      },
      "execution_count": 84,
      "outputs": []
    },
    {
      "cell_type": "code",
      "source": [
        "user_features.show(20, truncate=False)"
      ],
      "metadata": {
        "colab": {
          "base_uri": "https://localhost:8080/"
        },
        "id": "cNzg48OdN_Hk",
        "outputId": "d9a11910-1e44-49e1-eeef-77dc0bd739a9"
      },
      "execution_count": 85,
      "outputs": [
        {
          "output_type": "stream",
          "name": "stdout",
          "text": [
            "+--------------------+---------------+---------------+-----------+---------------+-----------+-------------------+------------+-----------+------------+---------------+------------+----------------------------+----------------------------+----------------------------+------------------------+---------------------------+------------------------+--------------------+------------------+-------------------------+---------------------+---------------------+---------------------+---------------------+-------------------------+---------------------------------+----------------+----------------------+------------------+---------------------------------------------------------+-------------------------------------------------+-------------------------+--------------------------------+--------------------------------------+-------------------------------+---------------------------+--------------------------+---------------------------+---------------------+------------+----------------+\n",
            "|id                  |following_count|followers_count|tweet_count|username_length|name_length|account_age_seconds|is_protected|is_verified|listed_count|has_description|has_location|cashtag_in_description_count|hashtag_in_description_count|mention_in_description_count|url_in_description_count|has_bot_word_in_description|has_bot_word_in_username|has_bot_word_in_name|description_length|followers_following_ratio|tweet_rate           |follower_rate        |following_rate       |listed_rate          |username_name_levenshtein|username_length_name_length_ratio|has_pinned_tweet|num_digits_in_username|num_digits_in_name|num_uppercase_in_username_num_lowercase_in_username_ratio|num_uppercase_in_name_num_lowercase_in_name_ratio|following_followers_ratio|following_over_followers_squared|following_over_total_connections_ratio|double_followers_over_following|listed_over_followers_ratio|tweet_over_followers_ratio|listed_over_followers_ratio|description_sentiment|name_entropy|username_entropy|\n",
            "+--------------------+---------------+---------------+-----------+---------------+-----------+-------------------+------------+-----------+------------+---------------+------------+----------------------------+----------------------------+----------------------------+------------------------+---------------------------+------------------------+--------------------+------------------+-------------------------+---------------------+---------------------+---------------------+---------------------+-------------------------+---------------------------------+----------------+----------------------+------------------+---------------------------------------------------------+-------------------------------------------------+-------------------------+--------------------------------+--------------------------------------+-------------------------------+---------------------------+--------------------------+---------------------------+---------------------+------------+----------------+\n",
            "|u103016248          |3939           |3899           |250198     |11             |36         |493524839          |false       |false      |123         |true           |true        |0                           |0                           |0                           |0                       |false                      |false                   |false               |157               |0.9898451381086963       |5.069613122349856E-4 |7.90031157884639E-6  |7.981361197506009E-6 |2.492275773783293E-7 |29                       |0.3055555470679015               |false           |4                     |0                 |0.16666663888889352                                      |0.588235259515573                                |1.01025904052058         |2.591072174351425E-4            |0.5025516712806134                    |1.9796902762173927             |0.0315465503894469         |64.16978710844582         |4.916106443676944E-4       |-0.7633              |4.2045116   |3.2776134       |\n",
            "|u1089159225148882949|577            |350            |237        |12             |25         |207979966          |false       |false      |1           |true           |true        |0                           |0                           |1                           |0                       |false                      |false                   |false               |127               |0.6065857875102499       |1.1395328336576417E-6|1.6828543956969394E-6|2.7743056751918117E-6|4.80815541627697E-9  |18                       |0.4799999808000007               |false           |0                     |0                 |0.0                                                      |0.49999996428571686                              |1.6485714238612246       |0.004710204081594203            |0.6224379712810809                    |1.2131715750204999             |0.002857142848979592       |0.6771428552081633        |0.0042194092648970075      |0.6124               |4.103465    |3.4182959       |\n",
            "|u1109809482656149504|393            |12471          |766        |15             |25         |203056561          |false       |false      |113         |true           |false       |0                           |0                           |0                           |0                       |false                      |false                   |false               |51                |31.732824346735818       |3.7723479420101084E-6|6.141638535875726E-5 |1.9354213331722877E-6|5.564951924897418E-7 |16                       |0.599999976000001                |true            |0                     |0                 |0.15384614201183525                                      |0.14999999250000037                              |0.03151311041363859      |2.52691126743367E-6             |0.030550373131953485                  |63.465648693471636             |0.00906102156931593        |0.06142250019553985       |0.1475195820528465         |0.0                  |3.8936608   |3.3232315       |\n",
            "|u1134223836         |1888           |1625           |19433      |14             |15         |396934678          |false       |false      |5           |false          |true        |0                           |0                           |0                           |0                       |false                      |false                   |false               |0                 |0.8606991520864941       |4.895767761566048E-5 |4.093872594321426E-6 |4.756450128048525E-6 |1.2596531059450542E-8|1                        |0.9333332711111153               |false           |0                     |0                 |0.16666665277777895                                      |0.16666665277777895                              |1.1618461531311715       |7.149822485204393E-4            |0.537432393812288                     |1.7213983041729881             |0.0030769230750295855      |11.958769223409988        |2.572942931993365E-4       |0.0                  |3.006239    |2.842371        |\n",
            "|u1156622199005929473|24             |519            |1382       |11             |13         |191895539          |false       |false      |4           |true           |false       |0                           |0                           |0                           |0                       |false                      |false                   |false               |121               |21.62499909895837        |7.201834952505071E-6 |2.7045964836108043E-6|1.250680454848927E-7 |2.0844674247482117E-8|2                        |0.8461537810650938               |false           |0                     |0                 |0.22222219753086697                                      |0.22222219753086697                              |0.04624277447737423      |8.909975831657478E-5            |0.04419889494622671                   |43.24999819791674              |0.0077071290795623715      |2.6628130969887995        |0.0028943560036943875      |0.0                  |3.3927474   |3.0957952       |\n",
            "|u1163776538707451908|1106           |4861           |2846       |11             |10         |190189793          |false       |false      |42          |true           |true        |0                           |0                           |0                           |1                       |false                      |false                   |false               |143               |4.395117536713275        |1.4963999671633273E-5|2.5558679692132585E-5|5.815243723410541E-6 |2.208320401295142E-7 |5                        |1.099999890000011                |false           |0                     |0                 |0.22222219753086697                                      |0.285714244897965                                |0.22752520052920688      |4.680625397572589E-5            |0.18535277355700472                   |8.79023507342655               |0.008640197488450895       |0.5854762393364582        |0.014757554457218007       |0.1779               |3.321928    |3.4594316       |\n",
            "|u1266703520205549568|62             |3              |66         |11             |12         |165650090          |false       |false      |0           |true           |false       |0                           |0                           |0                           |0                       |false                      |false                   |false               |1                 |0.04838709599375652      |3.9843020912333945E-7|1.8110464051060884E-8|3.742829237219249E-7 |0.0                  |5                        |0.9166665902777842               |false           |0                     |0                 |0.0                                                      |0.0                                              |20.666659777780072       |6.8888881234568755              |0.9538461391715979                    |0.09677419198751304            |0.0                        |21.99999266666911         |0.0                        |0.0                  |3.188722    |3.0271692       |\n",
            "|u1309034737756000256|233            |217            |27         |9              |25         |155557544          |false       |false      |0           |true           |false       |0                           |0                           |0                           |0                       |false                      |false                   |false               |9                 |0.9313304681058778       |1.7356920986101452E-7|1.3949821681422277E-6|1.4978379962080142E-6|0.0                  |19                       |0.35999998560000057              |false           |0                     |0                 |0.285714244897965                                        |0.2222222098765439                               |1.0737327139459323       |0.004948077045489433            |0.5177777766271605                    |1.8626609362117557             |0.0                        |0.12442396256025824       |0.0                        |0.2732               |3.749275    |2.7254806       |\n",
            "|u1341789703633178624|136            |0              |6          |10             |2          |147748145          |false       |false      |0           |false          |false       |0                           |0                           |0                           |0                       |false                      |false                   |false               |0                 |0.0                      |4.0609646909610945E-8|0.0                  |9.204853299511814E-7 |0.0                  |8                        |4.99999750000125                 |false           |8                     |0                 |0.0                                                      |0.0                                              |1.36E8                   |1.36E8                          |0.9999999926470589                    |0.0                            |0.0                        |6000000.0                 |0.0                        |0.0                  |1.0         |3.121928        |\n",
            "|u1351974920599842819|213            |184            |1006       |11             |12         |145319815          |false       |false      |0           |true           |true        |0                           |0                           |1                           |0                       |false                      |false                   |false               |148               |0.8638497612025833       |6.922662267358378E-6 |1.2661728202723077E-6|1.4657326669456605E-6|0.0                  |1                        |0.9166665902777842               |true            |0                     |0                 |0.3749999531250059                                       |0.3749999531250059                               |1.1576086893608224       |0.006291351606619466            |0.536523928119587                     |1.7276995224051666             |0.0                        |5.467391274633743         |0.0                        |0.6249               |3.251629    |3.0957952       |\n",
            "|u1351983417802383361|93             |40320          |4482       |12             |23         |145317786          |false       |false      |144         |true           |false       |0                           |0                           |0                           |0                       |false                      |false                   |false               |136               |433.5483824349636        |3.084274900802576E-5 |2.7746087461035223E-4|6.399767197113779E-7 |9.909316950369724E-7 |19                       |0.5217391077504736               |true            |0                     |0                 |0.0                                                      |0.1666666574074079                               |0.002306547618990413     |5.720604213907782E-8            |0.0023012397000395607                 |867.0967648699273              |0.003571428571339994       |0.11116071428295732       |0.032128514049056554       |0.5562               |3.708132    |3.4182959       |\n",
            "|u1356360497713598465|71             |354            |204        |12             |7          |144274210          |false       |false      |3           |true           |true        |0                           |0                           |0                           |0                       |false                      |false                   |false               |27                |4.985915422733585        |1.4139741260756166E-6|2.4536609834841585E-6|4.92118445840043E-7  |2.0793737148170835E-8|5                        |1.71428546938779                 |true            |0                     |0                 |0.0                                                      |0.0                                              |0.2005649711848447       |5.665677168073785E-4            |0.1670588231363322                    |9.97183084546717               |0.00847457624724696        |0.5762711848127933        |0.01470588228085352        |0.0                  |2.2359264   |2.7924812       |\n",
            "|u1413439514         |100            |1304           |221972     |11             |12         |388455558          |false       |false      |85          |true           |true        |0                           |1                           |3                           |0                       |false                      |false                   |false               |155               |13.0399998696            |5.714218664880064E-4 |3.356883363218605E-6 |2.5742970576829794E-7|2.1881524990305327E-7|10                       |0.9166665902777842               |true            |0                     |0                 |0.22222219753086697                                      |0.3749999531250059                               |0.07668711650560803      |5.880913846961049E-5            |0.07122507117434111                   |26.0799997392                  |0.06518404902976682        |170.22392624982825        |3.829311805075283E-4       |0.7783               |3.188722    |3.0271692       |\n",
            "|u1467973039883182090|1688           |1573           |146        |5              |4          |117663691          |false       |false      |2           |true           |false       |0                           |0                           |0                           |1                       |false                      |false                   |false               |23                |0.931872037362635        |1.240824580286199E-6 |1.3368610032809527E-5|1.4345971859747286E-5|1.6997596990221903E-8|5                        |1.249999687500078                |false           |1                     |0                 |0.0                                                      |0.0                                              |1.0731087087901405       |6.822051554176174E-4            |0.517632627869478                     |1.86374407472527               |0.0012714558161020623      |0.09281627457545055       |0.013698630043160069       |0.0                  |1.5         |1.921928        |\n",
            "|u1471458789035413504|8              |14             |220        |12             |12         |116832622          |false       |false      |3           |true           |false       |0                           |0                           |0                           |0                       |false                      |false                   |false               |37                |1.7499997812500274       |1.8830357158294368E-6|1.1982954555278233E-7|6.847402603016133E-8 |2.5677759761310502E-8|7                        |0.9999999166666736               |false           |0                     |0                 |0.0                                                      |0.22222219753086697                              |0.5714285306122479       |0.04081632632236568             |0.36363634710743875                   |3.499999562500055              |0.21428569897959293        |15.714284591836815        |0.013636363574380165       |0.25                 |3.251629    |3.0220551       |\n",
            "|u1483629332278956035|1              |0              |0          |8              |7          |113930957          |false       |false      |0           |false          |false       |0                           |0                           |0                           |0                       |false                      |false                   |false               |0                 |0.0                      |0.0                  |0.0                  |8.777245678713995E-9 |0.0                  |1                        |1.14285697959186                 |false           |1                     |0                 |0.16666663888889352                                      |0.16666663888889352                              |1000000.0                |1000000.0                       |0.9999990000010001                    |0.0                            |0.0                        |0.0                       |0.0                        |0.0                  |2.5216405   |2.75            |\n",
            "|u1485073227399548930|4              |0              |0          |15             |15         |113586691          |false       |false      |0           |false          |false       |0                           |0                           |0                           |0                       |false                      |false                   |false               |0                 |0.0                      |0.0                  |0.0                  |3.521539332455772E-8 |0.0                  |8                        |0.9999999333333378               |false           |8                     |0                 |0.16666663888889352                                      |0.16666665277777895                              |4000000.0                |4000000.0                       |0.9999997500000625                    |0.0                            |0.0                        |0.0                       |0.0                        |0.0                  |3.5068905   |3.189898        |\n",
            "|u1485561333839917058|1              |0              |0          |11             |3          |113470327          |false       |false      |0           |false          |false       |0                           |0                           |0                           |0                       |false                      |false                   |false               |0                 |0.0                      |0.0                  |0.0                  |8.81287669154245E-9  |0.0                  |8                        |3.6666654444448517               |false           |8                     |0                 |0.0                                                      |0.0                                              |1000000.0                |1000000.0                       |0.9999990000010001                    |0.0                            |0.0                        |0.0                       |0.0                        |0.0                  |1.5849625   |3.0957952       |\n",
            "|u15932785           |3218           |2909           |45620      |10             |11         |537156773          |false       |false      |97          |true           |true        |0                           |0                           |3                           |0                       |false                      |false                   |false               |152               |0.9039776255736552       |8.492865080191403E-5 |5.415551187697674E-6 |5.990802242011384E-6 |1.80580428053171E-7  |1                        |0.9090908264462886               |false           |0                     |0                 |0.24999996875000394                                      |0.24999996875000394                              |1.1062220690593942       |3.8027571998609116E-4           |0.5252162558307139                    |1.8079552511473105             |0.033344792013288146       |15.682365068517578        |0.002126260412053348       |0.7906               |3.0957952   |2.9219282       |\n",
            "|u1648320506         |688            |262            |9802       |7              |19         |380765843          |false       |false      |2           |true           |true        |0                           |0                           |0                           |0                       |false                      |false                   |false               |159               |0.3808139529348634       |2.574285530123037E-5 |6.880869301083816E-7 |1.8068847630326966E-6|5.2525719855601645E-9|13                       |0.36842103324099823              |false           |0                     |0                 |0.399999920000016                                        |0.23076921301775286                              |2.6259541884505566       |0.010022725948225298            |0.7242105255534627                    |0.7616279058697268             |0.007633587757123711       |37.41221359766331         |2.0403999181758416E-4      |0.0                  |3.5766177   |2.5216405       |\n",
            "+--------------------+---------------+---------------+-----------+---------------+-----------+-------------------+------------+-----------+------------+---------------+------------+----------------------------+----------------------------+----------------------------+------------------------+---------------------------+------------------------+--------------------+------------------+-------------------------+---------------------+---------------------+---------------------+---------------------+-------------------------+---------------------------------+----------------+----------------------+------------------+---------------------------------------------------------+-------------------------------------------------+-------------------------+--------------------------------+--------------------------------------+-------------------------------+---------------------------+--------------------------+---------------------------+---------------------+------------+----------------+\n",
            "only showing top 20 rows\n",
            "\n"
          ]
        }
      ]
    },
    {
      "cell_type": "code",
      "source": [
        "user_features.filter(F.col(\"name\") == \"\").show()"
      ],
      "metadata": {
        "colab": {
          "base_uri": "https://localhost:8080/"
        },
        "id": "ikFw3sXRuZEN",
        "outputId": "02718850-bb7c-4f77-f17c-dfacc3d169cf"
      },
      "execution_count": 51,
      "outputs": [
        {
          "output_type": "stream",
          "name": "stdout",
          "text": [
            "+--------------------+---------------+---------------+-----------+---------------+-----------+-------------------+------------+-----------+------------+---------------+------------+----------------------------+----------------------------+----------------------------+------------------------+---------------------------+------------------------+--------------------+------------------+-------------------------+--------------------+--------------------+--------------------+--------------------+-------------------------+---------------------------------+\n",
            "|                  id|following_count|followers_count|tweet_count|username_length|name_length|account_age_seconds|is_protected|is_verified|listed_count|has_description|has_location|cashtag_in_description_count|hashtag_in_description_count|mention_in_description_count|url_in_description_count|has_bot_word_in_description|has_bot_word_in_username|has_bot_word_in_name|description_length|followers_following_ratio|          tweet_rate|       follower_rate|      following_rate|         listed_rate|username_name_levenshtein|username_length_name_length_ratio|\n",
            "+--------------------+---------------+---------------+-----------+---------------+-----------+-------------------+------------+-----------+------------+---------------+------------+----------------------------+----------------------------+----------------------------+------------------------+---------------------------+------------------------+--------------------+------------------+-------------------------+--------------------+--------------------+--------------------+--------------------+-------------------------+---------------------------------+\n",
            "|u1021945338746347522|            153|             80|        128|             13|          0|          224001640|       false|      false|           0|           true|       false|                           0|                           0|                           0|                       1|                      false|                   false|               false|               109|       0.5228758169934641|5.714243877857323E-7|3.571402423660827E-7|6.830307135251331E-7|                 0.0|                       13|                             13.0|\n",
            "|u1045321064966950913|           2731|            124|         18|             15|          0|          218428433|       false|      false|           0|           true|       false|                           0|                           0|                           0|                       1|                      false|                   false|               false|               111|      0.04540461369461735|8.240685405640392E-8|5.676916612774491E-7|1.250295102377994...|                 0.0|                       15|                             15.0|\n",
            "|u1069842622074646528|             26|          49361|         58|              6|          0|          212582038|       false|      false|         121|           true|       false|                           0|                           0|                           0|                       1|                      false|                   false|               false|               102|                   1898.5|2.728358451432289E-7|2.321974164157745...|1.223057236848957E-7|5.691920217643224E-7|                        6|                              6.0|\n",
            "|u1073819937586667520|            540|              4|         11|             12|          0|          211633772|        true|      false|           0|           true|       false|                           0|                           0|                           0|                       1|                      false|                   false|               false|               108|     0.007407407407407408|5.197658150703848...|1.890057509346854...|2.551577637618253E-6|                 0.0|                       12|                             12.0|\n",
            "|u1128780709060055041|            270|            299|        154|             11|          0|          198530103|       false|      false|           0|           true|       false|                           0|                           0|                           0|                       1|                      false|                   false|               false|               107|       1.1074074074074074|7.757010028851896E-7|1.506068830277089E-6|1.359995264798709...|                 0.0|                       11|                             11.0|\n",
            "|u1218816528336019457|            218|              5|         84|             14|          0|          177063864|       false|      false|           0|           true|       false|                           0|                           0|                           0|                       1|                      false|                   false|               false|               110|     0.022935779816513763|4.744050993939678E-7|2.823839877345046...|1.231194186522440...|                 0.0|                       14|                             14.0|\n",
            "|u1228940291660488704|           3114|           3073|       2661|             11|          0|          174650187|       false|      false|           0|           true|       false|                           0|                           0|                           0|                       1|                      false|                   false|               false|               107|       0.9868336544637123|1.523617034546891...|1.759517154138518...|1.782992651476519...|                 0.0|                       11|                             11.0|\n",
            "|         u1242802669|            702|           7827|       4461|             10|          0|          394031788|       false|      false|          35|           true|       false|                           0|                           0|                           0|                       1|                      false|                   false|               false|               106|       11.149572649572649|1.132142161078638...|1.986387961166219...|1.781582149915275...|8.882532086472171E-8|                       10|                             10.0|\n",
            "|          u127750483|          46425|          77364|     175981|              9|          0|          486566123|       false|      false|         709|           true|       false|                           0|                           0|                           0|                       1|                      false|                   false|               false|               105|       1.6664297253634894|3.616795162699808E-4|1.589999721373943...|9.541354772864037E-5|1.457150357342079...|                        9|                              9.0|\n",
            "|u1322077335898755072|            106|              8|         26|             15|          0|          152444584|       false|      false|           0|           true|       false|                           0|                           0|                           0|                       1|                      false|                   false|               false|               111|      0.07547169811320754|1.705537797262774...|5.247808606962383...|6.953346404225157E-7|                 0.0|                       15|                             15.0|\n",
            "|u1395059317943021573|           3490|            319|       1162|              9|          0|          135044327|       false|      false|           0|           true|       false|                           0|                           0|                           0|                       1|                      false|                   false|               false|               105|      0.09140401146131805|8.604582108806393E-6|2.362187343123269...|2.584336623040818...|                 0.0|                        9|                              9.0|\n",
            "|u1398831524108279816|            990|            208|        412|             11|          0|          134144950|       false|      false|           0|           true|       false|                           0|                           0|                           0|                       1|                      false|                   false|               false|               107|       0.2101010101010101|3.071304585077559...|1.550561538097408...|7.380076551521321E-6|                 0.0|                       11|                             11.0|\n",
            "|u1407927079958630400|            392|             32|        135|             15|          0|          131976363|       false|      false|           0|           true|       false|                           0|                           0|                           0|                       1|                      false|                   false|               false|               111|      0.08163265306122448|1.022910443440542...|2.424676606673878...|2.970228843175501E-6|                 0.0|                       15|                             15.0|\n",
            "|u1443915077455917058|             56|              1|          0|             13|          0|          123396187|       false|      false|           0|           true|       false|                           0|                           0|                           0|                       1|                      false|                   false|               false|               109|     0.017857142857142856|                 0.0|8.103978123732463E-9|4.538227749290179E-7|                 0.0|                       13|                             13.0|\n",
            "|u1464132417942437889|             24|              8|          3|             13|          0|          118575987|       false|      false|           0|           true|       false|                           0|                           0|                           0|                       1|                      false|                   false|               false|               109|       0.3333333333333333|2.530023216252039...|6.746728576672105E-8|2.024018573001631...|                 0.0|                       13|                             13.0|\n",
            "|           u18622482|             66|            421|       1364|              9|          0|          525360204|       false|      false|          32|           true|       false|                           0|                           0|                           0|                       1|                      false|                   false|               false|               105|        6.378787878787879|2.596313899710607E-6|8.013549499839923E-7|1.256280919214809...|6.091059002253623E-8|                        9|                              9.0|\n",
            "|          u224201623|            325|             19|          3|             12|          0|          464677644|       false|      false|           0|           true|       false|                           0|                           0|                           0|                       1|                      false|                   false|               false|               108|      0.05846153846153846|6.456088513696605E-9|4.088856058674516...|6.994095889837989E-7|                 0.0|                       12|                             12.0|\n",
            "|         u2256377742|            278|           4316|        500|             15|          0|          368860394|       false|      false|           3|           true|       false|                           0|                           0|                           0|                       1|                      false|                   false|               false|               111|       15.525179856115107|1.355526394628315...|1.170090383843162E-5|7.536726754133435E-7|8.133158367769893E-9|                       15|                             15.0|\n",
            "|         u2436270133|            823|           1019|        168|             14|          0|          359395823|       false|      false|           4|           true|       false|                           0|                           0|                           0|                       1|                      false|                   false|               false|               110|       1.2381530984204132|4.674511756915995E-7|2.835313976367499...|2.289954271393967E-6|1.112978989741903...|                       14|                             14.0|\n",
            "|         u2486619919|              3|              1|        614|              8|          0|          356793823|       false|      false|           0|          false|       false|                           0|                           0|                           0|                       0|                      false|                   false|               false|                 0|       0.3333333333333333|1.720881810221249...|2.802739104594868...|8.408217313784606E-9|                 0.0|                        8|                              8.0|\n",
            "+--------------------+---------------+---------------+-----------+---------------+-----------+-------------------+------------+-----------+------------+---------------+------------+----------------------------+----------------------------+----------------------------+------------------------+---------------------------+------------------------+--------------------+------------------+-------------------------+--------------------+--------------------+--------------------+--------------------+-------------------------+---------------------------------+\n",
            "only showing top 20 rows\n",
            "\n"
          ]
        }
      ]
    },
    {
      "cell_type": "code",
      "source": [
        "tweets = spark.read.json(f\"/content/{file_name}\")\n",
        "\n",
        "tweets.printSchema()"
      ],
      "metadata": {
        "id": "BoXGa7V54LOz",
        "colab": {
          "base_uri": "https://localhost:8080/"
        },
        "outputId": "083cb8e7-6dc3-4e36-dbfc-994c5d686777"
      },
      "execution_count": 7,
      "outputs": [
        {
          "metadata": {
            "tags": null
          },
          "name": "stdout",
          "output_type": "stream",
          "text": [
            "root\n",
            " |-- attachments: struct (nullable = true)\n",
            " |    |-- media_keys: array (nullable = true)\n",
            " |    |    |-- element: string (containsNull = true)\n",
            " |    |-- poll_ids: array (nullable = true)\n",
            " |    |    |-- element: string (containsNull = true)\n",
            " |-- author_id: long (nullable = true)\n",
            " |-- context_annotations: array (nullable = true)\n",
            " |    |-- element: struct (containsNull = true)\n",
            " |    |    |-- domain: struct (nullable = true)\n",
            " |    |    |    |-- description: string (nullable = true)\n",
            " |    |    |    |-- id: string (nullable = true)\n",
            " |    |    |    |-- name: string (nullable = true)\n",
            " |    |    |-- entity: struct (nullable = true)\n",
            " |    |    |    |-- description: string (nullable = true)\n",
            " |    |    |    |-- id: string (nullable = true)\n",
            " |    |    |    |-- name: string (nullable = true)\n",
            " |-- conversation_id: long (nullable = true)\n",
            " |-- created_at: string (nullable = true)\n",
            " |-- entities: struct (nullable = true)\n",
            " |    |-- annotations: array (nullable = true)\n",
            " |    |    |-- element: struct (containsNull = true)\n",
            " |    |    |    |-- end: long (nullable = true)\n",
            " |    |    |    |-- normalized_text: string (nullable = true)\n",
            " |    |    |    |-- probability: double (nullable = true)\n",
            " |    |    |    |-- start: long (nullable = true)\n",
            " |    |    |    |-- type: string (nullable = true)\n",
            " |    |-- cashtags: array (nullable = true)\n",
            " |    |    |-- element: struct (containsNull = true)\n",
            " |    |    |    |-- end: long (nullable = true)\n",
            " |    |    |    |-- start: long (nullable = true)\n",
            " |    |    |    |-- tag: string (nullable = true)\n",
            " |    |-- hashtags: array (nullable = true)\n",
            " |    |    |-- element: struct (containsNull = true)\n",
            " |    |    |    |-- end: long (nullable = true)\n",
            " |    |    |    |-- indices: array (nullable = true)\n",
            " |    |    |    |    |-- element: long (containsNull = true)\n",
            " |    |    |    |-- start: long (nullable = true)\n",
            " |    |    |    |-- tag: string (nullable = true)\n",
            " |    |    |    |-- text: string (nullable = true)\n",
            " |    |-- media: array (nullable = true)\n",
            " |    |    |-- element: struct (containsNull = true)\n",
            " |    |    |    |-- display_url: string (nullable = true)\n",
            " |    |    |    |-- expanded_url: string (nullable = true)\n",
            " |    |    |    |-- id: long (nullable = true)\n",
            " |    |    |    |-- id_str: string (nullable = true)\n",
            " |    |    |    |-- indices: array (nullable = true)\n",
            " |    |    |    |    |-- element: long (containsNull = true)\n",
            " |    |    |    |-- media_url: string (nullable = true)\n",
            " |    |    |    |-- media_url_https: string (nullable = true)\n",
            " |    |    |    |-- sizes: struct (nullable = true)\n",
            " |    |    |    |    |-- large: struct (nullable = true)\n",
            " |    |    |    |    |    |-- h: long (nullable = true)\n",
            " |    |    |    |    |    |-- resize: string (nullable = true)\n",
            " |    |    |    |    |    |-- w: long (nullable = true)\n",
            " |    |    |    |    |-- medium: struct (nullable = true)\n",
            " |    |    |    |    |    |-- h: long (nullable = true)\n",
            " |    |    |    |    |    |-- resize: string (nullable = true)\n",
            " |    |    |    |    |    |-- w: long (nullable = true)\n",
            " |    |    |    |    |-- small: struct (nullable = true)\n",
            " |    |    |    |    |    |-- h: long (nullable = true)\n",
            " |    |    |    |    |    |-- resize: string (nullable = true)\n",
            " |    |    |    |    |    |-- w: long (nullable = true)\n",
            " |    |    |    |    |-- thumb: struct (nullable = true)\n",
            " |    |    |    |    |    |-- h: long (nullable = true)\n",
            " |    |    |    |    |    |-- resize: string (nullable = true)\n",
            " |    |    |    |    |    |-- w: long (nullable = true)\n",
            " |    |    |    |-- source_status_id: long (nullable = true)\n",
            " |    |    |    |-- source_status_id_str: string (nullable = true)\n",
            " |    |    |    |-- source_user_id: long (nullable = true)\n",
            " |    |    |    |-- source_user_id_str: string (nullable = true)\n",
            " |    |    |    |-- type: string (nullable = true)\n",
            " |    |    |    |-- url: string (nullable = true)\n",
            " |    |-- mentions: array (nullable = true)\n",
            " |    |    |-- element: struct (containsNull = true)\n",
            " |    |    |    |-- end: long (nullable = true)\n",
            " |    |    |    |-- id: string (nullable = true)\n",
            " |    |    |    |-- start: long (nullable = true)\n",
            " |    |    |    |-- username: string (nullable = true)\n",
            " |    |-- symbols: array (nullable = true)\n",
            " |    |    |-- element: struct (containsNull = true)\n",
            " |    |    |    |-- indices: array (nullable = true)\n",
            " |    |    |    |    |-- element: long (containsNull = true)\n",
            " |    |    |    |-- text: string (nullable = true)\n",
            " |    |-- urls: array (nullable = true)\n",
            " |    |    |-- element: struct (containsNull = true)\n",
            " |    |    |    |-- description: string (nullable = true)\n",
            " |    |    |    |-- display_url: string (nullable = true)\n",
            " |    |    |    |-- end: long (nullable = true)\n",
            " |    |    |    |-- expanded_url: string (nullable = true)\n",
            " |    |    |    |-- images: array (nullable = true)\n",
            " |    |    |    |    |-- element: struct (containsNull = true)\n",
            " |    |    |    |    |    |-- height: long (nullable = true)\n",
            " |    |    |    |    |    |-- url: string (nullable = true)\n",
            " |    |    |    |    |    |-- width: long (nullable = true)\n",
            " |    |    |    |-- indices: array (nullable = true)\n",
            " |    |    |    |    |-- element: long (containsNull = true)\n",
            " |    |    |    |-- start: long (nullable = true)\n",
            " |    |    |    |-- status: long (nullable = true)\n",
            " |    |    |    |-- title: string (nullable = true)\n",
            " |    |    |    |-- unwound_url: string (nullable = true)\n",
            " |    |    |    |-- url: string (nullable = true)\n",
            " |    |-- user_mentions: array (nullable = true)\n",
            " |    |    |-- element: struct (containsNull = true)\n",
            " |    |    |    |-- id: long (nullable = true)\n",
            " |    |    |    |-- id_str: string (nullable = true)\n",
            " |    |    |    |-- indices: array (nullable = true)\n",
            " |    |    |    |    |-- element: long (containsNull = true)\n",
            " |    |    |    |-- name: string (nullable = true)\n",
            " |    |    |    |-- screen_name: string (nullable = true)\n",
            " |-- geo: struct (nullable = true)\n",
            " |    |-- coordinates: string (nullable = true)\n",
            " |    |-- place_id: string (nullable = true)\n",
            " |    |-- type: string (nullable = true)\n",
            " |-- id: string (nullable = true)\n",
            " |-- in_reply_to_user_id: long (nullable = true)\n",
            " |-- lang: string (nullable = true)\n",
            " |-- possibly_sensitive: boolean (nullable = true)\n",
            " |-- public_metrics: struct (nullable = true)\n",
            " |    |-- like_count: long (nullable = true)\n",
            " |    |-- quote_count: long (nullable = true)\n",
            " |    |-- reply_count: long (nullable = true)\n",
            " |    |-- retweet_count: long (nullable = true)\n",
            " |-- referenced_tweets: array (nullable = true)\n",
            " |    |-- element: struct (containsNull = true)\n",
            " |    |    |-- id: string (nullable = true)\n",
            " |    |    |-- type: string (nullable = true)\n",
            " |-- reply_settings: string (nullable = true)\n",
            " |-- source: string (nullable = true)\n",
            " |-- text: string (nullable = true)\n",
            " |-- withheld: struct (nullable = true)\n",
            " |    |-- copyright: boolean (nullable = true)\n",
            " |    |-- country_codes: array (nullable = true)\n",
            " |    |    |-- element: string (containsNull = true)\n",
            " |    |-- scope: string (nullable = true)\n",
            "\n"
          ]
        }
      ]
    },
    {
      "cell_type": "code",
      "source": [
        "tweets.show(5, truncate=False)"
      ],
      "metadata": {
        "colab": {
          "base_uri": "https://localhost:8080/"
        },
        "id": "WQcJouz95AqR",
        "outputId": "575a93c2-cbba-4679-f11f-df8d53441c28"
      },
      "execution_count": null,
      "outputs": [
        {
          "output_type": "stream",
          "name": "stdout",
          "text": [
            "+-----------+-------------------+-------------------+-------------------+-------------------------+-------------------------------------------------------------------------------------------------------------------------------------------------------------------------------------------------------------------------------------------------------------------------------------------------------------------------------------------------------------------------------------------------------------------------------------------------------------------------------------------------------------------------+----+--------------------+-------------------+----+------------------+--------------------+-----------------+--------------+------------------------------------------------------------------------------------+--------------------------------------------------------------------------------------------------------------------------------------------------------------------------------------------------------------------------------------------------------------------------------------------+--------+\n",
            "|attachments|author_id          |context_annotations|conversation_id    |created_at               |entities                                                                                                                                                                                                                                                                                                                                                                                                                                                                                                                 |geo |id                  |in_reply_to_user_id|lang|possibly_sensitive|public_metrics      |referenced_tweets|reply_settings|source                                                                              |text                                                                                                                                                                                                                                                                                        |withheld|\n",
            "+-----------+-------------------+-------------------+-------------------+-------------------------+-------------------------------------------------------------------------------------------------------------------------------------------------------------------------------------------------------------------------------------------------------------------------------------------------------------------------------------------------------------------------------------------------------------------------------------------------------------------------------------------------------------------------+----+--------------------+-------------------+----+------------------+--------------------+-----------------+--------------+------------------------------------------------------------------------------------+--------------------------------------------------------------------------------------------------------------------------------------------------------------------------------------------------------------------------------------------------------------------------------------------+--------+\n",
            "|NULL       |1304855289208819713|NULL               |1497798545872588801|2022-02-27 04:59:35+00:00|{NULL, NULL, [], [{pic.twitter.com/GXjjq83Rrn, https://twitter.com/cbtillustrates/status/1497798545872588801/photo/1, 1497798542869422086, 1497798542869422086, [135, 158], http://pbs.twimg.com/media/FMk_1szUYAYeJ7N.jpg, https://pbs.twimg.com/media/FMk_1szUYAYeJ7N.jpg, {{2025, fit, 1575}, {1200, fit, 933}, {680, fit, 529}, {150, crop, 150}}, NULL, NULL, NULL, NULL, photo, https://t.co/GXjjq83Rrn}], NULL, [], [], [{976935699793539073, 976935699793539073, [0, 13], sapphire starlight 💙✨, phaseknight_}]}|NULL|t1497798545872588801|976935699793539073 |en  |false             |{8, NULL, NULL, 0}  |NULL             |NULL          |<a href=\"http://twitter.com/download/android\" rel=\"nofollow\">Twitter for Android</a>|@phaseknight_ Although I didn't base this sketch on you specifically, I really think it vibes with your amazing NSFW Laudna cosplay! 🖤 https://t.co/GXjjq83Rrn                                                                                                                             |NULL    |\n",
            "|NULL       |1304855289208819713|NULL               |1496915534717210656|2022-02-24 18:30:49+00:00|{NULL, NULL, [], NULL, NULL, [], [{NULL, twitter.com/cbtillustrates…, NULL, https://twitter.com/cbtillustrates/status/1495109640459198464, NULL, [101, 124], NULL, NULL, NULL, NULL, https://t.co/VydxEYfaXi}], [{24630350, 24630350, [59, 73], Matthew Mercer, matthewmercer}, {3159148494, 3159148494, [74, 87], Critical Role, CriticalRole}, {17278037, 17278037, [88, 100], Titmouse Animation, TitmouseInc}]}                                                                                                      |NULL|t1496915534717210656|NULL               |en  |false             |{1, NULL, NULL, 0}  |NULL             |NULL          |<a href=\"http://twitter.com/download/android\" rel=\"nofollow\">Twitter for Android</a>|I mean, doesn't his beautiful face just scream Trinket?! 🥺 @matthewmercer @CriticalRole @TitmouseInc https://t.co/VydxEYfaXi                                                                                                                                                               |NULL    |\n",
            "|NULL       |1304855289208819713|NULL               |1495492095205068802|2022-02-20 20:14:35+00:00|{NULL, NULL, [], NULL, NULL, [], [], [{1484073764623106049, 1484073764623106049, [0, 11], Hannah, Cobalt_han}]}                                                                                                                                                                                                                                                                                                                                                                                                          |NULL|t1495492095205068802|1484073764623106049|en  |false             |{0, NULL, NULL, 0}  |NULL             |NULL          |<a href=\"http://twitter.com/download/android\" rel=\"nofollow\">Twitter for Android</a>|@Cobalt_han I'm British, so that used to be me too! Now I live in Alaska! 🐻                                                                                                                                                                                                                |NULL    |\n",
            "|NULL       |1304855289208819713|NULL               |1495110995861114883|2022-02-19 19:00:13+00:00|{NULL, NULL, [], NULL, NULL, [], [], [{1263007808, 1263007808, [3, 14], Ginny Di, itsginnydi}]}                                                                                                                                                                                                                                                                                                                                                                                                                          |NULL|t1495110995861114883|NULL               |en  |false             |{0, NULL, NULL, 101}|NULL             |NULL          |<a href=\"http://twitter.com/download/android\" rel=\"nofollow\">Twitter for Android</a>|RT @itsginnydi: the only thing better than the Legend of Vox Machina will be the Legend of Vox Machina the second time through 👏                                                                                                                                                           |NULL    |\n",
            "|NULL       |1304855289208819713|NULL               |1495110620277919745|2022-02-19 18:58:44+00:00|{NULL, NULL, [], NULL, NULL, [], [], []}                                                                                                                                                                                                                                                                                                                                                                                                                                                                                 |NULL|t1495110620277919745|1304855289208819713|en  |false             |{4, NULL, NULL, 0}  |NULL             |NULL          |<a href=\"http://twitter.com/download/android\" rel=\"nofollow\">Twitter for Android</a>|Lucky and his sister, among other bears, were orphaned as cubs by human behavior. Due to the lack of rehab &amp; release program for bears in Alaska, they would have been destroyed if our sanctuary didn't offer them a forever home. To learn more, check out Fortress of the Bear! (2/2)|NULL    |\n",
            "+-----------+-------------------+-------------------+-------------------+-------------------------+-------------------------------------------------------------------------------------------------------------------------------------------------------------------------------------------------------------------------------------------------------------------------------------------------------------------------------------------------------------------------------------------------------------------------------------------------------------------------------------------------------------------------+----+--------------------+-------------------+----+------------------+--------------------+-----------------+--------------+------------------------------------------------------------------------------------+--------------------------------------------------------------------------------------------------------------------------------------------------------------------------------------------------------------------------------------------------------------------------------------------+--------+\n",
            "only showing top 5 rows\n",
            "\n"
          ]
        }
      ]
    },
    {
      "cell_type": "code",
      "source": [
        "tweets_selected = tweets.select(\n",
        "    col(\"author_id\"),\n",
        "    col(\"created_at\"),\n",
        "    explode(\"entities.media\").alias(\"media_item\"),\n",
        "    col(\"id\"),\n",
        "    col(\"lang\"),\n",
        "    col(\"public_metrics.like_count\"),\n",
        "    col(\"public_metrics.retweet_count\"),\n",
        "    col(\"text\")\n",
        "    ).select(\n",
        "        col(\"author_id\"),\n",
        "        col(\"created_at\"),\n",
        "        col(\"media_item.media_url_https\").alias(\"media_url\"),\n",
        "        col(\"id\"),\n",
        "        col(\"lang\"),\n",
        "        col(\"like_count\"),\n",
        "        col(\"retweet_count\"),\n",
        "        col(\"text\")\n",
        "        )"
      ],
      "metadata": {
        "id": "YUIgowMCnixE"
      },
      "execution_count": null,
      "outputs": []
    },
    {
      "cell_type": "code",
      "source": [
        "tweets_selected.printSchema()"
      ],
      "metadata": {
        "colab": {
          "base_uri": "https://localhost:8080/"
        },
        "id": "Ksw3FbI0oI30",
        "outputId": "1d417a5b-bf1e-47a9-97f1-f2e480c8ecf9"
      },
      "execution_count": null,
      "outputs": [
        {
          "output_type": "stream",
          "name": "stdout",
          "text": [
            "root\n",
            " |-- author_id: long (nullable = true)\n",
            " |-- created_at: string (nullable = true)\n",
            " |-- media_url: string (nullable = true)\n",
            " |-- id: string (nullable = true)\n",
            " |-- lang: string (nullable = true)\n",
            " |-- like_count: long (nullable = true)\n",
            " |-- retweet_count: long (nullable = true)\n",
            " |-- text: string (nullable = true)\n",
            "\n"
          ]
        }
      ]
    },
    {
      "cell_type": "code",
      "source": [
        "tweets_selected.show(5, truncate=False)"
      ],
      "metadata": {
        "colab": {
          "base_uri": "https://localhost:8080/"
        },
        "id": "Lcp2HhD1n98I",
        "outputId": "f9473031-47fa-4042-93ff-b45fef0c9b44"
      },
      "execution_count": null,
      "outputs": [
        {
          "output_type": "stream",
          "name": "stdout",
          "text": [
            "+-------------------+-------------------------+-----------------------------------------------+--------------------+----+----------+-------------+--------------------------------------------------------------------------------------------------------------------------------------------------------------------------------------------------------------------------------------------------------------------------------------------------------+\n",
            "|author_id          |created_at               |media_url                                      |id                  |lang|like_count|retweet_count|text                                                                                                                                                                                                                                                                                                    |\n",
            "+-------------------+-------------------------+-----------------------------------------------+--------------------+----+----------+-------------+--------------------------------------------------------------------------------------------------------------------------------------------------------------------------------------------------------------------------------------------------------------------------------------------------------+\n",
            "|1304855289208819713|2022-02-27 04:59:35+00:00|https://pbs.twimg.com/media/FMk_1szUYAYeJ7N.jpg|t1497798545872588801|en  |8         |0            |@phaseknight_ Although I didn't base this sketch on you specifically, I really think it vibes with your amazing NSFW Laudna cosplay! 🖤 https://t.co/GXjjq83Rrn                                                                                                                                         |\n",
            "|1304855289208819713|2022-02-19 18:54:50+00:00|https://pbs.twimg.com/media/FL-yS1AUcAIfiy2.jpg|t1495109640459198464|en  |12        |0            |Now we wait for season 2 of #TheLegendofVoxMachina... will we get more Trinket?! If the amazing folks at @TitmouseInc &amp; @CriticalRole ever need of bear inspiration, I work with some wonderful good boys like Lucky who would love to provide reference materials! (1/2) https://t.co/vYuI4X1SSx   |\n",
            "|1304855289208819713|2022-02-19 18:44:49+00:00|https://pbs.twimg.com/media/FL-v__NVkAI5zQW.jpg|t1495107117413371904|en  |3         |0            |@leidensygdom Floryn, gnome grave cleric and Glenn, her giant badger beastie and battle mount! https://t.co/2Y6ct1Vh5D                                                                                                                                                                                  |\n",
            "|1304855289208819713|2022-02-17 21:49:16+00:00|https://pbs.twimg.com/media/FL1HCjFVQBs-pc3.jpg|t1494428761877463042|en  |3         |0            |D&amp;D tattoo design slowly coming together.. included some of the Menagerie Coast; the setting for my first attempt at DMing, inspired by @matthewmercer! I would looove to incorporate \"you can certainly try...\" somewhere, in Matt's handwriting, if he's willing to share! https://t.co/l0U9PoxPyp|\n",
            "|1304855289208819713|2022-02-16 09:11:41+00:00|https://pbs.twimg.com/media/FLtQDHtVkAUKj_9.jpg|t1493875722133262341|en  |7         |0            |So good at tweaking the saturation /after/ I’ve already posted a sketch to socials 🙃 https://t.co/cfdfceywEt                                                                                                                                                                                           |\n",
            "+-------------------+-------------------------+-----------------------------------------------+--------------------+----+----------+-------------+--------------------------------------------------------------------------------------------------------------------------------------------------------------------------------------------------------------------------------------------------------------------------------------------------------+\n",
            "only showing top 5 rows\n",
            "\n"
          ]
        }
      ]
    },
    {
      "cell_type": "code",
      "source": [
        "tweets_selected.select(\"lang\").distinct().show()"
      ],
      "metadata": {
        "colab": {
          "base_uri": "https://localhost:8080/"
        },
        "id": "tGN2WR5Oh-pd",
        "outputId": "0ef7cc18-2228-433f-d462-799868024b1e"
      },
      "execution_count": null,
      "outputs": [
        {
          "output_type": "stream",
          "name": "stdout",
          "text": [
            "+----+\n",
            "|lang|\n",
            "+----+\n",
            "|  en|\n",
            "|  vi|\n",
            "|  ne|\n",
            "|  ro|\n",
            "|  sl|\n",
            "| und|\n",
            "|  ur|\n",
            "|  lv|\n",
            "|  pl|\n",
            "|  pt|\n",
            "|  tl|\n",
            "|  in|\n",
            "|  ko|\n",
            "|  uk|\n",
            "|  cs|\n",
            "|  mr|\n",
            "|  sr|\n",
            "|  tr|\n",
            "|  de|\n",
            "|  is|\n",
            "+----+\n",
            "only showing top 20 rows\n",
            "\n"
          ]
        }
      ]
    },
    {
      "cell_type": "code",
      "source": [
        "# Check for missing values\n",
        "print('Summary of missing values:')\n",
        "tweets_selected.select([F.count(F.when(F.isnull(c), c)).alias(c) for c in tweets_selected.columns]).show()"
      ],
      "metadata": {
        "colab": {
          "base_uri": "https://localhost:8080/"
        },
        "id": "rODiwhq1uhC2",
        "outputId": "9bbb0458-fb9c-40c2-f7f1-af3e8fe9567c"
      },
      "execution_count": null,
      "outputs": [
        {
          "output_type": "stream",
          "name": "stdout",
          "text": [
            "Summary of missing values:\n",
            "+---------+----------+---+---------+---+----+----------+-------------+----+\n",
            "|author_id|created_at|url|media_url| id|lang|like_count|retweet_count|text|\n",
            "+---------+----------+---+---------+---+----+----------+-------------+----+\n",
            "|        0|         0|  0|        0|  0|   0|         0|            0|   0|\n",
            "+---------+----------+---+---------+---+----+----------+-------------+----+\n",
            "\n"
          ]
        }
      ]
    },
    {
      "cell_type": "code",
      "source": [
        "n_rows = tweets_selected.count()\n",
        "print(f'The dataset contains {n_rows} tweets.')"
      ],
      "metadata": {
        "colab": {
          "base_uri": "https://localhost:8080/"
        },
        "id": "ttTnLuQ0KagJ",
        "outputId": "6fded989-05ef-4677-b1e8-e7f4c4d9e9c9"
      },
      "execution_count": null,
      "outputs": [
        {
          "output_type": "stream",
          "name": "stdout",
          "text": [
            "The dataset contains 2027740 tweets.\n"
          ]
        }
      ]
    },
    {
      "cell_type": "code",
      "source": [
        "tweets_selected.groupBy('author_id').agg(F.countDistinct('lang')).filter(F.col('count(DISTINCT lang)') > 1).show(5)"
      ],
      "metadata": {
        "colab": {
          "base_uri": "https://localhost:8080/"
        },
        "id": "vhrFyrA9Knk8",
        "outputId": "69592270-7cc8-4bf5-89c6-81ffdaea89d0"
      },
      "execution_count": null,
      "outputs": [
        {
          "output_type": "stream",
          "name": "stdout",
          "text": [
            "+----------+--------------------+\n",
            "| author_id|count(DISTINCT lang)|\n",
            "+----------+--------------------+\n",
            "| 280547194|                   2|\n",
            "| 548871400|                   2|\n",
            "|  28784085|                   2|\n",
            "| 163172885|                   2|\n",
            "|2251819037|                   3|\n",
            "+----------+--------------------+\n",
            "only showing top 5 rows\n",
            "\n"
          ]
        }
      ]
    },
    {
      "cell_type": "code",
      "source": [
        "tweets_clean = tweets_selected.withColumn(\"text_clean\",\n",
        "                                          F.regexp_replace(col(\"text\"), r\"https?://t\\.co/\\S+\", \"<URL>\")\n",
        "                                          ).withColumn(\"text_clean\",\n",
        "                                                       F.regexp_replace(col(\"text_clean\"), r\"@\\w+\", \"<USER>\")\n",
        "                                                       )\n",
        "tweets_clean.show(5, truncate=False)"
      ],
      "metadata": {
        "colab": {
          "base_uri": "https://localhost:8080/"
        },
        "id": "xEi8d_JLIfbZ",
        "outputId": "247fbdc8-a30e-4e9b-880e-eb43bc494514"
      },
      "execution_count": null,
      "outputs": [
        {
          "output_type": "stream",
          "name": "stdout",
          "text": [
            "+-------------------+-------------------------+-----------------------------------------------+--------------------+----+----------+-------------+--------------------------------------------------------------------------------------------------------------------------------------------------------------------------------------------------------------------------------------------------------------------------------------------------------+------------------------------------------------------------------------------------------------------------------------------------------------------------------------------------------------------------------------------------------------------------------------------+\n",
            "|author_id          |created_at               |media_url                                      |id                  |lang|like_count|retweet_count|text                                                                                                                                                                                                                                                                                                    |text_clean                                                                                                                                                                                                                                                                    |\n",
            "+-------------------+-------------------------+-----------------------------------------------+--------------------+----+----------+-------------+--------------------------------------------------------------------------------------------------------------------------------------------------------------------------------------------------------------------------------------------------------------------------------------------------------+------------------------------------------------------------------------------------------------------------------------------------------------------------------------------------------------------------------------------------------------------------------------------+\n",
            "|1304855289208819713|2022-02-27 04:59:35+00:00|https://pbs.twimg.com/media/FMk_1szUYAYeJ7N.jpg|t1497798545872588801|en  |8         |0            |@phaseknight_ Although I didn't base this sketch on you specifically, I really think it vibes with your amazing NSFW Laudna cosplay! 🖤 https://t.co/GXjjq83Rrn                                                                                                                                         |<USER> Although I didn't base this sketch on you specifically, I really think it vibes with your amazing NSFW Laudna cosplay! 🖤 <URL>                                                                                                                                        |\n",
            "|1304855289208819713|2022-02-19 18:54:50+00:00|https://pbs.twimg.com/media/FL-yS1AUcAIfiy2.jpg|t1495109640459198464|en  |12        |0            |Now we wait for season 2 of #TheLegendofVoxMachina... will we get more Trinket?! If the amazing folks at @TitmouseInc &amp; @CriticalRole ever need of bear inspiration, I work with some wonderful good boys like Lucky who would love to provide reference materials! (1/2) https://t.co/vYuI4X1SSx   |Now we wait for season 2 of #TheLegendofVoxMachina... will we get more Trinket?! If the amazing folks at <USER> &amp; <USER> ever need of bear inspiration, I work with some wonderful good boys like Lucky who would love to provide reference materials! (1/2) <URL>        |\n",
            "|1304855289208819713|2022-02-19 18:44:49+00:00|https://pbs.twimg.com/media/FL-v__NVkAI5zQW.jpg|t1495107117413371904|en  |3         |0            |@leidensygdom Floryn, gnome grave cleric and Glenn, her giant badger beastie and battle mount! https://t.co/2Y6ct1Vh5D                                                                                                                                                                                  |<USER> Floryn, gnome grave cleric and Glenn, her giant badger beastie and battle mount! <URL>                                                                                                                                                                                 |\n",
            "|1304855289208819713|2022-02-17 21:49:16+00:00|https://pbs.twimg.com/media/FL1HCjFVQBs-pc3.jpg|t1494428761877463042|en  |3         |0            |D&amp;D tattoo design slowly coming together.. included some of the Menagerie Coast; the setting for my first attempt at DMing, inspired by @matthewmercer! I would looove to incorporate \"you can certainly try...\" somewhere, in Matt's handwriting, if he's willing to share! https://t.co/l0U9PoxPyp|D&amp;D tattoo design slowly coming together.. included some of the Menagerie Coast; the setting for my first attempt at DMing, inspired by <USER>! I would looove to incorporate \"you can certainly try...\" somewhere, in Matt's handwriting, if he's willing to share! <URL>|\n",
            "|1304855289208819713|2022-02-16 09:11:41+00:00|https://pbs.twimg.com/media/FLtQDHtVkAUKj_9.jpg|t1493875722133262341|en  |7         |0            |So good at tweaking the saturation /after/ I’ve already posted a sketch to socials 🙃 https://t.co/cfdfceywEt                                                                                                                                                                                           |So good at tweaking the saturation /after/ I’ve already posted a sketch to socials 🙃 <URL>                                                                                                                                                                                   |\n",
            "+-------------------+-------------------------+-----------------------------------------------+--------------------+----+----------+-------------+--------------------------------------------------------------------------------------------------------------------------------------------------------------------------------------------------------------------------------------------------------------------------------------------------------+------------------------------------------------------------------------------------------------------------------------------------------------------------------------------------------------------------------------------------------------------------------------------+\n",
            "only showing top 5 rows\n",
            "\n"
          ]
        }
      ]
    },
    {
      "cell_type": "code",
      "source": [
        "n_rows = users_labeled.count()\n",
        "\n",
        "n_human = users_labeled.filter(col(\"label\") == \"human\").count()\n",
        "\n",
        "human_perc = n_human / n_rows * 100\n",
        "bot_perc = 100 - human_perc\n",
        "\n",
        "print(f\"Percentage of human accounts: {human_perc:.2f}\")\n",
        "print(f\"Percentage of bot accounts: {bot_perc:.2f}\")"
      ],
      "metadata": {
        "colab": {
          "base_uri": "https://localhost:8080/"
        },
        "id": "g9I63llnY2vg",
        "outputId": "4430f8da-0b4f-4eee-925a-578014937deb"
      },
      "execution_count": null,
      "outputs": [
        {
          "output_type": "stream",
          "name": "stdout",
          "text": [
            "Percentage of human accounts: 86.01\n",
            "Percentage of bot accounts: 13.99\n"
          ]
        }
      ]
    },
    {
      "cell_type": "code",
      "source": [
        "# Check for missing values\n",
        "print('Summary of missing values:')\n",
        "users_labeled.select([F.count(F.when(F.isnull(c), c)).alias(c) for c in users_labeled.columns]).show()"
      ],
      "metadata": {
        "colab": {
          "base_uri": "https://localhost:8080/"
        },
        "id": "_2d48FaJDYlh",
        "outputId": "53c6d42d-3fa7-4e7d-fe90-2c949cbb8b04"
      },
      "execution_count": null,
      "outputs": [
        {
          "output_type": "stream",
          "name": "stdout",
          "text": [
            "Summary of missing values:\n",
            "+-----------+---+----+---------------+---------------+------------+--------+-----+\n",
            "|description| id|name|followers_count|following_count|listed_count|username|label|\n",
            "+-----------+---+----+---------------+---------------+------------+--------+-----+\n",
            "|          0|  0|   0|              0|              0|           0|       0|    0|\n",
            "+-----------+---+----+---------------+---------------+------------+--------+-----+\n",
            "\n"
          ]
        }
      ]
    },
    {
      "cell_type": "code",
      "source": [],
      "metadata": {
        "id": "Y9bNVb4ZDeXh"
      },
      "execution_count": null,
      "outputs": []
    }
  ]
}