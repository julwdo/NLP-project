{
  "nbformat": 4,
  "nbformat_minor": 0,
  "metadata": {
    "colab": {
      "provenance": [],
      "mount_file_id": "1fV-2Mc6kjhr3GdesgLaaXJLp6qV5bBC9",
      "authorship_tag": "ABX9TyMUIbdb8YfZcgzo8aSIrOmn",
      "include_colab_link": true
    },
    "kernelspec": {
      "name": "python3",
      "display_name": "Python 3"
    },
    "language_info": {
      "name": "python"
    }
  },
  "cells": [
    {
      "cell_type": "markdown",
      "metadata": {
        "id": "view-in-github",
        "colab_type": "text"
      },
      "source": [
        "<a href=\"https://colab.research.google.com/github/julwdo/NLP-project/blob/main/NLP_Project_JW.ipynb\" target=\"_parent\"><img src=\"https://colab.research.google.com/assets/colab-badge.svg\" alt=\"Open In Colab\"/></a>"
      ]
    },
    {
      "cell_type": "code",
      "source": [
        "!apt-get install openjdk-17-jdk-headless -qq > /dev/null # OpenJDK 17\n",
        "!wget --show-progress https://dlcdn.apache.org/spark/spark-3.5.6/spark-3.5.6-bin-hadoop3.tgz # Apache Spark 3.5.5 with Hadoop 3 support\n",
        "!tar xf spark-3.5.6-bin-hadoop3.tgz\n",
        "!pip install findspark"
      ],
      "metadata": {
        "id": "mQ8T-LAUzBeh",
        "colab": {
          "base_uri": "https://localhost:8080/"
        },
        "outputId": "7ce8a110-8ae4-4a35-b1f0-341f31f5d5df"
      },
      "execution_count": 1,
      "outputs": [
        {
          "output_type": "stream",
          "name": "stdout",
          "text": [
            "--2025-08-30 08:41:37--  https://dlcdn.apache.org/spark/spark-3.5.6/spark-3.5.6-bin-hadoop3.tgz\n",
            "Resolving dlcdn.apache.org (dlcdn.apache.org)... 151.101.2.132, 2a04:4e42::644\n",
            "Connecting to dlcdn.apache.org (dlcdn.apache.org)|151.101.2.132|:443... connected.\n",
            "HTTP request sent, awaiting response... 200 OK\n",
            "Length: 400923510 (382M) [application/x-gzip]\n",
            "Saving to: ‘spark-3.5.6-bin-hadoop3.tgz’\n",
            "\n",
            "spark-3.5.6-bin-had 100%[===================>] 382.35M  47.4MB/s    in 8.6s    \n",
            "\n",
            "2025-08-30 08:42:33 (44.4 MB/s) - ‘spark-3.5.6-bin-hadoop3.tgz’ saved [400923510/400923510]\n",
            "\n",
            "Collecting findspark\n",
            "  Downloading findspark-2.0.1-py2.py3-none-any.whl.metadata (352 bytes)\n",
            "Downloading findspark-2.0.1-py2.py3-none-any.whl (4.4 kB)\n",
            "Installing collected packages: findspark\n",
            "Successfully installed findspark-2.0.1\n"
          ]
        }
      ]
    },
    {
      "cell_type": "code",
      "source": [
        "import os\n",
        "import findspark\n",
        "from pyspark.sql import SparkSession\n",
        "from google.colab import auth\n",
        "import pyspark.sql.functions as F\n",
        "from pyspark.sql.types import FloatType\n",
        "from nltk.sentiment import SentimentIntensityAnalyzer\n",
        "import math\n",
        "from collections import Counter\n",
        "from pyspark.sql import Window"
      ],
      "metadata": {
        "id": "J-C_Oc4BzG2s"
      },
      "execution_count": 161,
      "outputs": []
    },
    {
      "cell_type": "code",
      "source": [
        "import nltk\n",
        "nltk.download('vader_lexicon')"
      ],
      "metadata": {
        "id": "1dvQfYXH_WoT",
        "colab": {
          "base_uri": "https://localhost:8080/"
        },
        "outputId": "f0127cfd-aa07-4f9c-fcd6-e0cf2b144d05"
      },
      "execution_count": 19,
      "outputs": [
        {
          "output_type": "stream",
          "name": "stderr",
          "text": [
            "[nltk_data] Downloading package vader_lexicon to /root/nltk_data...\n"
          ]
        },
        {
          "output_type": "execute_result",
          "data": {
            "text/plain": [
              "True"
            ]
          },
          "metadata": {},
          "execution_count": 19
        }
      ]
    },
    {
      "cell_type": "code",
      "source": [
        "# Set up Spark\n",
        "os.environ['JAVA_HOME'] = '/usr/lib/jvm/java-17-openjdk-amd64'\n",
        "os.environ['SPARK_HOME'] = '/content/spark-3.5.6-bin-hadoop3'\n",
        "\n",
        "findspark.init()\n",
        "#indspark.find()\n",
        "\n",
        "spark = SparkSession.builder.appName('TwiBot22').getOrCreate()"
      ],
      "metadata": {
        "id": "ByEenyZjzL5g"
      },
      "execution_count": 4,
      "outputs": []
    },
    {
      "cell_type": "code",
      "source": [
        "auth.authenticate_user()"
      ],
      "metadata": {
        "id": "nXzBU7MKS-dT"
      },
      "execution_count": 5,
      "outputs": []
    },
    {
      "cell_type": "code",
      "source": [
        "#!gcloud init"
      ],
      "metadata": {
        "id": "x3jli8AUVuOm"
      },
      "execution_count": 6,
      "outputs": []
    },
    {
      "cell_type": "code",
      "source": [
        "bucket_name = \"twibot-22\"\n",
        "file_names = [\"user.jsonl\", \"label.csv\", \"tweet_0.jsonl\"]\n",
        "\n",
        "for file_name in file_names:\n",
        "  !gsutil cp gs://{bucket_name}/{file_name} /content/{file_name}"
      ],
      "metadata": {
        "id": "T20eeOGhZdsN",
        "colab": {
          "base_uri": "https://localhost:8080/"
        },
        "outputId": "5b8c31f9-72cf-43f2-9aad-3fb498e166df"
      },
      "execution_count": 7,
      "outputs": [
        {
          "output_type": "stream",
          "name": "stdout",
          "text": [
            "Copying gs://twibot-22/user.jsonl...\n",
            "/ [0 files][    0.0 B/745.4 MiB]                                                \r==> NOTE: You are downloading one or more large file(s), which would\n",
            "run significantly faster if you enabled sliced object downloads. This\n",
            "feature is enabled by default but requires that compiled crcmod be\n",
            "installed (see \"gsutil help crcmod\").\n",
            "\n",
            "- [1 files][745.4 MiB/745.4 MiB]   30.6 MiB/s                                   \n",
            "Operation completed over 1 objects/745.4 MiB.                                    \n",
            "Copying gs://twibot-22/label.csv...\n",
            "| [1 files][ 20.6 MiB/ 20.6 MiB]                                                \n",
            "Operation completed over 1 objects/20.6 MiB.                                     \n",
            "Copying gs://twibot-22/tweet_0.jsonl...\n",
            "==> NOTE: You are downloading one or more large file(s), which would\n",
            "run significantly faster if you enabled sliced object downloads. This\n",
            "feature is enabled by default but requires that compiled crcmod be\n",
            "installed (see \"gsutil help crcmod\").\n",
            "\n",
            "/ [1 files][ 11.1 GiB/ 11.1 GiB]   29.6 MiB/s                                   \n",
            "Operation completed over 1 objects/11.1 GiB.                                     \n"
          ]
        }
      ]
    },
    {
      "cell_type": "code",
      "source": [
        "users = spark.read.json(f\"/content/user.jsonl\")\n",
        "\n",
        "users.printSchema()"
      ],
      "metadata": {
        "colab": {
          "base_uri": "https://localhost:8080/"
        },
        "id": "4ljK4HtA_MmV",
        "outputId": "b3ae75c5-7123-486c-af3c-6b44d219abb8"
      },
      "execution_count": 8,
      "outputs": [
        {
          "output_type": "stream",
          "name": "stdout",
          "text": [
            "root\n",
            " |-- created_at: string (nullable = true)\n",
            " |-- description: string (nullable = true)\n",
            " |-- entities: struct (nullable = true)\n",
            " |    |-- description: struct (nullable = true)\n",
            " |    |    |-- cashtags: array (nullable = true)\n",
            " |    |    |    |-- element: struct (containsNull = true)\n",
            " |    |    |    |    |-- end: long (nullable = true)\n",
            " |    |    |    |    |-- start: long (nullable = true)\n",
            " |    |    |    |    |-- tag: string (nullable = true)\n",
            " |    |    |-- hashtags: array (nullable = true)\n",
            " |    |    |    |-- element: struct (containsNull = true)\n",
            " |    |    |    |    |-- end: long (nullable = true)\n",
            " |    |    |    |    |-- start: long (nullable = true)\n",
            " |    |    |    |    |-- tag: string (nullable = true)\n",
            " |    |    |-- mentions: array (nullable = true)\n",
            " |    |    |    |-- element: struct (containsNull = true)\n",
            " |    |    |    |    |-- end: long (nullable = true)\n",
            " |    |    |    |    |-- start: long (nullable = true)\n",
            " |    |    |    |    |-- username: string (nullable = true)\n",
            " |    |    |-- urls: array (nullable = true)\n",
            " |    |    |    |-- element: struct (containsNull = true)\n",
            " |    |    |    |    |-- display_url: string (nullable = true)\n",
            " |    |    |    |    |-- end: long (nullable = true)\n",
            " |    |    |    |    |-- expanded_url: string (nullable = true)\n",
            " |    |    |    |    |-- start: long (nullable = true)\n",
            " |    |    |    |    |-- url: string (nullable = true)\n",
            " |    |-- url: struct (nullable = true)\n",
            " |    |    |-- urls: array (nullable = true)\n",
            " |    |    |    |-- element: struct (containsNull = true)\n",
            " |    |    |    |    |-- display_url: string (nullable = true)\n",
            " |    |    |    |    |-- end: long (nullable = true)\n",
            " |    |    |    |    |-- expanded_url: string (nullable = true)\n",
            " |    |    |    |    |-- start: long (nullable = true)\n",
            " |    |    |    |    |-- url: string (nullable = true)\n",
            " |-- id: string (nullable = true)\n",
            " |-- location: string (nullable = true)\n",
            " |-- name: string (nullable = true)\n",
            " |-- pinned_tweet_id: long (nullable = true)\n",
            " |-- profile_image_url: string (nullable = true)\n",
            " |-- protected: boolean (nullable = true)\n",
            " |-- public_metrics: struct (nullable = true)\n",
            " |    |-- followers_count: long (nullable = true)\n",
            " |    |-- following_count: long (nullable = true)\n",
            " |    |-- listed_count: long (nullable = true)\n",
            " |    |-- tweet_count: long (nullable = true)\n",
            " |-- url: string (nullable = true)\n",
            " |-- username: string (nullable = true)\n",
            " |-- verified: boolean (nullable = true)\n",
            " |-- withheld: struct (nullable = true)\n",
            " |    |-- country_codes: array (nullable = true)\n",
            " |    |    |-- element: string (containsNull = true)\n",
            "\n"
          ]
        }
      ]
    },
    {
      "cell_type": "code",
      "source": [
        "users.show(5, truncate=False)"
      ],
      "metadata": {
        "colab": {
          "base_uri": "https://localhost:8080/"
        },
        "id": "zfqG1CcW_Q1c",
        "outputId": "6e273e09-761c-4846-e556-8f0eb14f3e7e"
      },
      "execution_count": 9,
      "outputs": [
        {
          "output_type": "stream",
          "name": "stdout",
          "text": [
            "+-------------------------+-------------------------------------------------------------------------------------------------------------------------------+-----------------------------------------------------------------------------------------------------------------------------------------------------------------------------------------------------------------------------------------------------------------+--------------------+-------------------+-------------------------+---------------+----------------------------------------------------------------------------+---------+---------------------+-----------------------+-------------+--------+--------+\n",
            "|created_at               |description                                                                                                                    |entities                                                                                                                                                                                                                                                         |id                  |location           |name                     |pinned_tweet_id|profile_image_url                                                           |protected|public_metrics       |url                    |username     |verified|withheld|\n",
            "+-------------------------+-------------------------------------------------------------------------------------------------------------------------------+-----------------------------------------------------------------------------------------------------------------------------------------------------------------------------------------------------------------------------------------------------------------+--------------------+-------------------+-------------------------+---------------+----------------------------------------------------------------------------+---------+---------------------+-----------------------+-------------+--------+--------+\n",
            "|2020-01-16 02:02:55+00:00|Theoretical Computer Scientist. See also https://t.co/EXWR5jOrFW and https://t.co/JEkxX4JHSw                                   |{{NULL, NULL, NULL, [{windowsontheory.org, 64, http://windowsontheory.org, 41, https://t.co/EXWR5jOrFW}, {mltheory.org, 92, http://mltheory.org, 69, https://t.co/JEkxX4JHSw}]}, {[{boazbarak.org, 23, https://www.boazbarak.org/, 0, https://t.co/BoMip9FF17}]}}|u1217628182611927040|Cambridge, MA      |Boaz Barak               |NULL           |https://pbs.twimg.com/profile_images/1252262363132280834/ytIN-vzv_normal.jpg|false    |{7316, 215, 69, 3098}|https://t.co/BoMip9FF17|boazbaraktcs |false   |NULL    |\n",
            "|2014-07-02 17:56:46+00:00|creative _                                                                                                                     |NULL                                                                                                                                                                                                                                                             |u2664730894         |🎈                 |olawale 💨               |NULL           |https://pbs.twimg.com/profile_images/1478376381717401605/k4aboywe_normal.png|false    |{123, 1090, 0, 1823} |                       |wale_io      |false   |NULL    |\n",
            "|2020-05-30 12:10:45+00:00|👽                                                                                                                             |NULL                                                                                                                                                                                                                                                             |u1266703520205549568|NULL               |panagiota_.b             |NULL           |https://pbs.twimg.com/profile_images/1426086065165766662/KkzmeSXG_normal.jpg|false    |{3, 62, 0, 66}       |                       |b_panagiota  |false   |NULL    |\n",
            "|2019-01-26 13:52:49+00:00|mama to maya. ABIM research pathway fellow @UVA_ID. interests in mobile health, patient engagement, and implementation science.|{{NULL, NULL, [{50, 43, UVA_ID}], NULL}, NULL}                                                                                                                                                                                                                   |u1089159225148882949|Charlottesville, VA|Jacqueline Hodges, MD MPH|NULL           |https://pbs.twimg.com/profile_images/1302291715898966019/KSgUqpz2_normal.jpg|false    |{350, 577, 1, 237}   |                       |jachodges_md |false   |NULL    |\n",
            "|2009-04-30 19:01:42+00:00|Father / SWT Alumnus / Longhorn Fan                                                                                            |NULL                                                                                                                                                                                                                                                             |u36741729           |United States      |Matthew Stubblefield     |NULL           |https://pbs.twimg.com/profile_images/1458084621351112704/6S-ZgwIj_normal.jpg|true     |{240, 297, 8, 3713}  |                       |Matthew_Brody|false   |NULL    |\n",
            "+-------------------------+-------------------------------------------------------------------------------------------------------------------------------+-----------------------------------------------------------------------------------------------------------------------------------------------------------------------------------------------------------------------------------------------------------------+--------------------+-------------------+-------------------------+---------------+----------------------------------------------------------------------------+---------+---------------------+-----------------------+-------------+--------+--------+\n",
            "only showing top 5 rows\n",
            "\n"
          ]
        }
      ]
    },
    {
      "cell_type": "code",
      "source": [
        "users_selected = users.select(\n",
        "    F.col(\"id\"),\n",
        "    F.col(\"name\"),\n",
        "    F.col(\"username\"),\n",
        "    F.col(\"created_at\"),\n",
        "    F.col(\"description\"),\n",
        "    F.col(\"url\"),\n",
        "    F.col(\"entities.description.cashtags\"),\n",
        "    F.col(\"entities.description.hashtags\"),\n",
        "    F.col(\"entities.description.mentions\"),\n",
        "    F.col(\"entities.description.urls\"),\n",
        "    F.col(\"location\"),\n",
        "    F.col(\"pinned_tweet_id\"),\n",
        "    F.col(\"profile_image_url\"),\n",
        "    F.col(\"protected\"),\n",
        "    F.col(\"public_metrics.followers_count\"),\n",
        "    F.col(\"public_metrics.following_count\"),\n",
        "    F.col(\"public_metrics.listed_count\"),\n",
        "    F.col(\"public_metrics.tweet_count\"),\n",
        "    F.col(\"verified\")\n",
        "    )"
      ],
      "metadata": {
        "id": "GQAYasduAYqH"
      },
      "execution_count": 48,
      "outputs": []
    },
    {
      "cell_type": "code",
      "source": [
        "users_selected.printSchema()"
      ],
      "metadata": {
        "colab": {
          "base_uri": "https://localhost:8080/"
        },
        "id": "Ce5ND56SEn8R",
        "outputId": "80086db8-5f6a-4992-f293-941ead673cbd"
      },
      "execution_count": 49,
      "outputs": [
        {
          "output_type": "stream",
          "name": "stdout",
          "text": [
            "root\n",
            " |-- id: string (nullable = true)\n",
            " |-- name: string (nullable = true)\n",
            " |-- username: string (nullable = true)\n",
            " |-- created_at: string (nullable = true)\n",
            " |-- description: string (nullable = true)\n",
            " |-- url: string (nullable = true)\n",
            " |-- cashtags: array (nullable = true)\n",
            " |    |-- element: struct (containsNull = true)\n",
            " |    |    |-- end: long (nullable = true)\n",
            " |    |    |-- start: long (nullable = true)\n",
            " |    |    |-- tag: string (nullable = true)\n",
            " |-- hashtags: array (nullable = true)\n",
            " |    |-- element: struct (containsNull = true)\n",
            " |    |    |-- end: long (nullable = true)\n",
            " |    |    |-- start: long (nullable = true)\n",
            " |    |    |-- tag: string (nullable = true)\n",
            " |-- mentions: array (nullable = true)\n",
            " |    |-- element: struct (containsNull = true)\n",
            " |    |    |-- end: long (nullable = true)\n",
            " |    |    |-- start: long (nullable = true)\n",
            " |    |    |-- username: string (nullable = true)\n",
            " |-- urls: array (nullable = true)\n",
            " |    |-- element: struct (containsNull = true)\n",
            " |    |    |-- display_url: string (nullable = true)\n",
            " |    |    |-- end: long (nullable = true)\n",
            " |    |    |-- expanded_url: string (nullable = true)\n",
            " |    |    |-- start: long (nullable = true)\n",
            " |    |    |-- url: string (nullable = true)\n",
            " |-- location: string (nullable = true)\n",
            " |-- pinned_tweet_id: long (nullable = true)\n",
            " |-- profile_image_url: string (nullable = true)\n",
            " |-- protected: boolean (nullable = true)\n",
            " |-- followers_count: long (nullable = true)\n",
            " |-- following_count: long (nullable = true)\n",
            " |-- listed_count: long (nullable = true)\n",
            " |-- tweet_count: long (nullable = true)\n",
            " |-- verified: boolean (nullable = true)\n",
            "\n"
          ]
        }
      ]
    },
    {
      "cell_type": "code",
      "source": [
        "users_selected.show(5, truncate=False)"
      ],
      "metadata": {
        "colab": {
          "base_uri": "https://localhost:8080/"
        },
        "id": "m1nb1FybEtUp",
        "outputId": "a7093b0d-809b-477a-8f1c-e14f0e6b49cb"
      },
      "execution_count": 50,
      "outputs": [
        {
          "output_type": "stream",
          "name": "stdout",
          "text": [
            "+--------------------+-------------------------+-------------+-------------------------+-------------------------------------------------------------------------------------------------------------------------------+-----------------------+--------+--------+------------------+----------------------------------------------------------------------------------------------------------------------------------------------------------+-------------------+---------------+----------------------------------------------------------------------------+---------+---------------+---------------+------------+-----------+--------+\n",
            "|id                  |name                     |username     |created_at               |description                                                                                                                    |url                    |cashtags|hashtags|mentions          |urls                                                                                                                                                      |location           |pinned_tweet_id|profile_image_url                                                           |protected|followers_count|following_count|listed_count|tweet_count|verified|\n",
            "+--------------------+-------------------------+-------------+-------------------------+-------------------------------------------------------------------------------------------------------------------------------+-----------------------+--------+--------+------------------+----------------------------------------------------------------------------------------------------------------------------------------------------------+-------------------+---------------+----------------------------------------------------------------------------+---------+---------------+---------------+------------+-----------+--------+\n",
            "|u1217628182611927040|Boaz Barak               |boazbaraktcs |2020-01-16 02:02:55+00:00|Theoretical Computer Scientist. See also https://t.co/EXWR5jOrFW and https://t.co/JEkxX4JHSw                                   |https://t.co/BoMip9FF17|NULL    |NULL    |NULL              |[{windowsontheory.org, 64, http://windowsontheory.org, 41, https://t.co/EXWR5jOrFW}, {mltheory.org, 92, http://mltheory.org, 69, https://t.co/JEkxX4JHSw}]|Cambridge, MA      |NULL           |https://pbs.twimg.com/profile_images/1252262363132280834/ytIN-vzv_normal.jpg|false    |7316           |215            |69          |3098       |false   |\n",
            "|u2664730894         |olawale 💨               |wale_io      |2014-07-02 17:56:46+00:00|creative _                                                                                                                     |                       |NULL    |NULL    |NULL              |NULL                                                                                                                                                      |🎈                 |NULL           |https://pbs.twimg.com/profile_images/1478376381717401605/k4aboywe_normal.png|false    |123            |1090           |0           |1823       |false   |\n",
            "|u1266703520205549568|panagiota_.b             |b_panagiota  |2020-05-30 12:10:45+00:00|👽                                                                                                                             |                       |NULL    |NULL    |NULL              |NULL                                                                                                                                                      |NULL               |NULL           |https://pbs.twimg.com/profile_images/1426086065165766662/KkzmeSXG_normal.jpg|false    |3              |62             |0           |66         |false   |\n",
            "|u1089159225148882949|Jacqueline Hodges, MD MPH|jachodges_md |2019-01-26 13:52:49+00:00|mama to maya. ABIM research pathway fellow @UVA_ID. interests in mobile health, patient engagement, and implementation science.|                       |NULL    |NULL    |[{50, 43, UVA_ID}]|NULL                                                                                                                                                      |Charlottesville, VA|NULL           |https://pbs.twimg.com/profile_images/1302291715898966019/KSgUqpz2_normal.jpg|false    |350            |577            |1           |237        |false   |\n",
            "|u36741729           |Matthew Stubblefield     |Matthew_Brody|2009-04-30 19:01:42+00:00|Father / SWT Alumnus / Longhorn Fan                                                                                            |                       |NULL    |NULL    |NULL              |NULL                                                                                                                                                      |United States      |NULL           |https://pbs.twimg.com/profile_images/1458084621351112704/6S-ZgwIj_normal.jpg|true     |240            |297            |8           |3713       |false   |\n",
            "+--------------------+-------------------------+-------------+-------------------------+-------------------------------------------------------------------------------------------------------------------------------+-----------------------+--------+--------+------------------+----------------------------------------------------------------------------------------------------------------------------------------------------------+-------------------+---------------+----------------------------------------------------------------------------+---------+---------------+---------------+------------+-----------+--------+\n",
            "only showing top 5 rows\n",
            "\n"
          ]
        }
      ]
    },
    {
      "cell_type": "code",
      "source": [
        "labels = spark.read.csv(f\"/content/label.csv\", header=True, inferSchema=True)"
      ],
      "metadata": {
        "id": "sDJSz4DuE6_2"
      },
      "execution_count": 51,
      "outputs": []
    },
    {
      "cell_type": "code",
      "source": [
        "labels.show(5, truncate=False)"
      ],
      "metadata": {
        "colab": {
          "base_uri": "https://localhost:8080/"
        },
        "id": "2S3i6OraGnzV",
        "outputId": "87d66119-cd32-4904-80b4-7d4303c9dd98"
      },
      "execution_count": 52,
      "outputs": [
        {
          "output_type": "stream",
          "name": "stdout",
          "text": [
            "+--------------------+-----+\n",
            "|id                  |label|\n",
            "+--------------------+-----+\n",
            "|u1217628182611927040|human|\n",
            "|u2664730894         |human|\n",
            "|u1266703520205549568|human|\n",
            "|u1089159225148882949|human|\n",
            "|u36741729           |bot  |\n",
            "+--------------------+-----+\n",
            "only showing top 5 rows\n",
            "\n"
          ]
        }
      ]
    },
    {
      "cell_type": "code",
      "source": [
        "users_labeled = users_selected.join(labels, users_selected.id == labels.id, \"left\").drop(labels.id)"
      ],
      "metadata": {
        "id": "Dx7pGZ1rGpSJ"
      },
      "execution_count": 53,
      "outputs": []
    },
    {
      "cell_type": "code",
      "source": [
        "users_labeled.show(5, truncate=False)"
      ],
      "metadata": {
        "colab": {
          "base_uri": "https://localhost:8080/"
        },
        "id": "yxJV0qKaG_Et",
        "outputId": "0f0e73ee-4fb4-4f6a-af22-d309b96c92bc"
      },
      "execution_count": 54,
      "outputs": [
        {
          "output_type": "stream",
          "name": "stdout",
          "text": [
            "+--------------------+-------------------------+--------------+-------------------------+--------------------------------------------------------------------------------------------------------------------------------------------------------+-----------------------+--------+--------+-----------------------------+----+--------------------------+-------------------+--------------------------------------------------------------------------------------------+---------+---------------+---------------+------------+-----------+--------+-----+\n",
            "|id                  |name                     |username      |created_at               |description                                                                                                                                             |url                    |cashtags|hashtags|mentions                     |urls|location                  |pinned_tweet_id    |profile_image_url                                                                           |protected|followers_count|following_count|listed_count|tweet_count|verified|label|\n",
            "+--------------------+-------------------------+--------------+-------------------------+--------------------------------------------------------------------------------------------------------------------------------------------------------+-----------------------+--------+--------+-----------------------------+----+--------------------------+-------------------+--------------------------------------------------------------------------------------------+---------+---------------+---------------+------------+-----------+--------+-----+\n",
            "|u1089159225148882949|Jacqueline Hodges, MD MPH|jachodges_md  |2019-01-26 13:52:49+00:00|mama to maya. ABIM research pathway fellow @UVA_ID. interests in mobile health, patient engagement, and implementation science.                         |                       |NULL    |NULL    |[{50, 43, UVA_ID}]           |NULL|Charlottesville, VA       |NULL               |https://pbs.twimg.com/profile_images/1302291715898966019/KSgUqpz2_normal.jpg                |false    |350            |577            |1           |237        |false   |human|\n",
            "|u1134223836         |Gillians Blinds          |GilliansBlinds|2013-01-30 14:27:37+00:00|                                                                                                                                                        |http://t.co/rwAKNAt4   |NULL    |NULL    |NULL                         |NULL|Round Spinney, Northampton|NULL               |https://pbs.twimg.com/profile_images/3184029997/55a0925e44a7cb08fed450e5d5e48136_normal.jpeg|false    |1625           |1888           |5           |19433      |false   |human|\n",
            "|u1266703520205549568|panagiota_.b             |b_panagiota   |2020-05-30 12:10:45+00:00|👽                                                                                                                                                      |                       |NULL    |NULL    |NULL                         |NULL|NULL                      |NULL               |https://pbs.twimg.com/profile_images/1426086065165766662/KkzmeSXG_normal.jpg                |false    |3              |62             |0           |66         |false   |human|\n",
            "|u1351974920599842819|JSpeer Sound             |JSpeerSound   |2021-01-20 19:28:40+00:00|Sound and Nature. I revel in life's presentation and hope to record and share these experiences.\\n\\nDJ JAZ - Bust Yo' Brass - @RadioCampusBesa\\n\\nHe/Him|https://t.co/JwP3m7owlA|NULL    |NULL    |[{140, 124, RadioCampusBesa}]|NULL|Besancon FR               |1420803137779257350|https://pbs.twimg.com/profile_images/1366318952058654721/jBOxuuQL_normal.jpg                |false    |184            |213            |0           |1006       |false   |human|\n",
            "|u1356360497713598465|suhasya                  |suhasyagames  |2021-02-01 21:55:25+00:00|an emerging game developer;                                                                                                                             |https://t.co/J23o0RYI3S|NULL    |NULL    |NULL                         |NULL|Moscow, Russia            |1365052352013754371|https://pbs.twimg.com/profile_images/1356363428051513345/BcPJvulD_normal.jpg                |false    |354            |71             |3           |204        |false   |bot  |\n",
            "+--------------------+-------------------------+--------------+-------------------------+--------------------------------------------------------------------------------------------------------------------------------------------------------+-----------------------+--------+--------+-----------------------------+----+--------------------------+-------------------+--------------------------------------------------------------------------------------------+---------+---------------+---------------+------------+-----------+--------+-----+\n",
            "only showing top 5 rows\n",
            "\n"
          ]
        }
      ]
    },
    {
      "cell_type": "code",
      "source": [
        "print('Summary of missing values:')\n",
        "users_labeled.select([F.count(F.when(F.isnull(c), c)).alias(c) for c in users_labeled.columns]).show()"
      ],
      "metadata": {
        "colab": {
          "base_uri": "https://localhost:8080/"
        },
        "id": "e29uv2D-P3Zz",
        "outputId": "311e584d-6611-4150-97c1-a4fb0a6ffe18"
      },
      "execution_count": 55,
      "outputs": [
        {
          "output_type": "stream",
          "name": "stdout",
          "text": [
            "Summary of missing values:\n",
            "+---+----+--------+----------+-----------+---+--------+--------+--------+------+--------+---------------+-----------------+---------+---------------+---------------+------------+-----------+--------+-----+\n",
            "| id|name|username|created_at|description|url|cashtags|hashtags|mentions|  urls|location|pinned_tweet_id|profile_image_url|protected|followers_count|following_count|listed_count|tweet_count|verified|label|\n",
            "+---+----+--------+----------+-----------+---+--------+--------+--------+------+--------+---------------+-----------------+---------+---------------+---------------+------------+-----------+--------+-----+\n",
            "|  0|   0|       0|         0|          0|  0|  997126|  832135|  786552|912917|  291542|         610135|                0|        0|              0|              0|           0|          0|       0|    0|\n",
            "+---+----+--------+----------+-----------+---+--------+--------+--------+------+--------+---------------+-----------------+---------+---------------+---------------+------------+-----------+--------+-----+\n",
            "\n"
          ]
        }
      ]
    },
    {
      "cell_type": "code",
      "source": [
        "sia = SentimentIntensityAnalyzer()\n",
        "\n",
        "def vader_sentiment(text):\n",
        "  return sia.polarity_scores(text)[\"compound\"]\n",
        "\n",
        "vader_udf = F.udf(vader_sentiment, FloatType())"
      ],
      "metadata": {
        "id": "hR9nb9Q6P7CJ"
      },
      "execution_count": 56,
      "outputs": []
    },
    {
      "cell_type": "code",
      "source": [
        "def shannon_entropy(string):\n",
        "    if string.strip() == \"\":\n",
        "        return 0.0\n",
        "    counts = Counter(string)\n",
        "    length = len(string)\n",
        "    return -sum((count/length) * math.log2(count/length) for count in counts.values())\n",
        "\n",
        "entropy_udf = F.udf(shannon_entropy, FloatType())"
      ],
      "metadata": {
        "id": "T9Gc6ww0beC5"
      },
      "execution_count": 85,
      "outputs": []
    },
    {
      "cell_type": "code",
      "source": [
        "now = F.current_timestamp()"
      ],
      "metadata": {
        "id": "3JkuBNxKOLqc"
      },
      "execution_count": 134,
      "outputs": []
    },
    {
      "cell_type": "code",
      "source": [
        "user_features = users_labeled.select(\n",
        "    F.col(\"id\"),\n",
        "    F.length(F.col(\"name\")).alias(\"name_length\"),\n",
        "    F.length(F.col(\"username\")).alias(\"username_length\"),\n",
        "    (F.length(F.col(\"username\")) / F.greatest(F.length(F.col(\"name\")), F.lit(1))).alias(\"username_name_length_ratio\"),\n",
        "    F.length(F.col(\"description\")).alias(\"description_length\"),\n",
        "    F.when(F.col(\"name\") == \"\", False).otherwise(True).alias(\"has_name\"),\n",
        "    F.when(F.col(\"username\") == \"\", False).otherwise(True).alias(\"has_username\"),\n",
        "    F.when(F.col(\"description\") == \"\", False).otherwise(True).alias(\"has_description\"),\n",
        "    F.when(F.col(\"url\") == \"\", False).otherwise(True).alias(\"has_url\"),\n",
        "    F.when(F.col(\"location\").isNull() | (F.col(\"location\") == \"\"), False).otherwise(True).alias(\"has_location\"),\n",
        "    F.when(F.col(\"pinned_tweet_id\").isNull(), False).otherwise(True).alias(\"has_pinned_tweet\"),\n",
        "    F.col(\"name\").rlike(\"(?i)\\\\bbot\\\\b\").alias(\"has_bot_word_in_name\"),\n",
        "    F.col(\"description\").rlike(\"(?i)\\\\bbot\\\\b\").alias(\"has_bot_word_in_description\"),\n",
        "    (F.length(F.regexp_replace(F.col(\"name\"), \"[^\\\\d]\", \"\")) / F.greatest(F.length(F.col(\"name\")), F.lit(1))).alias(\"ratio_digits_in_name\"),\n",
        "    (F.length(F.regexp_replace(F.col(\"username\"), \"[^\\\\d]\", \"\")) / F.greatest(F.length(F.col(\"username\")), F.lit(1))).alias(\"ratio_digits_in_username\"),\n",
        "    (F.length(F.regexp_replace(F.col(\"description\"), \"[^\\\\d]\", \"\")) / F.greatest(F.length(F.col(\"description\")), F.lit(1))).alias(\"ratio_digits_in_description\"),\n",
        "    (F.length(F.regexp_replace(F.col(\"name\"), \"[A-Za-z0-9 ]\", \"\")) / F.greatest(F.length(F.col(\"name\")), F.lit(1))).alias(\"ratio_special_chars_in_name\"),\n",
        "    (F.length(F.regexp_replace(F.col(\"username\"), \"[A-Za-z0-9 ]\", \"\")) / F.greatest(F.length(F.col(\"username\")), F.lit(1))).alias(\"ratio_special_chars_in_username\"),\n",
        "    (F.length(F.regexp_replace(F.col(\"description\"), \"[A-Za-z0-9 ]\", \"\")) / F.greatest(F.length(F.col(\"description\")), F.lit(1))).alias(\"ratio_special_chars_in_description\"),\n",
        "    (F.length(F.regexp_replace(F.col(\"name\"), \"[^A-Z]\", \"\")) / F.greatest(F.length(F.regexp_replace(F.col(\"name\"), \"[^a-z]\", \"\")), F.lit(1))).alias(\"name_upper_to_lower_ratio\"),\n",
        "    (F.length(F.regexp_replace(F.col(\"username\"), \"[^A-Z]\", \"\")) / F.greatest(F.length(F.regexp_replace(F.col(\"username\"), \"[^a-z]\", \"\")), F.lit(1))).alias(\"username_upper_to_lower_ratio\"),\n",
        "    entropy_udf(F.col(\"name\")).alias(\"name_entropy\"),\n",
        "    entropy_udf(F.col(\"username\")).alias(\"username_entropy\"),\n",
        "    (F.levenshtein(F.col(\"username\"), F.col(\"name\")) / F.greatest(F.length(F.col(\"username\")), F.length(F.col(\"name\")), F.lit(1))).alias(\"username_name_levenshtein\"),\n",
        "    vader_udf(F.col(\"description\")).alias(\"description_sentiment\"),\n",
        "    F.when(F.col(\"cashtags\").isNotNull(), F.size(F.col(\"cashtags\"))).otherwise(F.lit(0)).alias(\"cashtag_in_description_count\"),\n",
        "    F.when(F.col(\"hashtags\").isNotNull(), F.size(F.col(\"hashtags\"))).otherwise(F.lit(0)).alias(\"hashtag_in_description_count\"),\n",
        "    F.when(F.col(\"mentions\").isNotNull(), F.size(F.col(\"mentions\"))).otherwise(F.lit(0)).alias(\"mention_in_description_count\"),\n",
        "    F.when(F.col(\"urls\").isNotNull(), F.size(F.col(\"urls\"))).otherwise(F.lit(0)).alias(\"url_in_description_count\"),\n",
        "    F.col(\"protected\").alias(\"is_protected\"),\n",
        "    F.col(\"verified\").alias(\"is_verified\"),\n",
        "    (F.unix_timestamp(now) - F.unix_timestamp(F.to_timestamp(\"created_at\"))).alias(\"account_age_seconds\"),\n",
        "    F.col(\"followers_count\"),\n",
        "    F.col(\"following_count\"),\n",
        "    F.col(\"listed_count\"),\n",
        "    F.col(\"tweet_count\"),\n",
        "    (F.col(\"followers_count\") / F.greatest(F.col(\"following_count\"), F.lit(1))).alias(\"followers_over_following\"),\n",
        "    (2 * F.col(\"followers_count\") / F.greatest(F.col(\"following_count\"), F.lit(1))).alias(\"double_followers_over_following\"),\n",
        "    (F.col(\"following_count\") / F.greatest(F.col(\"followers_count\"), F.lit(1))).alias(\"following_over_followers\"),\n",
        "    (F.col(\"following_count\") / F.greatest(F.col(\"followers_count\") ** 2, F.lit(1))).alias(\"following_over_followers_squared\"),\n",
        "    (F.col(\"following_count\") / F.greatest(F.col(\"followers_count\") + F.col(\"following_count\"), F.lit(1))).alias(\"following_over_total_connections\"),\n",
        "    (F.col(\"listed_count\") / F.greatest(F.col(\"followers_count\"), F.lit(1))).alias(\"listed_over_followers\"),\n",
        "    (F.col(\"tweet_count\") / F.greatest(F.col(\"followers_count\"), F.lit(1))).alias(\"tweets_over_followers\"),\n",
        "    (F.col(\"listed_count\") / F.greatest(F.col(\"tweet_count\"), F.lit(1))).alias(\"listed_over_tweets\"),\n",
        "    (F.col(\"followers_count\") / (F.unix_timestamp(now) - F.unix_timestamp(F.to_timestamp(\"created_at\")))).alias(\"follower_rate\"),\n",
        "    (F.col(\"following_count\") / (F.unix_timestamp(now) - F.unix_timestamp(F.to_timestamp(\"created_at\")))).alias(\"following_rate\"),\n",
        "    (F.col(\"listed_count\") / (F.unix_timestamp(now) - F.unix_timestamp(F.to_timestamp(\"created_at\")))).alias(\"listed_rate\"),\n",
        "    (F.col(\"tweet_count\") / (F.unix_timestamp(now) - F.unix_timestamp(F.to_timestamp(\"created_at\")))).alias(\"tweet_rate\")\n",
        "    )"
      ],
      "metadata": {
        "id": "S2TklOE1NR4W"
      },
      "execution_count": 135,
      "outputs": []
    },
    {
      "cell_type": "code",
      "source": [
        "user_features.show(5, truncate=False)"
      ],
      "metadata": {
        "colab": {
          "base_uri": "https://localhost:8080/"
        },
        "id": "cNzg48OdN_Hk",
        "outputId": "a91204d9-dc08-41a7-ee98-9356b929667f"
      },
      "execution_count": 136,
      "outputs": [
        {
          "output_type": "stream",
          "name": "stdout",
          "text": [
            "+--------------------+-----------+---------------+--------------------------+------------------+--------+------------+---------------+-------+------------+----------------+--------------------+---------------------------+--------------------+------------------------+---------------------------+---------------------------+-------------------------------+----------------------------------+-------------------------+-----------------------------+------------+----------------+-------------------------+---------------------+----------------------------+----------------------------+----------------------------+------------------------+------------+-----------+-------------------+---------------+---------------+------------+-----------+------------------------+-------------------------------+------------------------+--------------------------------+--------------------------------+---------------------+---------------------+---------------------+---------------------+---------------------+---------------------+---------------------+\n",
            "|id                  |name_length|username_length|username_name_length_ratio|description_length|has_name|has_username|has_description|has_url|has_location|has_pinned_tweet|has_bot_word_in_name|has_bot_word_in_description|ratio_digits_in_name|ratio_digits_in_username|ratio_digits_in_description|ratio_special_chars_in_name|ratio_special_chars_in_username|ratio_special_chars_in_description|name_upper_to_lower_ratio|username_upper_to_lower_ratio|name_entropy|username_entropy|username_name_levenshtein|description_sentiment|cashtag_in_description_count|hashtag_in_description_count|mention_in_description_count|url_in_description_count|is_protected|is_verified|account_age_seconds|followers_count|following_count|listed_count|tweet_count|followers_over_following|double_followers_over_following|following_over_followers|following_over_followers_squared|following_over_total_connections|listed_over_followers|tweets_over_followers|listed_over_tweets   |follower_rate        |following_rate       |listed_rate          |tweet_rate           |\n",
            "+--------------------+-----------+---------------+--------------------------+------------------+--------+------------+---------------+-------+------------+----------------+--------------------+---------------------------+--------------------+------------------------+---------------------------+---------------------------+-------------------------------+----------------------------------+-------------------------+-----------------------------+------------+----------------+-------------------------+---------------------+----------------------------+----------------------------+----------------------------+------------------------+------------+-----------+-------------------+---------------+---------------+------------+-----------+------------------------+-------------------------------+------------------------+--------------------------------+--------------------------------+---------------------+---------------------+---------------------+---------------------+---------------------+---------------------+---------------------+\n",
            "|u1089159225148882949|25         |12             |0.48                      |127               |true    |true        |true           |false  |true        |false           |false               |false                      |0.0                 |0.0                     |0.0                        |0.04                       |0.08333333333333333            |0.05511811023622047               |0.5                      |0.0                          |4.103465    |3.4182959       |0.72                     |0.6124               |0                           |0                           |1                           |0                       |false       |false      |208042911          |350            |577            |1           |237        |0.6065857885615251      |1.2131715771230502             |1.6485714285714286      |0.004710204081632653            |0.622437971952535               |0.002857142857142857 |0.6771428571428572   |0.004219409282700422 |1.6823452350174047E-6|2.7734662874429783E-6|4.806700671478299E-9 |1.1391880591403568E-6|\n",
            "|u1134223836         |15         |14             |0.9333333333333333        |0                 |true    |true        |false          |true   |true        |false           |false               |false                      |0.0                 |0.0                     |0.0                        |0.0                        |0.0                            |0.0                               |0.16666666666666666      |0.16666666666666666          |3.006239    |2.842371        |0.06666666666666667      |0.0                  |0                           |0                           |0                           |0                       |false       |false      |396997623          |1625           |1888           |5           |19433      |0.8606991525423728      |1.7213983050847457             |1.1618461538461538      |7.1498224852071E-4              |0.5374323939652719              |0.003076923076923077 |11.958769230769231   |2.5729429321257654E-4|4.093223500232393E-6 |4.755695980577697E-6 |1.2594533846868902E-8|4.8949915249240676E-5|\n",
            "|u1266703520205549568|12         |11             |0.9166666666666666        |1                 |true    |true        |true           |false  |false       |false           |false               |false                      |0.0                 |0.0                     |0.0                        |0.16666666666666666        |0.09090909090909091            |1.0                               |0.0                      |0.0                          |3.188722    |3.0271692       |0.4166666666666667       |0.0                  |0                           |0                           |0                           |0                       |false       |false      |165713035          |3              |62             |0           |66         |0.04838709677419355     |0.0967741935483871             |20.666666666666668      |6.888888888888889               |0.9538461538461539              |0.0                  |22.0                 |0.0                  |1.8103584911108532E-8|3.741407548295763E-7 |0.0                  |3.982788680443877E-7 |\n",
            "|u1351974920599842819|12         |11             |0.9166666666666666        |148               |true    |true        |true           |true   |true        |true            |false               |false                      |0.0                 |0.0                     |0.0                        |0.0                        |0.0                            |0.08108108108108109               |0.375                    |0.375                        |3.251629    |3.0957952       |0.08333333333333333      |0.6249               |0                           |0                           |1                           |0                       |false       |false      |145382760          |184            |213            |0           |1006       |0.863849765258216       |1.727699530516432              |1.1576086956521738      |0.006291351606805293            |0.5365239294710328              |0.0                  |5.467391304347826    |0.0                  |1.265624617389297E-6 |1.465098062521306E-6 |0.0                  |6.919665027682787E-6 |\n",
            "|u1356360497713598465|7          |12             |1.7142857142857142        |27                |true    |true        |true           |true   |true        |true            |false               |false                      |0.0                 |0.0                     |0.0                        |0.0                        |0.0                            |0.037037037037037035              |0.0                      |0.0                          |2.2359264   |2.7924812       |0.4166666666666667       |0.0                  |0                           |0                           |0                           |0                       |false       |false      |144337155          |354            |71             |3           |204        |4.985915492957746       |9.971830985915492              |0.20056497175141244     |5.665677168118995E-4            |0.16705882352941176             |0.00847457627118644  |0.576271186440678    |0.014705882352941176 |2.4525909492950725E-6|4.91903834463136E-7  |2.0784669061822646E-8|1.41335749620394E-6  |\n",
            "+--------------------+-----------+---------------+--------------------------+------------------+--------+------------+---------------+-------+------------+----------------+--------------------+---------------------------+--------------------+------------------------+---------------------------+---------------------------+-------------------------------+----------------------------------+-------------------------+-----------------------------+------------+----------------+-------------------------+---------------------+----------------------------+----------------------------+----------------------------+------------------------+------------+-----------+-------------------+---------------+---------------+------------+-----------+------------------------+-------------------------------+------------------------+--------------------------------+--------------------------------+---------------------+---------------------+---------------------+---------------------+---------------------+---------------------+---------------------+\n",
            "only showing top 5 rows\n",
            "\n"
          ]
        }
      ]
    },
    {
      "cell_type": "code",
      "source": [
        "print(f'There are {user_features.count()} users and {len(user_features.columns)} features.')"
      ],
      "metadata": {
        "colab": {
          "base_uri": "https://localhost:8080/"
        },
        "id": "3llSD1r7bgwl",
        "outputId": "67250f2f-9b90-4d46-9dd3-ceb91fcb99fe"
      },
      "execution_count": 137,
      "outputs": [
        {
          "output_type": "stream",
          "name": "stdout",
          "text": [
            "There are 1000000 users and 48 features.\n"
          ]
        }
      ]
    },
    {
      "cell_type": "code",
      "source": [
        "tweets = spark.read.json(f\"/content/tweet_0.jsonl\")\n",
        "\n",
        "tweets.printSchema()"
      ],
      "metadata": {
        "id": "BoXGa7V54LOz",
        "colab": {
          "base_uri": "https://localhost:8080/"
        },
        "outputId": "157e81aa-5c11-4dcb-8c93-98a356e2c699"
      },
      "execution_count": 139,
      "outputs": [
        {
          "output_type": "stream",
          "name": "stdout",
          "text": [
            "root\n",
            " |-- attachments: struct (nullable = true)\n",
            " |    |-- media_keys: array (nullable = true)\n",
            " |    |    |-- element: string (containsNull = true)\n",
            " |    |-- poll_ids: array (nullable = true)\n",
            " |    |    |-- element: string (containsNull = true)\n",
            " |-- author_id: long (nullable = true)\n",
            " |-- context_annotations: array (nullable = true)\n",
            " |    |-- element: struct (containsNull = true)\n",
            " |    |    |-- domain: struct (nullable = true)\n",
            " |    |    |    |-- description: string (nullable = true)\n",
            " |    |    |    |-- id: string (nullable = true)\n",
            " |    |    |    |-- name: string (nullable = true)\n",
            " |    |    |-- entity: struct (nullable = true)\n",
            " |    |    |    |-- description: string (nullable = true)\n",
            " |    |    |    |-- id: string (nullable = true)\n",
            " |    |    |    |-- name: string (nullable = true)\n",
            " |-- conversation_id: long (nullable = true)\n",
            " |-- created_at: string (nullable = true)\n",
            " |-- entities: struct (nullable = true)\n",
            " |    |-- annotations: array (nullable = true)\n",
            " |    |    |-- element: struct (containsNull = true)\n",
            " |    |    |    |-- end: long (nullable = true)\n",
            " |    |    |    |-- normalized_text: string (nullable = true)\n",
            " |    |    |    |-- probability: double (nullable = true)\n",
            " |    |    |    |-- start: long (nullable = true)\n",
            " |    |    |    |-- type: string (nullable = true)\n",
            " |    |-- cashtags: array (nullable = true)\n",
            " |    |    |-- element: struct (containsNull = true)\n",
            " |    |    |    |-- end: long (nullable = true)\n",
            " |    |    |    |-- start: long (nullable = true)\n",
            " |    |    |    |-- tag: string (nullable = true)\n",
            " |    |-- hashtags: array (nullable = true)\n",
            " |    |    |-- element: struct (containsNull = true)\n",
            " |    |    |    |-- end: long (nullable = true)\n",
            " |    |    |    |-- indices: array (nullable = true)\n",
            " |    |    |    |    |-- element: long (containsNull = true)\n",
            " |    |    |    |-- start: long (nullable = true)\n",
            " |    |    |    |-- tag: string (nullable = true)\n",
            " |    |    |    |-- text: string (nullable = true)\n",
            " |    |-- media: array (nullable = true)\n",
            " |    |    |-- element: struct (containsNull = true)\n",
            " |    |    |    |-- display_url: string (nullable = true)\n",
            " |    |    |    |-- expanded_url: string (nullable = true)\n",
            " |    |    |    |-- id: long (nullable = true)\n",
            " |    |    |    |-- id_str: string (nullable = true)\n",
            " |    |    |    |-- indices: array (nullable = true)\n",
            " |    |    |    |    |-- element: long (containsNull = true)\n",
            " |    |    |    |-- media_url: string (nullable = true)\n",
            " |    |    |    |-- media_url_https: string (nullable = true)\n",
            " |    |    |    |-- sizes: struct (nullable = true)\n",
            " |    |    |    |    |-- large: struct (nullable = true)\n",
            " |    |    |    |    |    |-- h: long (nullable = true)\n",
            " |    |    |    |    |    |-- resize: string (nullable = true)\n",
            " |    |    |    |    |    |-- w: long (nullable = true)\n",
            " |    |    |    |    |-- medium: struct (nullable = true)\n",
            " |    |    |    |    |    |-- h: long (nullable = true)\n",
            " |    |    |    |    |    |-- resize: string (nullable = true)\n",
            " |    |    |    |    |    |-- w: long (nullable = true)\n",
            " |    |    |    |    |-- small: struct (nullable = true)\n",
            " |    |    |    |    |    |-- h: long (nullable = true)\n",
            " |    |    |    |    |    |-- resize: string (nullable = true)\n",
            " |    |    |    |    |    |-- w: long (nullable = true)\n",
            " |    |    |    |    |-- thumb: struct (nullable = true)\n",
            " |    |    |    |    |    |-- h: long (nullable = true)\n",
            " |    |    |    |    |    |-- resize: string (nullable = true)\n",
            " |    |    |    |    |    |-- w: long (nullable = true)\n",
            " |    |    |    |-- source_status_id: long (nullable = true)\n",
            " |    |    |    |-- source_status_id_str: string (nullable = true)\n",
            " |    |    |    |-- source_user_id: long (nullable = true)\n",
            " |    |    |    |-- source_user_id_str: string (nullable = true)\n",
            " |    |    |    |-- type: string (nullable = true)\n",
            " |    |    |    |-- url: string (nullable = true)\n",
            " |    |-- mentions: array (nullable = true)\n",
            " |    |    |-- element: struct (containsNull = true)\n",
            " |    |    |    |-- end: long (nullable = true)\n",
            " |    |    |    |-- id: string (nullable = true)\n",
            " |    |    |    |-- start: long (nullable = true)\n",
            " |    |    |    |-- username: string (nullable = true)\n",
            " |    |-- symbols: array (nullable = true)\n",
            " |    |    |-- element: struct (containsNull = true)\n",
            " |    |    |    |-- indices: array (nullable = true)\n",
            " |    |    |    |    |-- element: long (containsNull = true)\n",
            " |    |    |    |-- text: string (nullable = true)\n",
            " |    |-- urls: array (nullable = true)\n",
            " |    |    |-- element: struct (containsNull = true)\n",
            " |    |    |    |-- description: string (nullable = true)\n",
            " |    |    |    |-- display_url: string (nullable = true)\n",
            " |    |    |    |-- end: long (nullable = true)\n",
            " |    |    |    |-- expanded_url: string (nullable = true)\n",
            " |    |    |    |-- images: array (nullable = true)\n",
            " |    |    |    |    |-- element: struct (containsNull = true)\n",
            " |    |    |    |    |    |-- height: long (nullable = true)\n",
            " |    |    |    |    |    |-- url: string (nullable = true)\n",
            " |    |    |    |    |    |-- width: long (nullable = true)\n",
            " |    |    |    |-- indices: array (nullable = true)\n",
            " |    |    |    |    |-- element: long (containsNull = true)\n",
            " |    |    |    |-- start: long (nullable = true)\n",
            " |    |    |    |-- status: long (nullable = true)\n",
            " |    |    |    |-- title: string (nullable = true)\n",
            " |    |    |    |-- unwound_url: string (nullable = true)\n",
            " |    |    |    |-- url: string (nullable = true)\n",
            " |    |-- user_mentions: array (nullable = true)\n",
            " |    |    |-- element: struct (containsNull = true)\n",
            " |    |    |    |-- id: long (nullable = true)\n",
            " |    |    |    |-- id_str: string (nullable = true)\n",
            " |    |    |    |-- indices: array (nullable = true)\n",
            " |    |    |    |    |-- element: long (containsNull = true)\n",
            " |    |    |    |-- name: string (nullable = true)\n",
            " |    |    |    |-- screen_name: string (nullable = true)\n",
            " |-- geo: struct (nullable = true)\n",
            " |    |-- coordinates: string (nullable = true)\n",
            " |    |-- place_id: string (nullable = true)\n",
            " |    |-- type: string (nullable = true)\n",
            " |-- id: string (nullable = true)\n",
            " |-- in_reply_to_user_id: long (nullable = true)\n",
            " |-- lang: string (nullable = true)\n",
            " |-- possibly_sensitive: boolean (nullable = true)\n",
            " |-- public_metrics: struct (nullable = true)\n",
            " |    |-- like_count: long (nullable = true)\n",
            " |    |-- quote_count: long (nullable = true)\n",
            " |    |-- reply_count: long (nullable = true)\n",
            " |    |-- retweet_count: long (nullable = true)\n",
            " |-- referenced_tweets: array (nullable = true)\n",
            " |    |-- element: struct (containsNull = true)\n",
            " |    |    |-- id: string (nullable = true)\n",
            " |    |    |-- type: string (nullable = true)\n",
            " |-- reply_settings: string (nullable = true)\n",
            " |-- source: string (nullable = true)\n",
            " |-- text: string (nullable = true)\n",
            " |-- withheld: struct (nullable = true)\n",
            " |    |-- copyright: boolean (nullable = true)\n",
            " |    |-- country_codes: array (nullable = true)\n",
            " |    |    |-- element: string (containsNull = true)\n",
            " |    |-- scope: string (nullable = true)\n",
            "\n"
          ]
        }
      ]
    },
    {
      "cell_type": "code",
      "source": [
        "tweets.show(5, truncate=False)"
      ],
      "metadata": {
        "colab": {
          "base_uri": "https://localhost:8080/"
        },
        "id": "WQcJouz95AqR",
        "outputId": "575a93c2-cbba-4679-f11f-df8d53441c28"
      },
      "execution_count": null,
      "outputs": [
        {
          "output_type": "stream",
          "name": "stdout",
          "text": [
            "+-----------+-------------------+-------------------+-------------------+-------------------------+-------------------------------------------------------------------------------------------------------------------------------------------------------------------------------------------------------------------------------------------------------------------------------------------------------------------------------------------------------------------------------------------------------------------------------------------------------------------------------------------------------------------------+----+--------------------+-------------------+----+------------------+--------------------+-----------------+--------------+------------------------------------------------------------------------------------+--------------------------------------------------------------------------------------------------------------------------------------------------------------------------------------------------------------------------------------------------------------------------------------------+--------+\n",
            "|attachments|author_id          |context_annotations|conversation_id    |created_at               |entities                                                                                                                                                                                                                                                                                                                                                                                                                                                                                                                 |geo |id                  |in_reply_to_user_id|lang|possibly_sensitive|public_metrics      |referenced_tweets|reply_settings|source                                                                              |text                                                                                                                                                                                                                                                                                        |withheld|\n",
            "+-----------+-------------------+-------------------+-------------------+-------------------------+-------------------------------------------------------------------------------------------------------------------------------------------------------------------------------------------------------------------------------------------------------------------------------------------------------------------------------------------------------------------------------------------------------------------------------------------------------------------------------------------------------------------------+----+--------------------+-------------------+----+------------------+--------------------+-----------------+--------------+------------------------------------------------------------------------------------+--------------------------------------------------------------------------------------------------------------------------------------------------------------------------------------------------------------------------------------------------------------------------------------------+--------+\n",
            "|NULL       |1304855289208819713|NULL               |1497798545872588801|2022-02-27 04:59:35+00:00|{NULL, NULL, [], [{pic.twitter.com/GXjjq83Rrn, https://twitter.com/cbtillustrates/status/1497798545872588801/photo/1, 1497798542869422086, 1497798542869422086, [135, 158], http://pbs.twimg.com/media/FMk_1szUYAYeJ7N.jpg, https://pbs.twimg.com/media/FMk_1szUYAYeJ7N.jpg, {{2025, fit, 1575}, {1200, fit, 933}, {680, fit, 529}, {150, crop, 150}}, NULL, NULL, NULL, NULL, photo, https://t.co/GXjjq83Rrn}], NULL, [], [], [{976935699793539073, 976935699793539073, [0, 13], sapphire starlight 💙✨, phaseknight_}]}|NULL|t1497798545872588801|976935699793539073 |en  |false             |{8, NULL, NULL, 0}  |NULL             |NULL          |<a href=\"http://twitter.com/download/android\" rel=\"nofollow\">Twitter for Android</a>|@phaseknight_ Although I didn't base this sketch on you specifically, I really think it vibes with your amazing NSFW Laudna cosplay! 🖤 https://t.co/GXjjq83Rrn                                                                                                                             |NULL    |\n",
            "|NULL       |1304855289208819713|NULL               |1496915534717210656|2022-02-24 18:30:49+00:00|{NULL, NULL, [], NULL, NULL, [], [{NULL, twitter.com/cbtillustrates…, NULL, https://twitter.com/cbtillustrates/status/1495109640459198464, NULL, [101, 124], NULL, NULL, NULL, NULL, https://t.co/VydxEYfaXi}], [{24630350, 24630350, [59, 73], Matthew Mercer, matthewmercer}, {3159148494, 3159148494, [74, 87], Critical Role, CriticalRole}, {17278037, 17278037, [88, 100], Titmouse Animation, TitmouseInc}]}                                                                                                      |NULL|t1496915534717210656|NULL               |en  |false             |{1, NULL, NULL, 0}  |NULL             |NULL          |<a href=\"http://twitter.com/download/android\" rel=\"nofollow\">Twitter for Android</a>|I mean, doesn't his beautiful face just scream Trinket?! 🥺 @matthewmercer @CriticalRole @TitmouseInc https://t.co/VydxEYfaXi                                                                                                                                                               |NULL    |\n",
            "|NULL       |1304855289208819713|NULL               |1495492095205068802|2022-02-20 20:14:35+00:00|{NULL, NULL, [], NULL, NULL, [], [], [{1484073764623106049, 1484073764623106049, [0, 11], Hannah, Cobalt_han}]}                                                                                                                                                                                                                                                                                                                                                                                                          |NULL|t1495492095205068802|1484073764623106049|en  |false             |{0, NULL, NULL, 0}  |NULL             |NULL          |<a href=\"http://twitter.com/download/android\" rel=\"nofollow\">Twitter for Android</a>|@Cobalt_han I'm British, so that used to be me too! Now I live in Alaska! 🐻                                                                                                                                                                                                                |NULL    |\n",
            "|NULL       |1304855289208819713|NULL               |1495110995861114883|2022-02-19 19:00:13+00:00|{NULL, NULL, [], NULL, NULL, [], [], [{1263007808, 1263007808, [3, 14], Ginny Di, itsginnydi}]}                                                                                                                                                                                                                                                                                                                                                                                                                          |NULL|t1495110995861114883|NULL               |en  |false             |{0, NULL, NULL, 101}|NULL             |NULL          |<a href=\"http://twitter.com/download/android\" rel=\"nofollow\">Twitter for Android</a>|RT @itsginnydi: the only thing better than the Legend of Vox Machina will be the Legend of Vox Machina the second time through 👏                                                                                                                                                           |NULL    |\n",
            "|NULL       |1304855289208819713|NULL               |1495110620277919745|2022-02-19 18:58:44+00:00|{NULL, NULL, [], NULL, NULL, [], [], []}                                                                                                                                                                                                                                                                                                                                                                                                                                                                                 |NULL|t1495110620277919745|1304855289208819713|en  |false             |{4, NULL, NULL, 0}  |NULL             |NULL          |<a href=\"http://twitter.com/download/android\" rel=\"nofollow\">Twitter for Android</a>|Lucky and his sister, among other bears, were orphaned as cubs by human behavior. Due to the lack of rehab &amp; release program for bears in Alaska, they would have been destroyed if our sanctuary didn't offer them a forever home. To learn more, check out Fortress of the Bear! (2/2)|NULL    |\n",
            "+-----------+-------------------+-------------------+-------------------+-------------------------+-------------------------------------------------------------------------------------------------------------------------------------------------------------------------------------------------------------------------------------------------------------------------------------------------------------------------------------------------------------------------------------------------------------------------------------------------------------------------------------------------------------------------+----+--------------------+-------------------+----+------------------+--------------------+-----------------+--------------+------------------------------------------------------------------------------------+--------------------------------------------------------------------------------------------------------------------------------------------------------------------------------------------------------------------------------------------------------------------------------------------+--------+\n",
            "only showing top 5 rows\n",
            "\n"
          ]
        }
      ]
    },
    {
      "cell_type": "code",
      "source": [
        "tweets = tweets.withColumn(\"author_id\", F.concat(F.lit(\"u\"), F.col(\"author_id\")))"
      ],
      "metadata": {
        "id": "JDa3xBrX-Ksv"
      },
      "execution_count": 158,
      "outputs": []
    },
    {
      "cell_type": "code",
      "source": [
        "tweets.show(5, truncate=False)"
      ],
      "metadata": {
        "colab": {
          "base_uri": "https://localhost:8080/"
        },
        "id": "P1mHxPGm-naH",
        "outputId": "c03bb9da-903e-45bb-857b-73a7979e15cb"
      },
      "execution_count": 159,
      "outputs": [
        {
          "output_type": "stream",
          "name": "stdout",
          "text": [
            "+-----------+--------------------+-------------------+-------------------+-------------------------+-------------------------------------------------------------------------------------------------------------------------------------------------------------------------------------------------------------------------------------------------------------------------------------------------------------------------------------------------------------------------------------------------------------------------------------------------------------------------------------------------------------------------+----+--------------------+-------------------+----+------------------+--------------------+-----------------+--------------+------------------------------------------------------------------------------------+--------------------------------------------------------------------------------------------------------------------------------------------------------------------------------------------------------------------------------------------------------------------------------------------+--------+\n",
            "|attachments|author_id           |context_annotations|conversation_id    |created_at               |entities                                                                                                                                                                                                                                                                                                                                                                                                                                                                                                                 |geo |id                  |in_reply_to_user_id|lang|possibly_sensitive|public_metrics      |referenced_tweets|reply_settings|source                                                                              |text                                                                                                                                                                                                                                                                                        |withheld|\n",
            "+-----------+--------------------+-------------------+-------------------+-------------------------+-------------------------------------------------------------------------------------------------------------------------------------------------------------------------------------------------------------------------------------------------------------------------------------------------------------------------------------------------------------------------------------------------------------------------------------------------------------------------------------------------------------------------+----+--------------------+-------------------+----+------------------+--------------------+-----------------+--------------+------------------------------------------------------------------------------------+--------------------------------------------------------------------------------------------------------------------------------------------------------------------------------------------------------------------------------------------------------------------------------------------+--------+\n",
            "|NULL       |u1304855289208819713|NULL               |1497798545872588801|2022-02-27 04:59:35+00:00|{NULL, NULL, [], [{pic.twitter.com/GXjjq83Rrn, https://twitter.com/cbtillustrates/status/1497798545872588801/photo/1, 1497798542869422086, 1497798542869422086, [135, 158], http://pbs.twimg.com/media/FMk_1szUYAYeJ7N.jpg, https://pbs.twimg.com/media/FMk_1szUYAYeJ7N.jpg, {{2025, fit, 1575}, {1200, fit, 933}, {680, fit, 529}, {150, crop, 150}}, NULL, NULL, NULL, NULL, photo, https://t.co/GXjjq83Rrn}], NULL, [], [], [{976935699793539073, 976935699793539073, [0, 13], sapphire starlight 💙✨, phaseknight_}]}|NULL|t1497798545872588801|976935699793539073 |en  |false             |{8, NULL, NULL, 0}  |NULL             |NULL          |<a href=\"http://twitter.com/download/android\" rel=\"nofollow\">Twitter for Android</a>|@phaseknight_ Although I didn't base this sketch on you specifically, I really think it vibes with your amazing NSFW Laudna cosplay! 🖤 https://t.co/GXjjq83Rrn                                                                                                                             |NULL    |\n",
            "|NULL       |u1304855289208819713|NULL               |1496915534717210656|2022-02-24 18:30:49+00:00|{NULL, NULL, [], NULL, NULL, [], [{NULL, twitter.com/cbtillustrates…, NULL, https://twitter.com/cbtillustrates/status/1495109640459198464, NULL, [101, 124], NULL, NULL, NULL, NULL, https://t.co/VydxEYfaXi}], [{24630350, 24630350, [59, 73], Matthew Mercer, matthewmercer}, {3159148494, 3159148494, [74, 87], Critical Role, CriticalRole}, {17278037, 17278037, [88, 100], Titmouse Animation, TitmouseInc}]}                                                                                                      |NULL|t1496915534717210656|NULL               |en  |false             |{1, NULL, NULL, 0}  |NULL             |NULL          |<a href=\"http://twitter.com/download/android\" rel=\"nofollow\">Twitter for Android</a>|I mean, doesn't his beautiful face just scream Trinket?! 🥺 @matthewmercer @CriticalRole @TitmouseInc https://t.co/VydxEYfaXi                                                                                                                                                               |NULL    |\n",
            "|NULL       |u1304855289208819713|NULL               |1495492095205068802|2022-02-20 20:14:35+00:00|{NULL, NULL, [], NULL, NULL, [], [], [{1484073764623106049, 1484073764623106049, [0, 11], Hannah, Cobalt_han}]}                                                                                                                                                                                                                                                                                                                                                                                                          |NULL|t1495492095205068802|1484073764623106049|en  |false             |{0, NULL, NULL, 0}  |NULL             |NULL          |<a href=\"http://twitter.com/download/android\" rel=\"nofollow\">Twitter for Android</a>|@Cobalt_han I'm British, so that used to be me too! Now I live in Alaska! 🐻                                                                                                                                                                                                                |NULL    |\n",
            "|NULL       |u1304855289208819713|NULL               |1495110995861114883|2022-02-19 19:00:13+00:00|{NULL, NULL, [], NULL, NULL, [], [], [{1263007808, 1263007808, [3, 14], Ginny Di, itsginnydi}]}                                                                                                                                                                                                                                                                                                                                                                                                                          |NULL|t1495110995861114883|NULL               |en  |false             |{0, NULL, NULL, 101}|NULL             |NULL          |<a href=\"http://twitter.com/download/android\" rel=\"nofollow\">Twitter for Android</a>|RT @itsginnydi: the only thing better than the Legend of Vox Machina will be the Legend of Vox Machina the second time through 👏                                                                                                                                                           |NULL    |\n",
            "|NULL       |u1304855289208819713|NULL               |1495110620277919745|2022-02-19 18:58:44+00:00|{NULL, NULL, [], NULL, NULL, [], [], []}                                                                                                                                                                                                                                                                                                                                                                                                                                                                                 |NULL|t1495110620277919745|1304855289208819713|en  |false             |{4, NULL, NULL, 0}  |NULL             |NULL          |<a href=\"http://twitter.com/download/android\" rel=\"nofollow\">Twitter for Android</a>|Lucky and his sister, among other bears, were orphaned as cubs by human behavior. Due to the lack of rehab &amp; release program for bears in Alaska, they would have been destroyed if our sanctuary didn't offer them a forever home. To learn more, check out Fortress of the Bear! (2/2)|NULL    |\n",
            "+-----------+--------------------+-------------------+-------------------+-------------------------+-------------------------------------------------------------------------------------------------------------------------------------------------------------------------------------------------------------------------------------------------------------------------------------------------------------------------------------------------------------------------------------------------------------------------------------------------------------------------------------------------------------------------+----+--------------------+-------------------+----+------------------+--------------------+-----------------+--------------+------------------------------------------------------------------------------------+--------------------------------------------------------------------------------------------------------------------------------------------------------------------------------------------------------------------------------------------------------------------------------------------+--------+\n",
            "only showing top 5 rows\n",
            "\n"
          ]
        }
      ]
    },
    {
      "cell_type": "code",
      "source": [
        "# Filter top 20 tweets per author\n",
        "window = Window.partitionBy(\"author_id\").orderBy(F.col(\"created_at\").desc())\n",
        "tweets = tweets.withColumn(\"rank\", F.row_number().over(window))\n",
        "tweets_filtered = tweets.filter(F.col(\"rank\") <= 20).drop(\"rank\")"
      ],
      "metadata": {
        "id": "L6h5_mN5-9H9"
      },
      "execution_count": 168,
      "outputs": []
    },
    {
      "cell_type": "code",
      "source": [
        "tweets_selected = tweets_filtered.select(\n",
        "    F.col(\"id\"),\n",
        "    F.col(\"text\"),\n",
        "    F.col(\"author_id\"),\n",
        "    F.col(\"in_reply_to_user_id\"),\n",
        "    F.col(\"lang\"),\n",
        "    F.col(\"possibly_sensitive\"),\n",
        "    F.col(\"public_metrics.like_count\"),\n",
        "    F.col(\"public_metrics.quote_count\"),\n",
        "    F.col(\"public_metrics.reply_count\"),\n",
        "    F.col(\"public_metrics.retweet_count\")\n",
        "    )"
      ],
      "metadata": {
        "id": "YUIgowMCnixE"
      },
      "execution_count": 169,
      "outputs": []
    },
    {
      "cell_type": "code",
      "source": [
        "tweets_selected.printSchema()"
      ],
      "metadata": {
        "colab": {
          "base_uri": "https://localhost:8080/"
        },
        "id": "Ksw3FbI0oI30",
        "outputId": "3ebab2fd-0800-479a-9468-cb95c89a1502"
      },
      "execution_count": 170,
      "outputs": [
        {
          "output_type": "stream",
          "name": "stdout",
          "text": [
            "root\n",
            " |-- id: string (nullable = true)\n",
            " |-- text: string (nullable = true)\n",
            " |-- author_id: string (nullable = true)\n",
            " |-- in_reply_to_user_id: long (nullable = true)\n",
            " |-- lang: string (nullable = true)\n",
            " |-- possibly_sensitive: boolean (nullable = true)\n",
            " |-- like_count: long (nullable = true)\n",
            " |-- quote_count: long (nullable = true)\n",
            " |-- reply_count: long (nullable = true)\n",
            " |-- retweet_count: long (nullable = true)\n",
            "\n"
          ]
        }
      ]
    },
    {
      "cell_type": "code",
      "source": [
        "# Check for missing values\n",
        "print('Summary of missing values:')\n",
        "tweets_selected.select([F.count(F.when(F.isnull(c), c)).alias(c) for c in tweets_selected.columns]).show()"
      ],
      "metadata": {
        "colab": {
          "base_uri": "https://localhost:8080/",
          "height": 547
        },
        "id": "rODiwhq1uhC2",
        "outputId": "b69aa0fb-9d3b-4e26-f2b6-2352a242c3ca"
      },
      "execution_count": 148,
      "outputs": [
        {
          "output_type": "stream",
          "name": "stdout",
          "text": [
            "Summary of missing values:\n"
          ]
        },
        {
          "output_type": "stream",
          "name": "stderr",
          "text": [
            "ERROR:root:KeyboardInterrupt while sending command.\n",
            "Traceback (most recent call last):\n",
            "  File \"/usr/local/lib/python3.12/dist-packages/py4j/java_gateway.py\", line 1038, in send_command\n",
            "    response = connection.send_command(command)\n",
            "               ^^^^^^^^^^^^^^^^^^^^^^^^^^^^^^^^\n",
            "  File \"/usr/local/lib/python3.12/dist-packages/py4j/clientserver.py\", line 511, in send_command\n",
            "    answer = smart_decode(self.stream.readline()[:-1])\n",
            "                          ^^^^^^^^^^^^^^^^^^^^^^\n",
            "  File \"/usr/lib/python3.12/socket.py\", line 720, in readinto\n",
            "    return self._sock.recv_into(b)\n",
            "           ^^^^^^^^^^^^^^^^^^^^^^^\n",
            "KeyboardInterrupt\n"
          ]
        },
        {
          "output_type": "error",
          "ename": "KeyboardInterrupt",
          "evalue": "",
          "traceback": [
            "\u001b[0;31m---------------------------------------------------------------------------\u001b[0m",
            "\u001b[0;31mKeyboardInterrupt\u001b[0m                         Traceback (most recent call last)",
            "\u001b[0;32m/tmp/ipython-input-2134586963.py\u001b[0m in \u001b[0;36m<cell line: 0>\u001b[0;34m()\u001b[0m\n\u001b[1;32m      1\u001b[0m \u001b[0;31m# Check for missing values\u001b[0m\u001b[0;34m\u001b[0m\u001b[0;34m\u001b[0m\u001b[0m\n\u001b[1;32m      2\u001b[0m \u001b[0mprint\u001b[0m\u001b[0;34m(\u001b[0m\u001b[0;34m'Summary of missing values:'\u001b[0m\u001b[0;34m)\u001b[0m\u001b[0;34m\u001b[0m\u001b[0;34m\u001b[0m\u001b[0m\n\u001b[0;32m----> 3\u001b[0;31m \u001b[0mtweets_selected\u001b[0m\u001b[0;34m.\u001b[0m\u001b[0mselect\u001b[0m\u001b[0;34m(\u001b[0m\u001b[0;34m[\u001b[0m\u001b[0mF\u001b[0m\u001b[0;34m.\u001b[0m\u001b[0mcount\u001b[0m\u001b[0;34m(\u001b[0m\u001b[0mF\u001b[0m\u001b[0;34m.\u001b[0m\u001b[0mwhen\u001b[0m\u001b[0;34m(\u001b[0m\u001b[0mF\u001b[0m\u001b[0;34m.\u001b[0m\u001b[0misnull\u001b[0m\u001b[0;34m(\u001b[0m\u001b[0mc\u001b[0m\u001b[0;34m)\u001b[0m\u001b[0;34m,\u001b[0m \u001b[0mc\u001b[0m\u001b[0;34m)\u001b[0m\u001b[0;34m)\u001b[0m\u001b[0;34m.\u001b[0m\u001b[0malias\u001b[0m\u001b[0;34m(\u001b[0m\u001b[0mc\u001b[0m\u001b[0;34m)\u001b[0m \u001b[0;32mfor\u001b[0m \u001b[0mc\u001b[0m \u001b[0;32min\u001b[0m \u001b[0mtweets_selected\u001b[0m\u001b[0;34m.\u001b[0m\u001b[0mcolumns\u001b[0m\u001b[0;34m]\u001b[0m\u001b[0;34m)\u001b[0m\u001b[0;34m.\u001b[0m\u001b[0mshow\u001b[0m\u001b[0;34m(\u001b[0m\u001b[0;34m)\u001b[0m\u001b[0;34m\u001b[0m\u001b[0;34m\u001b[0m\u001b[0m\n\u001b[0m",
            "\u001b[0;32m/usr/local/lib/python3.12/dist-packages/pyspark/sql/dataframe.py\u001b[0m in \u001b[0;36mshow\u001b[0;34m(self, n, truncate, vertical)\u001b[0m\n\u001b[1;32m    943\u001b[0m         \u001b[0mname\u001b[0m \u001b[0;34m|\u001b[0m \u001b[0mBob\u001b[0m\u001b[0;34m\u001b[0m\u001b[0;34m\u001b[0m\u001b[0m\n\u001b[1;32m    944\u001b[0m         \"\"\"\n\u001b[0;32m--> 945\u001b[0;31m         \u001b[0mprint\u001b[0m\u001b[0;34m(\u001b[0m\u001b[0mself\u001b[0m\u001b[0;34m.\u001b[0m\u001b[0m_show_string\u001b[0m\u001b[0;34m(\u001b[0m\u001b[0mn\u001b[0m\u001b[0;34m,\u001b[0m \u001b[0mtruncate\u001b[0m\u001b[0;34m,\u001b[0m \u001b[0mvertical\u001b[0m\u001b[0;34m)\u001b[0m\u001b[0;34m)\u001b[0m\u001b[0;34m\u001b[0m\u001b[0;34m\u001b[0m\u001b[0m\n\u001b[0m\u001b[1;32m    946\u001b[0m \u001b[0;34m\u001b[0m\u001b[0m\n\u001b[1;32m    947\u001b[0m     def _show_string(\n",
            "\u001b[0;32m/usr/local/lib/python3.12/dist-packages/pyspark/sql/dataframe.py\u001b[0m in \u001b[0;36m_show_string\u001b[0;34m(self, n, truncate, vertical)\u001b[0m\n\u001b[1;32m    961\u001b[0m \u001b[0;34m\u001b[0m\u001b[0m\n\u001b[1;32m    962\u001b[0m         \u001b[0;32mif\u001b[0m \u001b[0misinstance\u001b[0m\u001b[0;34m(\u001b[0m\u001b[0mtruncate\u001b[0m\u001b[0;34m,\u001b[0m \u001b[0mbool\u001b[0m\u001b[0;34m)\u001b[0m \u001b[0;32mand\u001b[0m \u001b[0mtruncate\u001b[0m\u001b[0;34m:\u001b[0m\u001b[0;34m\u001b[0m\u001b[0;34m\u001b[0m\u001b[0m\n\u001b[0;32m--> 963\u001b[0;31m             \u001b[0;32mreturn\u001b[0m \u001b[0mself\u001b[0m\u001b[0;34m.\u001b[0m\u001b[0m_jdf\u001b[0m\u001b[0;34m.\u001b[0m\u001b[0mshowString\u001b[0m\u001b[0;34m(\u001b[0m\u001b[0mn\u001b[0m\u001b[0;34m,\u001b[0m \u001b[0;36m20\u001b[0m\u001b[0;34m,\u001b[0m \u001b[0mvertical\u001b[0m\u001b[0;34m)\u001b[0m\u001b[0;34m\u001b[0m\u001b[0;34m\u001b[0m\u001b[0m\n\u001b[0m\u001b[1;32m    964\u001b[0m         \u001b[0;32melse\u001b[0m\u001b[0;34m:\u001b[0m\u001b[0;34m\u001b[0m\u001b[0;34m\u001b[0m\u001b[0m\n\u001b[1;32m    965\u001b[0m             \u001b[0;32mtry\u001b[0m\u001b[0;34m:\u001b[0m\u001b[0;34m\u001b[0m\u001b[0;34m\u001b[0m\u001b[0m\n",
            "\u001b[0;32m/usr/local/lib/python3.12/dist-packages/py4j/java_gateway.py\u001b[0m in \u001b[0;36m__call__\u001b[0;34m(self, *args)\u001b[0m\n\u001b[1;32m   1319\u001b[0m             \u001b[0mproto\u001b[0m\u001b[0;34m.\u001b[0m\u001b[0mEND_COMMAND_PART\u001b[0m\u001b[0;34m\u001b[0m\u001b[0;34m\u001b[0m\u001b[0m\n\u001b[1;32m   1320\u001b[0m \u001b[0;34m\u001b[0m\u001b[0m\n\u001b[0;32m-> 1321\u001b[0;31m         \u001b[0manswer\u001b[0m \u001b[0;34m=\u001b[0m \u001b[0mself\u001b[0m\u001b[0;34m.\u001b[0m\u001b[0mgateway_client\u001b[0m\u001b[0;34m.\u001b[0m\u001b[0msend_command\u001b[0m\u001b[0;34m(\u001b[0m\u001b[0mcommand\u001b[0m\u001b[0;34m)\u001b[0m\u001b[0;34m\u001b[0m\u001b[0;34m\u001b[0m\u001b[0m\n\u001b[0m\u001b[1;32m   1322\u001b[0m         return_value = get_return_value(\n\u001b[1;32m   1323\u001b[0m             answer, self.gateway_client, self.target_id, self.name)\n",
            "\u001b[0;32m/usr/local/lib/python3.12/dist-packages/py4j/java_gateway.py\u001b[0m in \u001b[0;36msend_command\u001b[0;34m(self, command, retry, binary)\u001b[0m\n\u001b[1;32m   1036\u001b[0m         \u001b[0mconnection\u001b[0m \u001b[0;34m=\u001b[0m \u001b[0mself\u001b[0m\u001b[0;34m.\u001b[0m\u001b[0m_get_connection\u001b[0m\u001b[0;34m(\u001b[0m\u001b[0;34m)\u001b[0m\u001b[0;34m\u001b[0m\u001b[0;34m\u001b[0m\u001b[0m\n\u001b[1;32m   1037\u001b[0m         \u001b[0;32mtry\u001b[0m\u001b[0;34m:\u001b[0m\u001b[0;34m\u001b[0m\u001b[0;34m\u001b[0m\u001b[0m\n\u001b[0;32m-> 1038\u001b[0;31m             \u001b[0mresponse\u001b[0m \u001b[0;34m=\u001b[0m \u001b[0mconnection\u001b[0m\u001b[0;34m.\u001b[0m\u001b[0msend_command\u001b[0m\u001b[0;34m(\u001b[0m\u001b[0mcommand\u001b[0m\u001b[0;34m)\u001b[0m\u001b[0;34m\u001b[0m\u001b[0;34m\u001b[0m\u001b[0m\n\u001b[0m\u001b[1;32m   1039\u001b[0m             \u001b[0;32mif\u001b[0m \u001b[0mbinary\u001b[0m\u001b[0;34m:\u001b[0m\u001b[0;34m\u001b[0m\u001b[0;34m\u001b[0m\u001b[0m\n\u001b[1;32m   1040\u001b[0m                 \u001b[0;32mreturn\u001b[0m \u001b[0mresponse\u001b[0m\u001b[0;34m,\u001b[0m \u001b[0mself\u001b[0m\u001b[0;34m.\u001b[0m\u001b[0m_create_connection_guard\u001b[0m\u001b[0;34m(\u001b[0m\u001b[0mconnection\u001b[0m\u001b[0;34m)\u001b[0m\u001b[0;34m\u001b[0m\u001b[0;34m\u001b[0m\u001b[0m\n",
            "\u001b[0;32m/usr/local/lib/python3.12/dist-packages/py4j/clientserver.py\u001b[0m in \u001b[0;36msend_command\u001b[0;34m(self, command)\u001b[0m\n\u001b[1;32m    509\u001b[0m         \u001b[0;32mtry\u001b[0m\u001b[0;34m:\u001b[0m\u001b[0;34m\u001b[0m\u001b[0;34m\u001b[0m\u001b[0m\n\u001b[1;32m    510\u001b[0m             \u001b[0;32mwhile\u001b[0m \u001b[0;32mTrue\u001b[0m\u001b[0;34m:\u001b[0m\u001b[0;34m\u001b[0m\u001b[0;34m\u001b[0m\u001b[0m\n\u001b[0;32m--> 511\u001b[0;31m                 \u001b[0manswer\u001b[0m \u001b[0;34m=\u001b[0m \u001b[0msmart_decode\u001b[0m\u001b[0;34m(\u001b[0m\u001b[0mself\u001b[0m\u001b[0;34m.\u001b[0m\u001b[0mstream\u001b[0m\u001b[0;34m.\u001b[0m\u001b[0mreadline\u001b[0m\u001b[0;34m(\u001b[0m\u001b[0;34m)\u001b[0m\u001b[0;34m[\u001b[0m\u001b[0;34m:\u001b[0m\u001b[0;34m-\u001b[0m\u001b[0;36m1\u001b[0m\u001b[0;34m]\u001b[0m\u001b[0;34m)\u001b[0m\u001b[0;34m\u001b[0m\u001b[0;34m\u001b[0m\u001b[0m\n\u001b[0m\u001b[1;32m    512\u001b[0m                 \u001b[0mlogger\u001b[0m\u001b[0;34m.\u001b[0m\u001b[0mdebug\u001b[0m\u001b[0;34m(\u001b[0m\u001b[0;34m\"Answer received: {0}\"\u001b[0m\u001b[0;34m.\u001b[0m\u001b[0mformat\u001b[0m\u001b[0;34m(\u001b[0m\u001b[0manswer\u001b[0m\u001b[0;34m)\u001b[0m\u001b[0;34m)\u001b[0m\u001b[0;34m\u001b[0m\u001b[0;34m\u001b[0m\u001b[0m\n\u001b[1;32m    513\u001b[0m                 \u001b[0;31m# Happens when a the other end is dead. There might be an empty\u001b[0m\u001b[0;34m\u001b[0m\u001b[0;34m\u001b[0m\u001b[0m\n",
            "\u001b[0;32m/usr/lib/python3.12/socket.py\u001b[0m in \u001b[0;36mreadinto\u001b[0;34m(self, b)\u001b[0m\n\u001b[1;32m    718\u001b[0m         \u001b[0;32mwhile\u001b[0m \u001b[0;32mTrue\u001b[0m\u001b[0;34m:\u001b[0m\u001b[0;34m\u001b[0m\u001b[0;34m\u001b[0m\u001b[0m\n\u001b[1;32m    719\u001b[0m             \u001b[0;32mtry\u001b[0m\u001b[0;34m:\u001b[0m\u001b[0;34m\u001b[0m\u001b[0;34m\u001b[0m\u001b[0m\n\u001b[0;32m--> 720\u001b[0;31m                 \u001b[0;32mreturn\u001b[0m \u001b[0mself\u001b[0m\u001b[0;34m.\u001b[0m\u001b[0m_sock\u001b[0m\u001b[0;34m.\u001b[0m\u001b[0mrecv_into\u001b[0m\u001b[0;34m(\u001b[0m\u001b[0mb\u001b[0m\u001b[0;34m)\u001b[0m\u001b[0;34m\u001b[0m\u001b[0;34m\u001b[0m\u001b[0m\n\u001b[0m\u001b[1;32m    721\u001b[0m             \u001b[0;32mexcept\u001b[0m \u001b[0mtimeout\u001b[0m\u001b[0;34m:\u001b[0m\u001b[0;34m\u001b[0m\u001b[0;34m\u001b[0m\u001b[0m\n\u001b[1;32m    722\u001b[0m                 \u001b[0mself\u001b[0m\u001b[0;34m.\u001b[0m\u001b[0m_timeout_occurred\u001b[0m \u001b[0;34m=\u001b[0m \u001b[0;32mTrue\u001b[0m\u001b[0;34m\u001b[0m\u001b[0;34m\u001b[0m\u001b[0m\n",
            "\u001b[0;31mKeyboardInterrupt\u001b[0m: "
          ]
        }
      ]
    },
    {
      "cell_type": "code",
      "source": [
        "tweets_clean = tweets_selected.withColumn(\"text_clean\",\n",
        "                                          F.regexp_replace(col(\"text\"), r\"https?://t\\.co/\\S+\", \"<URL>\")\n",
        "                                          ).withColumn(\"text_clean\",\n",
        "                                                       F.regexp_replace(col(\"text_clean\"), r\"@\\w+\", \"<USER>\")\n",
        "                                                       )\n",
        "tweets_clean.show(5, truncate=False)"
      ],
      "metadata": {
        "colab": {
          "base_uri": "https://localhost:8080/"
        },
        "id": "xEi8d_JLIfbZ",
        "outputId": "247fbdc8-a30e-4e9b-880e-eb43bc494514"
      },
      "execution_count": null,
      "outputs": [
        {
          "output_type": "stream",
          "name": "stdout",
          "text": [
            "+-------------------+-------------------------+-----------------------------------------------+--------------------+----+----------+-------------+--------------------------------------------------------------------------------------------------------------------------------------------------------------------------------------------------------------------------------------------------------------------------------------------------------+------------------------------------------------------------------------------------------------------------------------------------------------------------------------------------------------------------------------------------------------------------------------------+\n",
            "|author_id          |created_at               |media_url                                      |id                  |lang|like_count|retweet_count|text                                                                                                                                                                                                                                                                                                    |text_clean                                                                                                                                                                                                                                                                    |\n",
            "+-------------------+-------------------------+-----------------------------------------------+--------------------+----+----------+-------------+--------------------------------------------------------------------------------------------------------------------------------------------------------------------------------------------------------------------------------------------------------------------------------------------------------+------------------------------------------------------------------------------------------------------------------------------------------------------------------------------------------------------------------------------------------------------------------------------+\n",
            "|1304855289208819713|2022-02-27 04:59:35+00:00|https://pbs.twimg.com/media/FMk_1szUYAYeJ7N.jpg|t1497798545872588801|en  |8         |0            |@phaseknight_ Although I didn't base this sketch on you specifically, I really think it vibes with your amazing NSFW Laudna cosplay! 🖤 https://t.co/GXjjq83Rrn                                                                                                                                         |<USER> Although I didn't base this sketch on you specifically, I really think it vibes with your amazing NSFW Laudna cosplay! 🖤 <URL>                                                                                                                                        |\n",
            "|1304855289208819713|2022-02-19 18:54:50+00:00|https://pbs.twimg.com/media/FL-yS1AUcAIfiy2.jpg|t1495109640459198464|en  |12        |0            |Now we wait for season 2 of #TheLegendofVoxMachina... will we get more Trinket?! If the amazing folks at @TitmouseInc &amp; @CriticalRole ever need of bear inspiration, I work with some wonderful good boys like Lucky who would love to provide reference materials! (1/2) https://t.co/vYuI4X1SSx   |Now we wait for season 2 of #TheLegendofVoxMachina... will we get more Trinket?! If the amazing folks at <USER> &amp; <USER> ever need of bear inspiration, I work with some wonderful good boys like Lucky who would love to provide reference materials! (1/2) <URL>        |\n",
            "|1304855289208819713|2022-02-19 18:44:49+00:00|https://pbs.twimg.com/media/FL-v__NVkAI5zQW.jpg|t1495107117413371904|en  |3         |0            |@leidensygdom Floryn, gnome grave cleric and Glenn, her giant badger beastie and battle mount! https://t.co/2Y6ct1Vh5D                                                                                                                                                                                  |<USER> Floryn, gnome grave cleric and Glenn, her giant badger beastie and battle mount! <URL>                                                                                                                                                                                 |\n",
            "|1304855289208819713|2022-02-17 21:49:16+00:00|https://pbs.twimg.com/media/FL1HCjFVQBs-pc3.jpg|t1494428761877463042|en  |3         |0            |D&amp;D tattoo design slowly coming together.. included some of the Menagerie Coast; the setting for my first attempt at DMing, inspired by @matthewmercer! I would looove to incorporate \"you can certainly try...\" somewhere, in Matt's handwriting, if he's willing to share! https://t.co/l0U9PoxPyp|D&amp;D tattoo design slowly coming together.. included some of the Menagerie Coast; the setting for my first attempt at DMing, inspired by <USER>! I would looove to incorporate \"you can certainly try...\" somewhere, in Matt's handwriting, if he's willing to share! <URL>|\n",
            "|1304855289208819713|2022-02-16 09:11:41+00:00|https://pbs.twimg.com/media/FLtQDHtVkAUKj_9.jpg|t1493875722133262341|en  |7         |0            |So good at tweaking the saturation /after/ I’ve already posted a sketch to socials 🙃 https://t.co/cfdfceywEt                                                                                                                                                                                           |So good at tweaking the saturation /after/ I’ve already posted a sketch to socials 🙃 <URL>                                                                                                                                                                                   |\n",
            "+-------------------+-------------------------+-----------------------------------------------+--------------------+----+----------+-------------+--------------------------------------------------------------------------------------------------------------------------------------------------------------------------------------------------------------------------------------------------------------------------------------------------------+------------------------------------------------------------------------------------------------------------------------------------------------------------------------------------------------------------------------------------------------------------------------------+\n",
            "only showing top 5 rows\n",
            "\n"
          ]
        }
      ]
    },
    {
      "cell_type": "code",
      "source": [
        "n_rows = users_labeled.count()\n",
        "\n",
        "n_human = users_labeled.filter(col(\"label\") == \"human\").count()\n",
        "\n",
        "human_perc = n_human / n_rows * 100\n",
        "bot_perc = 100 - human_perc\n",
        "\n",
        "print(f\"Percentage of human accounts: {human_perc:.2f}\")\n",
        "print(f\"Percentage of bot accounts: {bot_perc:.2f}\")"
      ],
      "metadata": {
        "colab": {
          "base_uri": "https://localhost:8080/"
        },
        "id": "g9I63llnY2vg",
        "outputId": "4430f8da-0b4f-4eee-925a-578014937deb"
      },
      "execution_count": null,
      "outputs": [
        {
          "output_type": "stream",
          "name": "stdout",
          "text": [
            "Percentage of human accounts: 86.01\n",
            "Percentage of bot accounts: 13.99\n"
          ]
        }
      ]
    },
    {
      "cell_type": "code",
      "source": [
        "# Check for missing values\n",
        "print('Summary of missing values:')\n",
        "users_labeled.select([F.count(F.when(F.isnull(c), c)).alias(c) for c in users_labeled.columns]).show()"
      ],
      "metadata": {
        "colab": {
          "base_uri": "https://localhost:8080/"
        },
        "id": "_2d48FaJDYlh",
        "outputId": "53c6d42d-3fa7-4e7d-fe90-2c949cbb8b04"
      },
      "execution_count": null,
      "outputs": [
        {
          "output_type": "stream",
          "name": "stdout",
          "text": [
            "Summary of missing values:\n",
            "+-----------+---+----+---------------+---------------+------------+--------+-----+\n",
            "|description| id|name|followers_count|following_count|listed_count|username|label|\n",
            "+-----------+---+----+---------------+---------------+------------+--------+-----+\n",
            "|          0|  0|   0|              0|              0|           0|       0|    0|\n",
            "+-----------+---+----+---------------+---------------+------------+--------+-----+\n",
            "\n"
          ]
        }
      ]
    },
    {
      "cell_type": "code",
      "source": [],
      "metadata": {
        "id": "Y9bNVb4ZDeXh"
      },
      "execution_count": null,
      "outputs": []
    }
  ]
}