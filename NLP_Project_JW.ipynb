{
  "nbformat": 4,
  "nbformat_minor": 0,
  "metadata": {
    "colab": {
      "provenance": [],
      "mount_file_id": "1fV-2Mc6kjhr3GdesgLaaXJLp6qV5bBC9",
      "authorship_tag": "ABX9TyOQwuS3Yiq0R64v/7rCdNWO",
      "include_colab_link": true
    },
    "kernelspec": {
      "name": "python3",
      "display_name": "Python 3"
    },
    "language_info": {
      "name": "python"
    }
  },
  "cells": [
    {
      "cell_type": "markdown",
      "metadata": {
        "id": "view-in-github",
        "colab_type": "text"
      },
      "source": [
        "<a href=\"https://colab.research.google.com/github/julwdo/NLP-project/blob/main/NLP_Project_JW.ipynb\" target=\"_parent\"><img src=\"https://colab.research.google.com/assets/colab-badge.svg\" alt=\"Open In Colab\"/></a>"
      ]
    },
    {
      "cell_type": "code",
      "source": [
        "!apt-get install openjdk-17-jdk-headless -qq > /dev/null # OpenJDK 17\n",
        "!wget --show-progress https://dlcdn.apache.org/spark/spark-3.5.6/spark-3.5.6-bin-hadoop3.tgz # Apache Spark 3.5.6 with Hadoop 3 support\n",
        "!tar xf spark-3.5.6-bin-hadoop3.tgz\n",
        "!pip install -q findspark\n",
        "!pip install -q spark-nlp==6.1.2\n",
        "!pip install -q xgboost==3.0.4\n",
        "!pip install -q --upgrade pyspark==3.5.6"
      ],
      "metadata": {
        "id": "mQ8T-LAUzBeh",
        "colab": {
          "base_uri": "https://localhost:8080/"
        },
        "outputId": "65867c96-efc0-478f-f1c8-156dbd575eb8"
      },
      "execution_count": 2,
      "outputs": [
        {
          "output_type": "stream",
          "name": "stdout",
          "text": [
            "--2025-09-16 07:42:28--  https://dlcdn.apache.org/spark/spark-3.5.6/spark-3.5.6-bin-hadoop3.tgz\n",
            "Resolving dlcdn.apache.org (dlcdn.apache.org)... 151.101.2.132, 2a04:4e42::644\n",
            "Connecting to dlcdn.apache.org (dlcdn.apache.org)|151.101.2.132|:443... connected.\n",
            "HTTP request sent, awaiting response... 200 OK\n",
            "Length: 400923510 (382M) [application/x-gzip]\n",
            "Saving to: ‘spark-3.5.6-bin-hadoop3.tgz’\n",
            "\n",
            "spark-3.5.6-bin-had 100%[===================>] 382.35M   197MB/s    in 1.9s    \n",
            "\n",
            "2025-09-16 07:42:43 (197 MB/s) - ‘spark-3.5.6-bin-hadoop3.tgz’ saved [400923510/400923510]\n",
            "\n",
            "\u001b[2K   \u001b[90m━━━━━━━━━━━━━━━━━━━━━━━━━━━━━━━━━━━━━━━━\u001b[0m \u001b[32m731.6/731.6 kB\u001b[0m \u001b[31m18.4 MB/s\u001b[0m eta \u001b[36m0:00:00\u001b[0m\n",
            "\u001b[2K     \u001b[90m━━━━━━━━━━━━━━━━━━━━━━━━━━━━━━━━━━━━━━━\u001b[0m \u001b[32m317.4/317.4 MB\u001b[0m \u001b[31m4.9 MB/s\u001b[0m eta \u001b[36m0:00:00\u001b[0m\n",
            "\u001b[?25h  Preparing metadata (setup.py) ... \u001b[?25l\u001b[?25hdone\n",
            "  Building wheel for pyspark (setup.py) ... \u001b[?25l\u001b[?25hdone\n"
          ]
        }
      ]
    },
    {
      "cell_type": "code",
      "source": [
        "import os\n",
        "os.environ['JAVA_HOME'] = '/usr/lib/jvm/java-17-openjdk-amd64'\n",
        "os.environ['SPARK_HOME'] = '/content/spark-3.5.6-bin-hadoop3'"
      ],
      "metadata": {
        "id": "WHawKcY3TCNK"
      },
      "execution_count": 3,
      "outputs": []
    },
    {
      "cell_type": "code",
      "source": [
        "import findspark\n",
        "findspark.init()\n",
        "\n",
        "from pyspark.sql import SparkSession\n",
        "spark = (\n",
        "    SparkSession.builder\n",
        "    .appName(\"BotDetection\")\n",
        "    .master(\"local[*]\")\n",
        "    .config(\"spark.jars.packages\", \"com.johnsnowlabs.nlp:spark-nlp_2.12:6.1.2\")\n",
        "    .config(\"spark.driver.memory\", \"8g\")\n",
        "    .getOrCreate()\n",
        ")\n",
        "spark"
      ],
      "metadata": {
        "colab": {
          "base_uri": "https://localhost:8080/",
          "height": 219
        },
        "id": "hBPmK_AXjToH",
        "outputId": "ea802379-4ff8-42a3-edce-6598b6d78cc2"
      },
      "execution_count": 4,
      "outputs": [
        {
          "output_type": "execute_result",
          "data": {
            "text/plain": [
              "<pyspark.sql.session.SparkSession at 0x7915a67efbc0>"
            ],
            "text/html": [
              "\n",
              "            <div>\n",
              "                <p><b>SparkSession - in-memory</b></p>\n",
              "                \n",
              "        <div>\n",
              "            <p><b>SparkContext</b></p>\n",
              "\n",
              "            <p><a href=\"http://1977d3978fef:4040\">Spark UI</a></p>\n",
              "\n",
              "            <dl>\n",
              "              <dt>Version</dt>\n",
              "                <dd><code>v3.5.6</code></dd>\n",
              "              <dt>Master</dt>\n",
              "                <dd><code>local[*]</code></dd>\n",
              "              <dt>AppName</dt>\n",
              "                <dd><code>BotDetection</code></dd>\n",
              "            </dl>\n",
              "        </div>\n",
              "        \n",
              "            </div>\n",
              "        "
            ]
          },
          "metadata": {},
          "execution_count": 4
        }
      ]
    },
    {
      "cell_type": "code",
      "source": [
        "from google.colab import auth\n",
        "import pyspark.sql.functions as F\n",
        "from pyspark.sql.types import FloatType\n",
        "from nltk.sentiment import SentimentIntensityAnalyzer\n",
        "import math\n",
        "from collections import Counter\n",
        "from pyspark.sql import Window\n",
        "from pyspark.sql.types import StringType, NumericType, BooleanType\n",
        "from sparknlp.base import DocumentAssembler\n",
        "from sparknlp.annotator import XlmRoBertaSentenceEmbeddings\n",
        "from pyspark.ml import Pipeline\n",
        "from pyspark.ml.feature import VectorAssembler, StandardScaler\n",
        "from xgboost.spark import SparkXGBClassifier"
      ],
      "metadata": {
        "id": "J-C_Oc4BzG2s"
      },
      "execution_count": 5,
      "outputs": []
    },
    {
      "cell_type": "code",
      "source": [
        "import nltk\n",
        "nltk.download('vader_lexicon')"
      ],
      "metadata": {
        "id": "1dvQfYXH_WoT",
        "colab": {
          "base_uri": "https://localhost:8080/"
        },
        "outputId": "e726ea9b-99ad-4402-ecba-289c23d9cb91"
      },
      "execution_count": 6,
      "outputs": [
        {
          "output_type": "stream",
          "name": "stderr",
          "text": [
            "[nltk_data] Downloading package vader_lexicon to /root/nltk_data...\n"
          ]
        },
        {
          "output_type": "execute_result",
          "data": {
            "text/plain": [
              "True"
            ]
          },
          "metadata": {},
          "execution_count": 6
        }
      ]
    },
    {
      "cell_type": "code",
      "source": [
        "auth.authenticate_user()"
      ],
      "metadata": {
        "id": "nXzBU7MKS-dT"
      },
      "execution_count": 7,
      "outputs": []
    },
    {
      "cell_type": "code",
      "source": [
        "#!gcloud init"
      ],
      "metadata": {
        "id": "x3jli8AUVuOm"
      },
      "execution_count": 8,
      "outputs": []
    },
    {
      "cell_type": "code",
      "source": [
        "bucket_name = \"twibot-22\"\n",
        "file_names = [\"user.jsonl\", \"label.csv\", \"tweet_0.jsonl\"]\n",
        "\n",
        "for file_name in file_names:\n",
        "    local_path = f\"/content/{file_name}\"\n",
        "    if not os.path.exists(local_path):\n",
        "        !gsutil cp gs://{bucket_name}/{file_name} {local_path}\n",
        "    else:\n",
        "        print(f\"{file_name} already exists locally, skipping download.\")"
      ],
      "metadata": {
        "id": "T20eeOGhZdsN",
        "colab": {
          "base_uri": "https://localhost:8080/"
        },
        "outputId": "c07e32cb-fc0b-46e4-ea35-109ed2fc28bd"
      },
      "execution_count": 9,
      "outputs": [
        {
          "output_type": "stream",
          "name": "stdout",
          "text": [
            "Copying gs://twibot-22/user.jsonl...\n",
            "/ [0 files][    0.0 B/745.4 MiB]                                                \r==> NOTE: You are downloading one or more large file(s), which would\n",
            "run significantly faster if you enabled sliced object downloads. This\n",
            "feature is enabled by default but requires that compiled crcmod be\n",
            "installed (see \"gsutil help crcmod\").\n",
            "\n",
            "- [1 files][745.4 MiB/745.4 MiB]   72.7 MiB/s                                   \n",
            "Operation completed over 1 objects/745.4 MiB.                                    \n",
            "Copying gs://twibot-22/label.csv...\n",
            "/ [1 files][ 20.6 MiB/ 20.6 MiB]                                                \n",
            "Operation completed over 1 objects/20.6 MiB.                                     \n",
            "Copying gs://twibot-22/tweet_0.jsonl...\n",
            "==> NOTE: You are downloading one or more large file(s), which would\n",
            "run significantly faster if you enabled sliced object downloads. This\n",
            "feature is enabled by default but requires that compiled crcmod be\n",
            "installed (see \"gsutil help crcmod\").\n",
            "\n",
            "- [1 files][ 11.1 GiB/ 11.1 GiB]   54.4 MiB/s                                   \n",
            "Operation completed over 1 objects/11.1 GiB.                                     \n"
          ]
        }
      ]
    },
    {
      "cell_type": "code",
      "source": [
        "users = spark.read.json(f\"/content/user.jsonl\")\n",
        "#users.printSchema()"
      ],
      "metadata": {
        "id": "4ljK4HtA_MmV"
      },
      "execution_count": 10,
      "outputs": []
    },
    {
      "cell_type": "code",
      "source": [
        "#users.show(5, truncate=False)"
      ],
      "metadata": {
        "id": "zfqG1CcW_Q1c"
      },
      "execution_count": 11,
      "outputs": []
    },
    {
      "cell_type": "code",
      "source": [
        "users_selected = users.select(\n",
        "    F.col(\"id\"),\n",
        "    F.col(\"name\"),\n",
        "    F.col(\"username\"),\n",
        "    F.col(\"created_at\"),\n",
        "    F.col(\"description\"),\n",
        "    F.col(\"url\"),\n",
        "    F.col(\"entities.description.cashtags\"),\n",
        "    F.col(\"entities.description.hashtags\"),\n",
        "    F.col(\"entities.description.mentions\"),\n",
        "    F.col(\"entities.description.urls\"),\n",
        "    F.col(\"location\"),\n",
        "    F.col(\"pinned_tweet_id\"),\n",
        "    F.col(\"profile_image_url\"),\n",
        "    F.col(\"protected\"),\n",
        "    F.col(\"public_metrics.followers_count\"),\n",
        "    F.col(\"public_metrics.following_count\"),\n",
        "    F.col(\"public_metrics.listed_count\"),\n",
        "    F.col(\"public_metrics.tweet_count\"),\n",
        "    F.col(\"verified\")\n",
        "    )"
      ],
      "metadata": {
        "id": "GQAYasduAYqH"
      },
      "execution_count": 12,
      "outputs": []
    },
    {
      "cell_type": "code",
      "source": [
        "#users_selected.printSchema()"
      ],
      "metadata": {
        "id": "Ce5ND56SEn8R"
      },
      "execution_count": 13,
      "outputs": []
    },
    {
      "cell_type": "code",
      "source": [
        "#users_selected.show(5, truncate=False)"
      ],
      "metadata": {
        "id": "m1nb1FybEtUp"
      },
      "execution_count": 14,
      "outputs": []
    },
    {
      "cell_type": "code",
      "source": [
        "labels = spark.read.csv(f\"/content/label.csv\", header=True, inferSchema=True)"
      ],
      "metadata": {
        "id": "sDJSz4DuE6_2"
      },
      "execution_count": 15,
      "outputs": []
    },
    {
      "cell_type": "code",
      "source": [
        "labels.show(5, truncate=False)"
      ],
      "metadata": {
        "colab": {
          "base_uri": "https://localhost:8080/"
        },
        "id": "2S3i6OraGnzV",
        "outputId": "10d56a36-70a8-4ae4-d50b-17c3fcf95ff3"
      },
      "execution_count": 16,
      "outputs": [
        {
          "output_type": "stream",
          "name": "stdout",
          "text": [
            "+--------------------+-----+\n",
            "|id                  |label|\n",
            "+--------------------+-----+\n",
            "|u1217628182611927040|human|\n",
            "|u2664730894         |human|\n",
            "|u1266703520205549568|human|\n",
            "|u1089159225148882949|human|\n",
            "|u36741729           |bot  |\n",
            "+--------------------+-----+\n",
            "only showing top 5 rows\n",
            "\n"
          ]
        }
      ]
    },
    {
      "cell_type": "code",
      "source": [
        "users_labeled = users_selected.join(labels, users_selected.id == labels.id, \"left\").drop(labels.id)"
      ],
      "metadata": {
        "id": "Dx7pGZ1rGpSJ"
      },
      "execution_count": 17,
      "outputs": []
    },
    {
      "cell_type": "code",
      "source": [
        "#users_labeled.show(5, truncate=False)"
      ],
      "metadata": {
        "id": "yxJV0qKaG_Et"
      },
      "execution_count": 18,
      "outputs": []
    },
    {
      "cell_type": "code",
      "source": [
        "#print('Summary of missing values:')\n",
        "#users_labeled.select([F.count(F.when(F.isnull(c), c)).alias(c) for c in users_labeled.columns]).show()"
      ],
      "metadata": {
        "id": "e29uv2D-P3Zz"
      },
      "execution_count": 19,
      "outputs": []
    },
    {
      "cell_type": "code",
      "source": [
        "sia = SentimentIntensityAnalyzer()\n",
        "\n",
        "def vader_sentiment(text):\n",
        "  return sia.polarity_scores(text)[\"compound\"]\n",
        "\n",
        "vader_udf = F.udf(vader_sentiment, FloatType())"
      ],
      "metadata": {
        "id": "hR9nb9Q6P7CJ"
      },
      "execution_count": 20,
      "outputs": []
    },
    {
      "cell_type": "code",
      "source": [
        "def shannon_entropy(string):\n",
        "    if string.strip() == \"\":\n",
        "        return 0.0\n",
        "    counts = Counter(string)\n",
        "    length = len(string)\n",
        "    return -sum((count/length) * math.log2(count/length) for count in counts.values())\n",
        "\n",
        "entropy_udf = F.udf(shannon_entropy, FloatType())"
      ],
      "metadata": {
        "id": "T9Gc6ww0beC5"
      },
      "execution_count": 21,
      "outputs": []
    },
    {
      "cell_type": "code",
      "source": [
        "now = F.current_timestamp()"
      ],
      "metadata": {
        "id": "3JkuBNxKOLqc"
      },
      "execution_count": 22,
      "outputs": []
    },
    {
      "cell_type": "code",
      "source": [
        "user_features = users_labeled.select(\n",
        "    F.col(\"id\"),\n",
        "    F.length(F.col(\"name\")).alias(\"name_length\"),\n",
        "    F.length(F.col(\"username\")).alias(\"username_length\"),\n",
        "    (F.length(F.col(\"username\")) / F.greatest(F.length(F.col(\"name\")), F.lit(1))).alias(\"username_name_length_ratio\"),\n",
        "    F.regexp_replace(F.regexp_replace(F.regexp_replace(F.col(\"description\"), r\"https?://t\\.co/\\S+\", \"<URL>\"), r\"(?<=^|\\s)@\\w+\", \"<USER>\"), r\"\\b[\\w\\.-]+@[\\w\\.-]+\\.\\w+\\b\", \"<EMAIL>\").alias(\"description\"),\n",
        "    F.length(F.col(\"description\")).alias(\"description_length\"),\n",
        "    F.when(F.col(\"name\") == \"\", False).otherwise(True).alias(\"has_name\"),\n",
        "    F.when(F.col(\"username\") == \"\", False).otherwise(True).alias(\"has_username\"),\n",
        "    F.when(F.col(\"description\") == \"\", False).otherwise(True).alias(\"has_description\"),\n",
        "    F.when(F.col(\"url\") == \"\", False).otherwise(True).alias(\"has_url\"),\n",
        "    F.when(F.col(\"location\").isNull() | (F.col(\"location\") == \"\"), False).otherwise(True).alias(\"has_location\"),\n",
        "    F.when(F.col(\"pinned_tweet_id\").isNull(), False).otherwise(True).alias(\"has_pinned_tweet\"),\n",
        "    F.col(\"name\").rlike(\"(?i)\\\\bbot\\\\b\").alias(\"has_bot_word_in_name\"),\n",
        "    F.col(\"description\").rlike(\"(?i)\\\\bbot\\\\b\").alias(\"has_bot_word_in_description\"),\n",
        "    (F.length(F.regexp_replace(F.col(\"name\"), \"[^\\\\d]\", \"\")) / F.greatest(F.length(F.col(\"name\")), F.lit(1))).alias(\"ratio_digits_in_name\"),\n",
        "    (F.length(F.regexp_replace(F.col(\"username\"), \"[^\\\\d]\", \"\")) / F.greatest(F.length(F.col(\"username\")), F.lit(1))).alias(\"ratio_digits_in_username\"),\n",
        "    (F.length(F.regexp_replace(F.col(\"description\"), \"[^\\\\d]\", \"\")) / F.greatest(F.length(F.col(\"description\")), F.lit(1))).alias(\"ratio_digits_in_description\"),\n",
        "    (F.length(F.regexp_replace(F.col(\"name\"), \"[A-Za-z0-9 ]\", \"\")) / F.greatest(F.length(F.col(\"name\")), F.lit(1))).alias(\"ratio_special_chars_in_name\"),\n",
        "    (F.length(F.regexp_replace(F.col(\"username\"), \"[A-Za-z0-9 ]\", \"\")) / F.greatest(F.length(F.col(\"username\")), F.lit(1))).alias(\"ratio_special_chars_in_username\"),\n",
        "    (F.length(F.regexp_replace(F.col(\"description\"), \"[A-Za-z0-9 ]\", \"\")) / F.greatest(F.length(F.col(\"description\")), F.lit(1))).alias(\"ratio_special_chars_in_description\"),\n",
        "    (F.length(F.regexp_replace(F.col(\"name\"), \"[^A-Z]\", \"\")) / F.greatest(F.length(F.regexp_replace(F.col(\"name\"), \"[^a-z]\", \"\")), F.lit(1))).alias(\"name_upper_to_lower_ratio\"),\n",
        "    (F.length(F.regexp_replace(F.col(\"username\"), \"[^A-Z]\", \"\")) / F.greatest(F.length(F.regexp_replace(F.col(\"username\"), \"[^a-z]\", \"\")), F.lit(1))).alias(\"username_upper_to_lower_ratio\"),\n",
        "    entropy_udf(F.col(\"name\")).alias(\"name_entropy\"),\n",
        "    entropy_udf(F.col(\"username\")).alias(\"username_entropy\"),\n",
        "    (F.levenshtein(F.col(\"username\"), F.col(\"name\")) / F.greatest(F.length(F.col(\"username\")), F.length(F.col(\"name\")), F.lit(1))).alias(\"username_name_levenshtein\"),\n",
        "    vader_udf(F.col(\"description\")).alias(\"description_sentiment\"),\n",
        "    F.when(F.col(\"cashtags\").isNotNull(), F.size(F.col(\"cashtags\"))).otherwise(F.lit(0)).alias(\"cashtag_in_description_count\"),\n",
        "    F.when(F.col(\"hashtags\").isNotNull(), F.size(F.col(\"hashtags\"))).otherwise(F.lit(0)).alias(\"hashtag_in_description_count\"),\n",
        "    F.when(F.col(\"mentions\").isNotNull(), F.size(F.col(\"mentions\"))).otherwise(F.lit(0)).alias(\"mention_in_description_count\"),\n",
        "    F.when(F.col(\"urls\").isNotNull(), F.size(F.col(\"urls\"))).otherwise(F.lit(0)).alias(\"url_in_description_count\"),\n",
        "    F.col(\"protected\").alias(\"is_protected\"),\n",
        "    F.col(\"verified\").alias(\"is_verified\"),\n",
        "    (F.unix_timestamp(now) - F.unix_timestamp(F.to_timestamp(\"created_at\"))).alias(\"account_age_seconds\"),\n",
        "    F.col(\"followers_count\"),\n",
        "    F.col(\"following_count\"),\n",
        "    F.col(\"listed_count\"),\n",
        "    F.col(\"tweet_count\"),\n",
        "    (F.col(\"followers_count\") / F.greatest(F.col(\"following_count\"), F.lit(1))).alias(\"followers_over_following\"),\n",
        "    (2 * F.col(\"followers_count\") / F.greatest(F.col(\"following_count\"), F.lit(1))).alias(\"double_followers_over_following\"),\n",
        "    (F.col(\"following_count\") / F.greatest(F.col(\"followers_count\"), F.lit(1))).alias(\"following_over_followers\"),\n",
        "    (F.col(\"following_count\") / F.greatest(F.col(\"followers_count\") ** 2, F.lit(1))).alias(\"following_over_followers_squared\"),\n",
        "    (F.col(\"following_count\") / F.greatest(F.col(\"followers_count\") + F.col(\"following_count\"), F.lit(1))).alias(\"following_over_total_connections\"),\n",
        "    (F.col(\"listed_count\") / F.greatest(F.col(\"followers_count\"), F.lit(1))).alias(\"listed_over_followers\"),\n",
        "    (F.col(\"tweet_count\") / F.greatest(F.col(\"followers_count\"), F.lit(1))).alias(\"tweets_over_followers\"),\n",
        "    (F.col(\"listed_count\") / F.greatest(F.col(\"tweet_count\"), F.lit(1))).alias(\"listed_over_tweets\"),\n",
        "    (F.col(\"followers_count\") / (F.unix_timestamp(now) - F.unix_timestamp(F.to_timestamp(\"created_at\")))).alias(\"follower_rate\"),\n",
        "    (F.col(\"following_count\") / (F.unix_timestamp(now) - F.unix_timestamp(F.to_timestamp(\"created_at\")))).alias(\"following_rate\"),\n",
        "    (F.col(\"listed_count\") / (F.unix_timestamp(now) - F.unix_timestamp(F.to_timestamp(\"created_at\")))).alias(\"listed_rate\"),\n",
        "    (F.col(\"tweet_count\") / (F.unix_timestamp(now) - F.unix_timestamp(F.to_timestamp(\"created_at\")))).alias(\"tweet_rate\"),\n",
        "    F.col(\"label\")\n",
        "    )"
      ],
      "metadata": {
        "id": "S2TklOE1NR4W"
      },
      "execution_count": 23,
      "outputs": []
    },
    {
      "cell_type": "code",
      "source": [
        "#user_features.show(5, truncate=False)"
      ],
      "metadata": {
        "id": "cNzg48OdN_Hk"
      },
      "execution_count": 24,
      "outputs": []
    },
    {
      "cell_type": "code",
      "source": [
        "tweets = spark.read.json(f\"/content/tweet_0.jsonl\")\n",
        "#tweets.printSchema()"
      ],
      "metadata": {
        "id": "BoXGa7V54LOz"
      },
      "execution_count": 25,
      "outputs": []
    },
    {
      "cell_type": "code",
      "source": [
        "#tweets.show(5, truncate=False)"
      ],
      "metadata": {
        "id": "WQcJouz95AqR"
      },
      "execution_count": 26,
      "outputs": []
    },
    {
      "cell_type": "code",
      "source": [
        "tweets_selected = tweets.select(\n",
        "    F.col(\"id\"),\n",
        "    F.regexp_replace(F.regexp_replace(F.regexp_replace(F.col(\"text\"), r\"https?://t\\.co/\\S+\", \"<URL>\"), r\"(?<=^|\\s)@\\w+\", \"<USER>\"), r\"\\b[\\w\\.-]+@[\\w\\.-]+\\.\\w+\\b\", \"<EMAIL>\").alias(\"text\"),\n",
        "    F.concat(F.lit(\"u\"), F.col(\"author_id\")).alias(\"author_id\"),\n",
        "    F.col(\"created_at\"),\n",
        "    F.when(F.col(\"in_reply_to_user_id\").isNull(), False).otherwise(True).cast(\"int\").alias(\"is_reply\"),\n",
        "    F.col(\"lang\"),\n",
        "    F.col(\"possibly_sensitive\").cast(\"int\").alias(\"is_sensitive\"),\n",
        "    F.col(\"public_metrics.like_count\"),\n",
        "    F.col(\"public_metrics.quote_count\"),\n",
        "    F.col(\"public_metrics.reply_count\"),\n",
        "    F.col(\"public_metrics.retweet_count\")\n",
        "    )"
      ],
      "metadata": {
        "id": "YUIgowMCnixE"
      },
      "execution_count": 27,
      "outputs": []
    },
    {
      "cell_type": "code",
      "source": [
        "#tweets_selected.printSchema()"
      ],
      "metadata": {
        "id": "Ksw3FbI0oI30"
      },
      "execution_count": 28,
      "outputs": []
    },
    {
      "cell_type": "code",
      "source": [
        "#tweets_selected.show(5, truncate=False)"
      ],
      "metadata": {
        "id": "Olt6LrVdNQEB"
      },
      "execution_count": 29,
      "outputs": []
    },
    {
      "cell_type": "code",
      "source": [
        "#print('Summary of missing values:')\n",
        "#tweets_selected.select([F.count(F.when(F.isnull(c), c)).alias(c) for c in tweets_selected.columns]).show()"
      ],
      "metadata": {
        "id": "nwL2Tp8gNydF"
      },
      "execution_count": 30,
      "outputs": []
    },
    {
      "cell_type": "code",
      "source": [
        "# Truncate each tweet to 20 tokens\n",
        "def truncate_text(text, max_tokens=20):\n",
        "    tokens = text.split()\n",
        "    return \" \".join(tokens[:max_tokens])\n",
        "\n",
        "truncate_udf = F.udf(lambda x: truncate_text(x, 20), StringType())\n",
        "\n",
        "tweets_truncated = tweets_selected.withColumn(\n",
        "    \"text_truncated\", truncate_udf(\"text\")\n",
        ")"
      ],
      "metadata": {
        "id": "U99XIObrSVHW"
      },
      "execution_count": 31,
      "outputs": []
    },
    {
      "cell_type": "code",
      "source": [
        "#tweets_truncated.show(1, truncate=False)"
      ],
      "metadata": {
        "id": "wY8BAFM5Utlb"
      },
      "execution_count": 32,
      "outputs": []
    },
    {
      "cell_type": "code",
      "source": [
        "# Filter top tweets per author\n",
        "top_n = 10\n",
        "\n",
        "window = Window.partitionBy(\"author_id\").orderBy(F.col(\"created_at\").desc())\n",
        "tweets_truncated = tweets_truncated.withColumn(\"rank\", F.row_number().over(window))\n",
        "tweets_filtered = tweets_truncated.filter(F.col(\"rank\") <= top_n).drop(\"rank\")"
      ],
      "metadata": {
        "id": "3jkN_YbEKD1n"
      },
      "execution_count": 33,
      "outputs": []
    },
    {
      "cell_type": "code",
      "source": [
        "text_column = \"text\"\n",
        "\n",
        "tweet_features = tweets_filtered.groupBy(\"author_id\").agg(\n",
        "    F.concat_ws(\" \", F.collect_list(text_column)).alias(\"tweets_last20_concatenated_text\"),\n",
        "    F.avg(F.col(\"is_reply\")).alias(\"tweets_last20_reply_fraction\"),\n",
        "    F.countDistinct(\"lang\").alias(\"tweets_last20_num_distinct_langs\"),\n",
        "    F.avg(F.col(\"is_sensitive\")).alias(\"tweets_last20_sensitive_fraction\"),\n",
        "    F.avg(F.col(\"like_count\")).alias(\"tweets_last20_avg_likes\"),\n",
        "#    F.avg(F.col(\"quote_count\")).alias(\"tweets_last20_avg_quotes\"),\n",
        "#    F.avg(F.col(\"reply_count\")).alias(\"tweets_last20_avg_replies\"),\n",
        "    F.avg(F.col(\"retweet_count\")).alias(\"tweets_last20_avg_retweets\")\n",
        "    )"
      ],
      "metadata": {
        "id": "dOdcif7GIdfN"
      },
      "execution_count": 34,
      "outputs": []
    },
    {
      "cell_type": "code",
      "source": [
        "# Join user features with aggregated tweet features\n",
        "enriched_user_features = user_features.join(\n",
        "    tweet_features,\n",
        "    user_features.id == tweet_features.author_id,\n",
        "    how=\"inner\"\n",
        ").drop(\"author_id\")"
      ],
      "metadata": {
        "id": "ezqCAy0aPDmS"
      },
      "execution_count": 35,
      "outputs": []
    },
    {
      "cell_type": "code",
      "source": [
        "#enriched_user_features.printSchema()"
      ],
      "metadata": {
        "id": "tw__NrC-khyD"
      },
      "execution_count": 36,
      "outputs": []
    },
    {
      "cell_type": "code",
      "source": [
        "#enriched_user_features.show(5, truncate=False)"
      ],
      "metadata": {
        "id": "Z4pZW8hmS9cZ"
      },
      "execution_count": 37,
      "outputs": []
    },
    {
      "cell_type": "code",
      "source": [
        "# Set the fraction of data to use (e.g., 0.5 for 50%)\n",
        "DATA_FRACTION = 0.01\n",
        "\n",
        "assert 0 < DATA_FRACTION <= 1, 'ERROR: DATA_FRACTION must be between 0 and 1 (exclusive).'"
      ],
      "metadata": {
        "id": "IdvPet3jt14x"
      },
      "execution_count": 38,
      "outputs": []
    },
    {
      "cell_type": "code",
      "source": [
        "# Sample the dataset according to DATA_FRACTION\n",
        "if DATA_FRACTION < 1:\n",
        "  print(f'Sampling {DATA_FRACTION * 100:.0f}% of the dataset.')\n",
        "  enriched_user_features = enriched_user_features.sample(False, DATA_FRACTION, 42)\n",
        "else:\n",
        "  print('Using the entire dataset.')"
      ],
      "metadata": {
        "colab": {
          "base_uri": "https://localhost:8080/"
        },
        "id": "SHf1GiQhoxhn",
        "outputId": "b4eb637b-50fc-445f-cfc0-d5ace1f246a8"
      },
      "execution_count": 39,
      "outputs": [
        {
          "output_type": "stream",
          "name": "stdout",
          "text": [
            "Sampling 1% of the dataset.\n"
          ]
        }
      ]
    },
    {
      "cell_type": "code",
      "source": [
        "text_features = enriched_user_features.select(\n",
        "    F.col(\"id\"),\n",
        "    F.col(\"description\"),\n",
        "    F.col(\"tweets_last20_concatenated_text\")\n",
        "    )"
      ],
      "metadata": {
        "id": "aJOcmgbKym9c"
      },
      "execution_count": 40,
      "outputs": []
    },
    {
      "cell_type": "code",
      "source": [
        "desc_doc = DocumentAssembler() \\\n",
        "    .setInputCol(\"description\") \\\n",
        "    .setOutputCol(\"description_doc\")\n",
        "\n",
        "desc_embed = XlmRoBertaSentenceEmbeddings.pretrained(\"sent_xlm_roberta_base\", \"xx\") \\\n",
        "    .setInputCols([\"description_doc\"]) \\\n",
        "    .setOutputCol(\"description_embeddings\")\n",
        "\n",
        "tweets_doc = DocumentAssembler() \\\n",
        "    .setInputCol(\"tweets_last20_concatenated_text\") \\\n",
        "    .setOutputCol(\"tweets_doc\")\n",
        "\n",
        "tweets_embed = XlmRoBertaSentenceEmbeddings.pretrained(\"sent_xlm_roberta_base\", \"xx\") \\\n",
        "    .setInputCols([\"tweets_doc\"]) \\\n",
        "    .setOutputCol(\"tweets_embeddings\")\n",
        "\n",
        "pipeline = Pipeline(stages=[desc_doc, desc_embed, tweets_doc, tweets_embed])\n",
        "\n",
        "model = pipeline.fit(text_features)\n",
        "text_embeddings = model.transform(text_features)"
      ],
      "metadata": {
        "colab": {
          "base_uri": "https://localhost:8080/"
        },
        "id": "WiUWF7g2e0bO",
        "outputId": "a710d2f6-4519-4268-8782-726fd6b9d0c9"
      },
      "execution_count": 41,
      "outputs": [
        {
          "output_type": "stream",
          "name": "stdout",
          "text": [
            "sent_xlm_roberta_base download started this may take some time.\n",
            "Approximate size to download 619.5 MB\n",
            "[OK!]\n",
            "sent_xlm_roberta_base download started this may take some time.\n",
            "Approximate size to download 619.5 MB\n",
            "[OK!]\n"
          ]
        }
      ]
    },
    {
      "cell_type": "code",
      "source": [
        "#text_embeddings.printSchema()"
      ],
      "metadata": {
        "id": "gKsAYwY1geco"
      },
      "execution_count": 42,
      "outputs": []
    },
    {
      "cell_type": "code",
      "source": [
        "text_module = text_embeddings.select(\n",
        "    \"id\",\n",
        "    F.col(\"description_embeddings\")[0][\"embeddings\"].alias(\"description_vector\"),\n",
        "    F.col(\"tweets_embeddings\")[0][\"embeddings\"].alias(\"tweets_vector\")\n",
        "    )"
      ],
      "metadata": {
        "id": "yo_KpfDGrRm6"
      },
      "execution_count": 43,
      "outputs": []
    },
    {
      "cell_type": "code",
      "source": [
        "#text_module.printSchema()"
      ],
      "metadata": {
        "id": "ry6Y5iLNzWzZ"
      },
      "execution_count": 44,
      "outputs": []
    },
    {
      "cell_type": "code",
      "source": [
        "user_module = enriched_user_features.drop(\n",
        "    \"description\",\n",
        "    \"tweets_last20_concatenated_text\"\n",
        "    )"
      ],
      "metadata": {
        "id": "wjt0Pw8PDpSe"
      },
      "execution_count": 45,
      "outputs": []
    },
    {
      "cell_type": "code",
      "source": [
        "#user_module.printSchema()"
      ],
      "metadata": {
        "id": "HBf2D6ATEBJl"
      },
      "execution_count": 46,
      "outputs": []
    },
    {
      "cell_type": "code",
      "source": [
        "# Train, validation, test split\n",
        "train_frac = 0.7\n",
        "val_frac = 0.2\n",
        "test_frac = 0.1\n",
        "\n",
        "train_df, val_df, test_df = user_module.randomSplit([train_frac, val_frac, test_frac], seed=42)"
      ],
      "metadata": {
        "id": "YzSLM2tk3R_Z"
      },
      "execution_count": 47,
      "outputs": []
    },
    {
      "cell_type": "code",
      "source": [
        "# Standardize numerical features\n",
        "numeric_cols = [\n",
        "    f.name for f in train_df.schema.fields if isinstance(f.dataType, NumericType)\n",
        "    ]\n",
        "\n",
        "stats_df = train_df.select([\n",
        "    F.mean(c).alias(f\"{c}_mean\") for c in numeric_cols\n",
        "    ] + [\n",
        "        F.stddev(c).alias(f\"{c}_std\") for c in numeric_cols\n",
        "        ])\n",
        "\n",
        "# train_df\n",
        "scaled_train_df = train_df.crossJoin(stats_df)\n",
        "\n",
        "for c in numeric_cols:\n",
        "    scaled_train_df = scaled_train_df.withColumn(f\"{c}_scaled\",\n",
        "     (F.col(c) - F.col(f\"{c}_mean\")) / F.col(f\"{c}_std\"))\n",
        "\n",
        "# val_df\n",
        "scaled_val_df = val_df.crossJoin(stats_df)\n",
        "\n",
        "for c in numeric_cols:\n",
        "    scaled_val_df = scaled_val_df.withColumn(f\"{c}_scaled\",\n",
        "     (F.col(c) - F.col(f\"{c}_mean\")) / F.col(f\"{c}_std\"))\n",
        "\n",
        "# test_df\n",
        "scaled_test_df = test_df.crossJoin(stats_df)\n",
        "\n",
        "for c in numeric_cols:\n",
        "    scaled_test_df = scaled_test_df.withColumn(f\"{c}_scaled\",\n",
        "     (F.col(c) - F.col(f\"{c}_mean\")) / F.col(f\"{c}_std\"))\n",
        "\n",
        "# Select relevant cols\n",
        "cols = [\n",
        "    f.name for f in scaled_train_df.schema.fields\n",
        "    if f.name not in numeric_cols\n",
        "    and not f.name.endswith(\"_mean\")\n",
        "    and not f.name.endswith(\"_std\")\n",
        "]\n",
        "\n",
        "scaled_train_df = scaled_train_df.select(cols)\n",
        "scaled_val_df = scaled_val_df.select(cols)\n",
        "scaled_test_df = scaled_test_df.select(cols)"
      ],
      "metadata": {
        "id": "yexhFmB2TEcp"
      },
      "execution_count": 48,
      "outputs": []
    },
    {
      "cell_type": "code",
      "source": [
        "#scaled_train_df.show(5)"
      ],
      "metadata": {
        "id": "Q2FK7kGxh4tD"
      },
      "execution_count": 49,
      "outputs": []
    },
    {
      "cell_type": "code",
      "source": [
        "bool_cols = [\n",
        "    f.name for f in scaled_train_df.schema.fields if isinstance(f.dataType, BooleanType)\n",
        "    ]\n",
        "\n",
        "select_exprs = [\n",
        "    # Cast all boolean columns to double\n",
        "    F.col(c).cast(\"double\").alias(c) for c in bool_cols\n",
        "] + [\n",
        "    # Cast label column: 1 if \"bot\", 0 if \"human\"\n",
        "    F.when(F.col(\"label\") == \"bot\", 1.0).otherwise(0.0).alias(\"label\")\n",
        "] + [\n",
        "    F.col(c) for c in scaled_train_df.columns if c not in bool_cols + [\"label\"]\n",
        "]\n",
        "\n",
        "prepared_train_df = scaled_train_df.select(*select_exprs)\n",
        "prepared_val_df = scaled_val_df.select(*select_exprs)\n",
        "prepared_test_df = scaled_test_df.select(*select_exprs)"
      ],
      "metadata": {
        "id": "JxID6aaS2K67"
      },
      "execution_count": 50,
      "outputs": []
    },
    {
      "cell_type": "code",
      "source": [
        "feature_cols = [\n",
        "    f.name for f in prepared_train_df.schema.fields\n",
        "    if f.name not in bool_cols + [\"id\", \"label\"]\n",
        "]\n",
        "\n",
        "assembler = VectorAssembler(inputCols=feature_cols, outputCol=\"features\")\n",
        "assembled_train_df = assembler.transform(prepared_train_df)"
      ],
      "metadata": {
        "id": "iJ_NY4Gv71HQ"
      },
      "execution_count": 51,
      "outputs": []
    },
    {
      "cell_type": "code",
      "source": [
        "from pyspark.ml.stat import Correlation\n",
        "\n",
        "corr_matrix = Correlation.corr(assembled_train_df, \"features\").head()[0]\n",
        "corr_array = corr_matrix.toArray()\n",
        "corr_array"
      ],
      "metadata": {
        "id": "ALVrEenYZxQ-",
        "colab": {
          "base_uri": "https://localhost:8080/"
        },
        "outputId": "ed32bfb9-c7ea-45b4-9db6-35af53965dce"
      },
      "execution_count": 52,
      "outputs": [
        {
          "output_type": "stream",
          "name": "stdout",
          "text": [
            "[[ 1.          0.12133793 -0.52411992 ... -0.03888855 -0.0305979\n",
            "  -0.04131689]\n",
            " [ 0.12133793  1.          0.18746886 ... -0.00851093 -0.01943335\n",
            "  -0.02081128]\n",
            " [-0.52411992  0.18746886  1.         ...  0.03873246  0.01273199\n",
            "   0.04026991]\n",
            " ...\n",
            " [-0.03888855 -0.00851093  0.03873246 ...  1.         -0.00639982\n",
            "   0.04915231]\n",
            " [-0.0305979  -0.01943335  0.01273199 ... -0.00639982  1.\n",
            "   0.00734135]\n",
            " [-0.04131689 -0.02081128  0.04026991 ...  0.04915231  0.00734135\n",
            "   1.        ]]\n"
          ]
        }
      ]
    },
    {
      "cell_type": "code",
      "source": [
        "import itertools\n",
        "\n",
        "correlations = []\n",
        "for i, j in itertools.combinations(range(len(feature_cols)), 2):\n",
        "    correlations.append(((feature_cols[i], feature_cols[j]), abs(corr_array[i, j])))\n",
        "\n",
        "correlations_sorted = sorted(correlations, key=lambda x: x[1], reverse=True)\n",
        "\n",
        "print(\"Feature-to-Feature Correlations (absolute values, sorted)\")\n",
        "for pair, value in correlations_sorted:\n",
        "    print(f\"{pair}: {value:.4f}\")"
      ],
      "metadata": {
        "colab": {
          "base_uri": "https://localhost:8080/"
        },
        "id": "X0NhJBzaiW7O",
        "outputId": "a2a872b8-6442-490a-f2cf-7d20c40bab5e"
      },
      "execution_count": 59,
      "outputs": [
        {
          "output_type": "stream",
          "name": "stdout",
          "text": [
            "Feature-to-Feature Correlations (absolute values, sorted)\n",
            "('followers_over_following_scaled', 'double_followers_over_following_scaled'): 1.0000\n",
            "('following_over_followers_scaled', 'following_over_followers_squared_scaled'): 0.9934\n",
            "('followers_count_scaled', 'follower_rate_scaled'): 0.9911\n",
            "('listed_count_scaled', 'listed_rate_scaled'): 0.9906\n",
            "('following_count_scaled', 'following_rate_scaled'): 0.9637\n",
            "('tweet_count_scaled', 'tweet_rate_scaled'): 0.9332\n",
            "('followers_count_scaled', 'listed_count_scaled'): 0.8983\n",
            "('followers_count_scaled', 'listed_rate_scaled'): 0.8960\n",
            "('follower_rate_scaled', 'listed_rate_scaled'): 0.8699\n",
            "('listed_count_scaled', 'follower_rate_scaled'): 0.8597\n",
            "('listed_count_scaled', 'followers_over_following_scaled'): 0.8167\n",
            "('listed_count_scaled', 'double_followers_over_following_scaled'): 0.8167\n",
            "('followers_over_following_scaled', 'listed_rate_scaled'): 0.7754\n",
            "('double_followers_over_following_scaled', 'listed_rate_scaled'): 0.7754\n",
            "('name_length_scaled', 'name_entropy_scaled'): 0.7724\n",
            "('username_length_scaled', 'username_entropy_scaled'): 0.7438\n",
            "('username_name_length_ratio_scaled', 'name_entropy_scaled'): 0.7401\n",
            "('followers_count_scaled', 'followers_over_following_scaled'): 0.7136\n",
            "('followers_count_scaled', 'double_followers_over_following_scaled'): 0.7136\n",
            "('followers_over_following_scaled', 'follower_rate_scaled'): 0.6577\n",
            "('double_followers_over_following_scaled', 'follower_rate_scaled'): 0.6577\n",
            "('ratio_special_chars_in_name_scaled', 'ratio_special_chars_in_description_scaled'): 0.5656\n",
            "('name_length_scaled', 'username_name_length_ratio_scaled'): 0.5241\n",
            "('ratio_special_chars_in_name_scaled', 'username_name_levenshtein_scaled'): 0.3621\n",
            "('ratio_digits_in_name_scaled', 'ratio_digits_in_username_scaled'): 0.3150\n",
            "('follower_rate_scaled', 'tweets_last20_avg_likes_scaled'): 0.3091\n",
            "('description_length_scaled', 'mention_in_description_count_scaled'): 0.2887\n",
            "('name_entropy_scaled', 'username_entropy_scaled'): 0.2557\n",
            "('followers_count_scaled', 'tweets_last20_avg_likes_scaled'): 0.2448\n",
            "('account_age_seconds_scaled', 'following_over_total_connections_scaled'): 0.2446\n",
            "('ratio_digits_in_username_scaled', 'following_over_total_connections_scaled'): 0.2392\n",
            "('name_upper_to_lower_ratio_scaled', 'username_upper_to_lower_ratio_scaled'): 0.2265\n",
            "('tweets_over_followers_scaled', 'tweet_rate_scaled'): 0.2172\n",
            "('description_length_scaled', 'name_entropy_scaled'): 0.2144\n",
            "('tweets_last20_reply_fraction_scaled', 'tweets_last20_num_distinct_langs_scaled'): 0.2046\n",
            "('name_length_scaled', 'description_length_scaled'): 0.1965\n",
            "('description_length_scaled', 'following_over_total_connections_scaled'): 0.1954\n",
            "('description_length_scaled', 'account_age_seconds_scaled'): 0.1908\n",
            "('tweet_count_scaled', 'tweets_over_followers_scaled'): 0.1903\n",
            "('username_length_scaled', 'username_name_length_ratio_scaled'): 0.1875\n",
            "('description_length_scaled', 'hashtag_in_description_count_scaled'): 0.1846\n",
            "('ratio_special_chars_in_description_scaled', 'username_name_levenshtein_scaled'): 0.1842\n",
            "('description_length_scaled', 'description_sentiment_scaled'): 0.1839\n",
            "('account_age_seconds_scaled', 'tweet_count_scaled'): 0.1814\n",
            "('name_length_scaled', 'username_name_levenshtein_scaled'): 0.1806\n",
            "('description_length_scaled', 'url_in_description_count_scaled'): 0.1794\n",
            "('ratio_digits_in_username_scaled', 'account_age_seconds_scaled'): 0.1794\n",
            "('username_length_scaled', 'account_age_seconds_scaled'): 0.1791\n",
            "('username_length_scaled', 'username_name_levenshtein_scaled'): 0.1779\n",
            "('listed_over_tweets_scaled', 'follower_rate_scaled'): 0.1742\n",
            "('username_entropy_scaled', 'account_age_seconds_scaled'): 0.1712\n",
            "('following_over_total_connections_scaled', 'tweets_over_followers_scaled'): 0.1710\n",
            "('description_length_scaled', 'tweets_last20_num_distinct_langs_scaled'): 0.1667\n",
            "('listed_over_tweets_scaled', 'listed_rate_scaled'): 0.1664\n",
            "('listed_rate_scaled', 'tweets_last20_avg_likes_scaled'): 0.1656\n",
            "('ratio_digits_in_description_scaled', 'url_in_description_count_scaled'): 0.1630\n",
            "('name_upper_to_lower_ratio_scaled', 'username_name_levenshtein_scaled'): 0.1620\n",
            "('description_length_scaled', 'ratio_digits_in_username_scaled'): 0.1619\n",
            "('username_length_scaled', 'username_upper_to_lower_ratio_scaled'): 0.1595\n",
            "('username_entropy_scaled', 'username_name_levenshtein_scaled'): 0.1581\n",
            "('username_length_scaled', 'name_entropy_scaled'): 0.1573\n",
            "('followers_count_scaled', 'listed_over_tweets_scaled'): 0.1552\n",
            "('following_over_total_connections_scaled', 'listed_rate_scaled'): 0.1519\n",
            "('ratio_special_chars_in_name_scaled', 'tweet_rate_scaled'): 0.1509\n",
            "('username_name_length_ratio_scaled', 'description_length_scaled'): 0.1457\n",
            "('ratio_digits_in_username_scaled', 'tweets_over_followers_scaled'): 0.1455\n",
            "('username_name_length_ratio_scaled', 'ratio_special_chars_in_name_scaled'): 0.1455\n",
            "('account_age_seconds_scaled', 'tweets_last20_num_distinct_langs_scaled'): 0.1396\n",
            "('ratio_digits_in_name_scaled', 'tweets_over_followers_scaled'): 0.1393\n",
            "('ratio_special_chars_in_username_scaled', 'account_age_seconds_scaled'): 0.1390\n",
            "('listed_count_scaled', 'listed_over_tweets_scaled'): 0.1389\n",
            "('username_upper_to_lower_ratio_scaled', 'follower_rate_scaled'): 0.1374\n",
            "('username_upper_to_lower_ratio_scaled', 'followers_count_scaled'): 0.1354\n",
            "('ratio_special_chars_in_username_scaled', 'tweets_last20_avg_retweets_scaled'): 0.1341\n",
            "('listed_count_scaled', 'tweets_last20_avg_likes_scaled'): 0.1336\n",
            "('tweet_count_scaled', 'listed_rate_scaled'): 0.1311\n",
            "('following_over_total_connections_scaled', 'listed_over_tweets_scaled'): 0.1303\n",
            "('listed_count_scaled', 'following_over_total_connections_scaled'): 0.1302\n",
            "('account_age_seconds_scaled', 'tweets_last20_reply_fraction_scaled'): 0.1298\n",
            "('description_length_scaled', 'tweets_over_followers_scaled'): 0.1291\n",
            "('following_over_followers_scaled', 'following_over_total_connections_scaled'): 0.1290\n",
            "('ratio_special_chars_in_name_scaled', 'account_age_seconds_scaled'): 0.1288\n",
            "('listed_count_scaled', 'tweet_count_scaled'): 0.1285\n",
            "('following_rate_scaled', 'tweet_rate_scaled'): 0.1278\n",
            "('following_over_total_connections_scaled', 'tweets_last20_reply_fraction_scaled'): 0.1272\n",
            "('tweet_count_scaled', 'following_over_total_connections_scaled'): 0.1265\n",
            "('following_over_total_connections_scaled', 'follower_rate_scaled'): 0.1263\n",
            "('following_over_total_connections_scaled', 'tweets_last20_num_distinct_langs_scaled'): 0.1223\n",
            "('name_length_scaled', 'username_length_scaled'): 0.1213\n",
            "('url_in_description_count_scaled', 'following_over_total_connections_scaled'): 0.1196\n",
            "('username_name_length_ratio_scaled', 'username_entropy_scaled'): 0.1193\n",
            "('ratio_digits_in_username_scaled', 'username_name_levenshtein_scaled'): 0.1187\n",
            "('account_age_seconds_scaled', 'listed_count_scaled'): 0.1184\n",
            "('username_name_levenshtein_scaled', 'tweets_last20_num_distinct_langs_scaled'): 0.1183\n",
            "('following_count_scaled', 'tweet_count_scaled'): 0.1182\n",
            "('tweet_count_scaled', 'followers_over_following_scaled'): 0.1168\n",
            "('tweet_count_scaled', 'double_followers_over_following_scaled'): 0.1168\n",
            "('url_in_description_count_scaled', 'tweet_count_scaled'): 0.1155\n",
            "('username_upper_to_lower_ratio_scaled', 'username_entropy_scaled'): 0.1153\n",
            "('listed_over_tweets_scaled', 'tweets_last20_avg_likes_scaled'): 0.1151\n",
            "('tweet_count_scaled', 'following_rate_scaled'): 0.1150\n",
            "('username_name_levenshtein_scaled', 'following_over_total_connections_scaled'): 0.1143\n",
            "('name_length_scaled', 'username_entropy_scaled'): 0.1131\n",
            "('ratio_special_chars_in_description_scaled', 'account_age_seconds_scaled'): 0.1103\n",
            "('account_age_seconds_scaled', 'listed_rate_scaled'): 0.1095\n",
            "('username_name_length_ratio_scaled', 'account_age_seconds_scaled'): 0.1091\n",
            "('followers_count_scaled', 'following_over_total_connections_scaled'): 0.1090\n",
            "('username_name_levenshtein_scaled', 'tweet_rate_scaled'): 0.1074\n",
            "('username_upper_to_lower_ratio_scaled', 'listed_rate_scaled'): 0.1049\n",
            "('following_count_scaled', 'tweet_rate_scaled'): 0.1042\n",
            "('ratio_special_chars_in_description_scaled', 'name_entropy_scaled'): 0.1025\n",
            "('ratio_special_chars_in_name_scaled', 'tweet_count_scaled'): 0.1023\n",
            "('ratio_special_chars_in_description_scaled', 'tweet_rate_scaled'): 0.1017\n",
            "('username_name_length_ratio_scaled', 'ratio_special_chars_in_description_scaled'): 0.1015\n",
            "('ratio_digits_in_name_scaled', 'tweet_rate_scaled'): 0.1013\n",
            "('ratio_special_chars_in_description_scaled', 'description_sentiment_scaled'): 0.1010\n",
            "('username_upper_to_lower_ratio_scaled', 'listed_count_scaled'): 0.1001\n",
            "('listed_over_followers_scaled', 'tweets_over_followers_scaled'): 0.0998\n",
            "('following_over_total_connections_scaled', 'tweet_rate_scaled'): 0.0989\n",
            "('followers_count_scaled', 'tweet_count_scaled'): 0.0987\n",
            "('tweet_count_scaled', 'tweets_last20_reply_fraction_scaled'): 0.0979\n",
            "('description_length_scaled', 'tweets_last20_reply_fraction_scaled'): 0.0975\n",
            "('name_entropy_scaled', 'mention_in_description_count_scaled'): 0.0973\n",
            "('tweet_count_scaled', 'follower_rate_scaled'): 0.0967\n",
            "('ratio_digits_in_username_scaled', 'name_entropy_scaled'): 0.0961\n",
            "('ratio_special_chars_in_description_scaled', 'tweets_last20_reply_fraction_scaled'): 0.0949\n",
            "('ratio_special_chars_in_name_scaled', 'tweets_over_followers_scaled'): 0.0945\n",
            "('ratio_special_chars_in_username_scaled', 'username_upper_to_lower_ratio_scaled'): 0.0938\n",
            "('following_count_scaled', 'tweets_last20_sensitive_fraction_scaled'): 0.0927\n",
            "('mention_in_description_count_scaled', 'account_age_seconds_scaled'): 0.0919\n",
            "('tweets_last20_num_distinct_langs_scaled', 'tweets_last20_avg_retweets_scaled'): 0.0911\n",
            "('ratio_digits_in_name_scaled', 'tweet_count_scaled'): 0.0909\n",
            "('ratio_special_chars_in_description_scaled', 'url_in_description_count_scaled'): 0.0905\n",
            "('url_in_description_count_scaled', 'tweet_rate_scaled'): 0.0892\n",
            "('ratio_digits_in_username_scaled', 'tweet_rate_scaled'): 0.0874\n",
            "('listed_rate_scaled', 'tweet_rate_scaled'): 0.0866\n",
            "('description_length_scaled', 'following_over_followers_scaled'): 0.0864\n",
            "('following_over_total_connections_scaled', 'following_rate_scaled'): 0.0863\n",
            "('ratio_special_chars_in_name_scaled', 'tweets_last20_num_distinct_langs_scaled'): 0.0857\n",
            "('description_length_scaled', 'tweets_last20_sensitive_fraction_scaled'): 0.0825\n",
            "('name_upper_to_lower_ratio_scaled', 'name_entropy_scaled'): 0.0816\n",
            "('mention_in_description_count_scaled', 'tweets_over_followers_scaled'): 0.0811\n",
            "('username_name_length_ratio_scaled', 'mention_in_description_count_scaled'): 0.0796\n",
            "('following_over_total_connections_scaled', 'tweets_last20_avg_retweets_scaled'): 0.0794\n",
            "('ratio_special_chars_in_description_scaled', 'tweet_count_scaled'): 0.0790\n",
            "('description_length_scaled', 'tweets_last20_avg_retweets_scaled'): 0.0782\n",
            "('listed_count_scaled', 'tweet_rate_scaled'): 0.0781\n",
            "('tweet_rate_scaled', 'tweets_last20_reply_fraction_scaled'): 0.0777\n",
            "('ratio_special_chars_in_username_scaled', 'name_entropy_scaled'): 0.0775\n",
            "('following_over_total_connections_scaled', 'tweets_last20_avg_likes_scaled'): 0.0774\n",
            "('username_name_levenshtein_scaled', 'tweets_over_followers_scaled'): 0.0773\n",
            "('username_name_levenshtein_scaled', 'tweet_count_scaled'): 0.0772\n",
            "('ratio_special_chars_in_description_scaled', 'tweets_over_followers_scaled'): 0.0771\n",
            "('followers_over_following_scaled', 'tweet_rate_scaled'): 0.0771\n",
            "('double_followers_over_following_scaled', 'tweet_rate_scaled'): 0.0771\n",
            "('following_rate_scaled', 'tweets_last20_sensitive_fraction_scaled'): 0.0770\n",
            "('description_length_scaled', 'tweet_count_scaled'): 0.0768\n",
            "('username_name_levenshtein_scaled', 'account_age_seconds_scaled'): 0.0762\n",
            "('account_age_seconds_scaled', 'followers_count_scaled'): 0.0755\n",
            "('username_name_levenshtein_scaled', 'tweets_last20_reply_fraction_scaled'): 0.0755\n",
            "('ratio_special_chars_in_description_scaled', 'username_entropy_scaled'): 0.0749\n",
            "('following_over_followers_scaled', 'tweets_last20_reply_fraction_scaled'): 0.0730\n",
            "('description_sentiment_scaled', 'tweets_last20_reply_fraction_scaled'): 0.0726\n",
            "('description_length_scaled', 'ratio_special_chars_in_name_scaled'): 0.0725\n",
            "('name_length_scaled', 'tweets_last20_reply_fraction_scaled'): 0.0724\n",
            "('description_length_scaled', 'username_name_levenshtein_scaled'): 0.0723\n",
            "('name_length_scaled', 'ratio_digits_in_username_scaled'): 0.0715\n",
            "('ratio_digits_in_name_scaled', 'account_age_seconds_scaled'): 0.0712\n",
            "('name_entropy_scaled', 'tweets_last20_avg_retweets_scaled'): 0.0712\n",
            "('following_over_followers_squared_scaled', 'following_over_total_connections_scaled'): 0.0703\n",
            "('description_length_scaled', 'following_count_scaled'): 0.0699\n",
            "('ratio_special_chars_in_name_scaled', 'username_entropy_scaled'): 0.0697\n",
            "('name_length_scaled', 'ratio_digits_in_description_scaled'): 0.0696\n",
            "('ratio_digits_in_description_scaled', 'tweet_count_scaled'): 0.0693\n",
            "('tweets_over_followers_scaled', 'tweets_last20_num_distinct_langs_scaled'): 0.0692\n",
            "('ratio_digits_in_username_scaled', 'ratio_special_chars_in_username_scaled'): 0.0691\n",
            "('name_entropy_scaled', 'following_over_total_connections_scaled'): 0.0688\n",
            "('description_length_scaled', 'ratio_special_chars_in_description_scaled'): 0.0680\n",
            "('account_age_seconds_scaled', 'following_count_scaled'): 0.0679\n",
            "('name_entropy_scaled', 'tweets_last20_reply_fraction_scaled'): 0.0679\n",
            "('ratio_special_chars_in_username_scaled', 'tweets_last20_num_distinct_langs_scaled'): 0.0675\n",
            "('ratio_special_chars_in_username_scaled', 'username_name_levenshtein_scaled'): 0.0673\n",
            "('ratio_digits_in_username_scaled', 'ratio_special_chars_in_description_scaled'): 0.0668\n",
            "('ratio_special_chars_in_name_scaled', 'name_entropy_scaled'): 0.0666\n",
            "('ratio_special_chars_in_name_scaled', 'mention_in_description_count_scaled'): 0.0662\n",
            "('follower_rate_scaled', 'tweet_rate_scaled'): 0.0661\n",
            "('hashtag_in_description_count_scaled', 'following_rate_scaled'): 0.0655\n",
            "('ratio_digits_in_username_scaled', 'tweets_last20_reply_fraction_scaled'): 0.0652\n",
            "('ratio_special_chars_in_name_scaled', 'tweets_last20_reply_fraction_scaled'): 0.0651\n",
            "('account_age_seconds_scaled', 'follower_rate_scaled'): 0.0649\n",
            "('description_length_scaled', 'listed_over_tweets_scaled'): 0.0641\n",
            "('hashtag_in_description_count_scaled', 'following_over_total_connections_scaled'): 0.0641\n",
            "('username_name_length_ratio_scaled', 'ratio_digits_in_username_scaled'): 0.0640\n",
            "('description_length_scaled', 'following_rate_scaled'): 0.0639\n",
            "('following_over_followers_squared_scaled', 'tweets_last20_reply_fraction_scaled'): 0.0638\n",
            "('name_length_scaled', 'mention_in_description_count_scaled'): 0.0635\n",
            "('name_length_scaled', 'ratio_special_chars_in_description_scaled'): 0.0628\n",
            "('tweets_over_followers_scaled', 'tweets_last20_avg_retweets_scaled'): 0.0621\n",
            "('followers_count_scaled', 'tweet_rate_scaled'): 0.0618\n",
            "('following_count_scaled', 'following_over_total_connections_scaled'): 0.0616\n",
            "('ratio_special_chars_in_name_scaled', 'ratio_special_chars_in_username_scaled'): 0.0613\n",
            "('ratio_special_chars_in_description_scaled', 'tweets_last20_num_distinct_langs_scaled'): 0.0612\n",
            "('ratio_digits_in_description_scaled', 'name_entropy_scaled'): 0.0605\n",
            "('account_age_seconds_scaled', 'listed_over_followers_scaled'): 0.0604\n",
            "('ratio_digits_in_description_scaled', 'following_over_total_connections_scaled'): 0.0601\n",
            "('username_name_length_ratio_scaled', 'username_name_levenshtein_scaled'): 0.0593\n",
            "('ratio_digits_in_description_scaled', 'tweet_rate_scaled'): 0.0592\n",
            "('description_length_scaled', 'following_over_followers_squared_scaled'): 0.0591\n",
            "('username_name_length_ratio_scaled', 'ratio_special_chars_in_username_scaled'): 0.0590\n",
            "('tweets_last20_reply_fraction_scaled', 'tweets_last20_avg_likes_scaled'): 0.0586\n",
            "('ratio_special_chars_in_username_scaled', 'tweets_last20_sensitive_fraction_scaled'): 0.0586\n",
            "('ratio_special_chars_in_username_scaled', 'ratio_special_chars_in_description_scaled'): 0.0581\n",
            "('listed_rate_scaled', 'tweets_last20_reply_fraction_scaled'): 0.0581\n",
            "('cashtag_in_description_count_scaled', 'account_age_seconds_scaled'): 0.0573\n",
            "('username_name_length_ratio_scaled', 'following_over_total_connections_scaled'): 0.0567\n",
            "('name_entropy_scaled', 'tweets_last20_num_distinct_langs_scaled'): 0.0566\n",
            "('username_upper_to_lower_ratio_scaled', 'tweets_last20_reply_fraction_scaled'): 0.0565\n",
            "('name_upper_to_lower_ratio_scaled', 'cashtag_in_description_count_scaled'): 0.0564\n",
            "('account_age_seconds_scaled', 'tweets_over_followers_scaled'): 0.0564\n",
            "('username_upper_to_lower_ratio_scaled', 'tweets_over_followers_scaled'): 0.0561\n",
            "('ratio_digits_in_name_scaled', 'ratio_digits_in_description_scaled'): 0.0561\n",
            "('cashtag_in_description_count_scaled', 'mention_in_description_count_scaled'): 0.0557\n",
            "('ratio_special_chars_in_name_scaled', 'description_sentiment_scaled'): 0.0557\n",
            "('hashtag_in_description_count_scaled', 'following_count_scaled'): 0.0555\n",
            "('hashtag_in_description_count_scaled', 'tweet_count_scaled'): 0.0554\n",
            "('username_length_scaled', 'listed_count_scaled'): 0.0545\n",
            "('ratio_digits_in_name_scaled', 'username_name_levenshtein_scaled'): 0.0545\n",
            "('ratio_digits_in_description_scaled', 'username_upper_to_lower_ratio_scaled'): 0.0537\n",
            "('username_upper_to_lower_ratio_scaled', 'name_entropy_scaled'): 0.0536\n",
            "('account_age_seconds_scaled', 'following_over_followers_scaled'): 0.0535\n",
            "('listed_count_scaled', 'tweets_last20_reply_fraction_scaled'): 0.0534\n",
            "('ratio_digits_in_username_scaled', 'tweet_count_scaled'): 0.0531\n",
            "('hashtag_in_description_count_scaled', 'tweet_rate_scaled'): 0.0529\n",
            "('mention_in_description_count_scaled', 'following_over_total_connections_scaled'): 0.0529\n",
            "('ratio_digits_in_username_scaled', 'mention_in_description_count_scaled'): 0.0520\n",
            "('name_length_scaled', 'ratio_special_chars_in_username_scaled'): 0.0514\n",
            "('url_in_description_count_scaled', 'tweets_last20_num_distinct_langs_scaled'): 0.0514\n",
            "('followers_over_following_scaled', 'following_over_total_connections_scaled'): 0.0510\n",
            "('double_followers_over_following_scaled', 'following_over_total_connections_scaled'): 0.0510\n",
            "('username_length_scaled', 'listed_rate_scaled'): 0.0509\n",
            "('name_entropy_scaled', 'tweets_over_followers_scaled'): 0.0506\n",
            "('username_name_length_ratio_scaled', 'tweets_last20_num_distinct_langs_scaled'): 0.0503\n",
            "('description_sentiment_scaled', 'account_age_seconds_scaled'): 0.0501\n",
            "('listed_over_tweets_scaled', 'tweet_rate_scaled'): 0.0497\n",
            "('username_entropy_scaled', 'listed_count_scaled'): 0.0494\n",
            "('name_length_scaled', 'following_over_total_connections_scaled'): 0.0494\n",
            "('tweets_last20_sensitive_fraction_scaled', 'tweets_last20_avg_retweets_scaled'): 0.0492\n",
            "('name_entropy_scaled', 'url_in_description_count_scaled'): 0.0487\n",
            "('description_length_scaled', 'tweets_last20_avg_likes_scaled'): 0.0487\n",
            "('tweets_last20_num_distinct_langs_scaled', 'tweets_last20_sensitive_fraction_scaled'): 0.0485\n",
            "('username_length_scaled', 'ratio_digits_in_name_scaled'): 0.0484\n",
            "('tweet_count_scaled', 'listed_over_tweets_scaled'): 0.0480\n",
            "('username_name_length_ratio_scaled', 'tweets_last20_reply_fraction_scaled'): 0.0476\n",
            "('name_length_scaled', 'url_in_description_count_scaled'): 0.0469\n",
            "('ratio_special_chars_in_username_scaled', 'following_over_followers_scaled'): 0.0468\n",
            "('name_upper_to_lower_ratio_scaled', 'description_sentiment_scaled'): 0.0466\n",
            "('tweets_over_followers_scaled', 'tweets_last20_sensitive_fraction_scaled'): 0.0465\n",
            "('username_name_levenshtein_scaled', 'mention_in_description_count_scaled'): 0.0464\n",
            "('listed_over_followers_scaled', 'tweets_last20_reply_fraction_scaled'): 0.0463\n",
            "('hashtag_in_description_count_scaled', 'tweets_last20_reply_fraction_scaled'): 0.0463\n",
            "('description_length_scaled', 'ratio_digits_in_description_scaled'): 0.0461\n",
            "('username_upper_to_lower_ratio_scaled', 'following_over_total_connections_scaled'): 0.0453\n",
            "('username_name_levenshtein_scaled', 'listed_over_tweets_scaled'): 0.0448\n",
            "('name_entropy_scaled', 'following_rate_scaled'): 0.0447\n",
            "('ratio_digits_in_description_scaled', 'ratio_special_chars_in_description_scaled'): 0.0445\n",
            "('username_entropy_scaled', 'listed_rate_scaled'): 0.0443\n",
            "('ratio_digits_in_name_scaled', 'mention_in_description_count_scaled'): 0.0440\n",
            "('username_name_levenshtein_scaled', 'tweets_last20_avg_likes_scaled'): 0.0432\n",
            "('name_upper_to_lower_ratio_scaled', 'tweets_last20_reply_fraction_scaled'): 0.0431\n",
            "('listed_rate_scaled', 'tweets_last20_num_distinct_langs_scaled'): 0.0428\n",
            "('ratio_digits_in_username_scaled', 'ratio_special_chars_in_name_scaled'): 0.0422\n",
            "('ratio_special_chars_in_username_scaled', 'following_over_followers_squared_scaled'): 0.0422\n",
            "('description_sentiment_scaled', 'tweets_over_followers_scaled'): 0.0422\n",
            "('name_upper_to_lower_ratio_scaled', 'mention_in_description_count_scaled'): 0.0422\n",
            "('ratio_digits_in_username_scaled', 'url_in_description_count_scaled'): 0.0419\n",
            "('ratio_special_chars_in_name_scaled', 'cashtag_in_description_count_scaled'): 0.0419\n",
            "('ratio_digits_in_username_scaled', 'tweets_last20_num_distinct_langs_scaled'): 0.0419\n",
            "('ratio_special_chars_in_description_scaled', 'listed_over_followers_scaled'): 0.0418\n",
            "('username_length_scaled', 'following_over_total_connections_scaled'): 0.0418\n",
            "('description_length_scaled', 'tweet_rate_scaled'): 0.0415\n",
            "('cashtag_in_description_count_scaled', 'tweets_last20_reply_fraction_scaled'): 0.0415\n",
            "('name_length_scaled', 'tweets_last20_avg_retweets_scaled'): 0.0413\n",
            "('description_sentiment_scaled', 'mention_in_description_count_scaled'): 0.0413\n",
            "('username_name_length_ratio_scaled', 'tweets_last20_avg_retweets_scaled'): 0.0403\n",
            "('url_in_description_count_scaled', 'account_age_seconds_scaled'): 0.0400\n",
            "('listed_count_scaled', 'tweets_last20_num_distinct_langs_scaled'): 0.0399\n",
            "('tweets_over_followers_scaled', 'tweets_last20_reply_fraction_scaled'): 0.0396\n",
            "('name_length_scaled', 'tweets_last20_sensitive_fraction_scaled'): 0.0389\n",
            "('username_name_length_ratio_scaled', 'tweets_last20_sensitive_fraction_scaled'): 0.0387\n",
            "('ratio_special_chars_in_username_scaled', 'following_count_scaled'): 0.0384\n",
            "('username_length_scaled', 'name_upper_to_lower_ratio_scaled'): 0.0381\n",
            "('username_name_levenshtein_scaled', 'listed_over_followers_scaled'): 0.0381\n",
            "('name_upper_to_lower_ratio_scaled', 'tweet_rate_scaled'): 0.0379\n",
            "('ratio_digits_in_name_scaled', 'ratio_special_chars_in_description_scaled'): 0.0376\n",
            "('username_name_levenshtein_scaled', 'tweets_last20_avg_retweets_scaled'): 0.0374\n",
            "('username_name_levenshtein_scaled', 'tweets_last20_sensitive_fraction_scaled'): 0.0373\n",
            "('name_length_scaled', 'name_upper_to_lower_ratio_scaled'): 0.0373\n",
            "('ratio_digits_in_username_scaled', 'ratio_digits_in_description_scaled'): 0.0370\n",
            "('name_upper_to_lower_ratio_scaled', 'username_entropy_scaled'): 0.0370\n",
            "('ratio_digits_in_username_scaled', 'listed_rate_scaled'): 0.0369\n",
            "('username_name_levenshtein_scaled', 'listed_rate_scaled'): 0.0367\n",
            "('followers_over_following_scaled', 'listed_over_tweets_scaled'): 0.0367\n",
            "('double_followers_over_following_scaled', 'listed_over_tweets_scaled'): 0.0367\n",
            "('name_entropy_scaled', 'tweets_last20_sensitive_fraction_scaled'): 0.0365\n",
            "('ratio_special_chars_in_name_scaled', 'listed_over_tweets_scaled'): 0.0362\n",
            "('ratio_digits_in_description_scaled', 'ratio_special_chars_in_name_scaled'): 0.0362\n",
            "('name_entropy_scaled', 'following_count_scaled'): 0.0357\n",
            "('name_length_scaled', 'hashtag_in_description_count_scaled'): 0.0357\n",
            "('url_in_description_count_scaled', 'following_rate_scaled'): 0.0357\n",
            "('ratio_special_chars_in_name_scaled', 'tweets_last20_avg_retweets_scaled'): 0.0356\n",
            "('ratio_special_chars_in_username_scaled', 'listed_rate_scaled'): 0.0352\n",
            "('username_length_scaled', 'ratio_special_chars_in_name_scaled'): 0.0351\n",
            "('ratio_special_chars_in_description_scaled', 'listed_over_tweets_scaled'): 0.0351\n",
            "('ratio_special_chars_in_username_scaled', 'following_rate_scaled'): 0.0349\n",
            "('tweets_over_followers_scaled', 'listed_over_tweets_scaled'): 0.0348\n",
            "('ratio_digits_in_name_scaled', 'name_entropy_scaled'): 0.0347\n",
            "('name_length_scaled', 'tweets_last20_num_distinct_langs_scaled'): 0.0346\n",
            "('followers_count_scaled', 'tweets_last20_reply_fraction_scaled'): 0.0346\n",
            "('tweets_over_followers_scaled', 'listed_rate_scaled'): 0.0345\n",
            "('username_upper_to_lower_ratio_scaled', 'mention_in_description_count_scaled'): 0.0344\n",
            "('name_length_scaled', 'following_rate_scaled'): 0.0341\n",
            "('account_age_seconds_scaled', 'following_over_followers_squared_scaled'): 0.0341\n",
            "('tweets_over_followers_scaled', 'following_rate_scaled'): 0.0339\n",
            "('url_in_description_count_scaled', 'following_count_scaled'): 0.0336\n",
            "('ratio_digits_in_username_scaled', 'following_over_followers_scaled'): 0.0336\n",
            "('username_entropy_scaled', 'following_over_total_connections_scaled'): 0.0336\n",
            "('username_name_length_ratio_scaled', 'name_upper_to_lower_ratio_scaled'): 0.0334\n",
            "('account_age_seconds_scaled', 'followers_over_following_scaled'): 0.0334\n",
            "('account_age_seconds_scaled', 'double_followers_over_following_scaled'): 0.0334\n",
            "('description_length_scaled', 'listed_over_followers_scaled'): 0.0334\n",
            "('url_in_description_count_scaled', 'tweets_last20_reply_fraction_scaled'): 0.0334\n",
            "('username_length_scaled', 'followers_count_scaled'): 0.0333\n",
            "('name_entropy_scaled', 'description_sentiment_scaled'): 0.0333\n",
            "('account_age_seconds_scaled', 'tweet_rate_scaled'): 0.0333\n",
            "('ratio_special_chars_in_username_scaled', 'follower_rate_scaled'): 0.0332\n",
            "('description_sentiment_scaled', 'tweet_rate_scaled'): 0.0330\n",
            "('username_length_scaled', 'ratio_special_chars_in_description_scaled'): 0.0329\n",
            "('ratio_special_chars_in_name_scaled', 'listed_over_followers_scaled'): 0.0328\n",
            "('cashtag_in_description_count_scaled', 'url_in_description_count_scaled'): 0.0327\n",
            "('ratio_special_chars_in_username_scaled', 'url_in_description_count_scaled'): 0.0327\n",
            "('ratio_special_chars_in_username_scaled', 'listed_count_scaled'): 0.0323\n",
            "('ratio_digits_in_username_scaled', 'listed_count_scaled'): 0.0323\n",
            "('follower_rate_scaled', 'tweets_last20_reply_fraction_scaled'): 0.0323\n",
            "('username_name_levenshtein_scaled', 'listed_count_scaled'): 0.0319\n",
            "('username_length_scaled', 'mention_in_description_count_scaled'): 0.0316\n",
            "('mention_in_description_count_scaled', 'followers_over_following_scaled'): 0.0311\n",
            "('mention_in_description_count_scaled', 'double_followers_over_following_scaled'): 0.0311\n",
            "('description_sentiment_scaled', 'follower_rate_scaled'): 0.0311\n",
            "('tweets_last20_reply_fraction_scaled', 'tweets_last20_avg_retweets_scaled'): 0.0310\n",
            "('following_count_scaled', 'tweets_over_followers_scaled'): 0.0309\n",
            "('mention_in_description_count_scaled', 'listed_count_scaled'): 0.0308\n",
            "('ratio_digits_in_username_scaled', 'follower_rate_scaled'): 0.0307\n",
            "('name_length_scaled', 'tweets_last20_avg_likes_scaled'): 0.0306\n",
            "('name_length_scaled', 'ratio_digits_in_name_scaled'): 0.0306\n",
            "('name_length_scaled', 'tweet_count_scaled'): 0.0305\n",
            "('ratio_digits_in_username_scaled', 'description_sentiment_scaled'): 0.0305\n",
            "('username_name_levenshtein_scaled', 'following_rate_scaled'): 0.0305\n",
            "('ratio_digits_in_username_scaled', 'listed_over_tweets_scaled'): 0.0304\n",
            "('username_length_scaled', 'follower_rate_scaled'): 0.0301\n",
            "('hashtag_in_description_count_scaled', 'listed_over_followers_scaled'): 0.0301\n",
            "('hashtag_in_description_count_scaled', 'tweets_last20_avg_retweets_scaled'): 0.0300\n",
            "('ratio_special_chars_in_username_scaled', 'followers_count_scaled'): 0.0298\n",
            "('name_length_scaled', 'tweet_rate_scaled'): 0.0298\n",
            "('tweets_last20_num_distinct_langs_scaled', 'tweets_last20_avg_likes_scaled'): 0.0298\n",
            "('username_name_length_ratio_scaled', 'description_sentiment_scaled'): 0.0298\n",
            "('ratio_special_chars_in_description_scaled', 'name_upper_to_lower_ratio_scaled'): 0.0296\n",
            "('listed_over_tweets_scaled', 'tweets_last20_reply_fraction_scaled'): 0.0296\n",
            "('ratio_digits_in_name_scaled', 'name_upper_to_lower_ratio_scaled'): 0.0296\n",
            "('ratio_digits_in_description_scaled', 'description_sentiment_scaled'): 0.0296\n",
            "('listed_count_scaled', 'tweets_over_followers_scaled'): 0.0295\n",
            "('description_sentiment_scaled', 'followers_count_scaled'): 0.0295\n",
            "('username_upper_to_lower_ratio_scaled', 'tweets_last20_avg_likes_scaled'): 0.0294\n",
            "('description_sentiment_scaled', 'tweets_last20_avg_likes_scaled'): 0.0294\n",
            "('username_entropy_scaled', 'followers_count_scaled'): 0.0293\n",
            "('description_length_scaled', 'ratio_digits_in_name_scaled'): 0.0292\n",
            "('name_upper_to_lower_ratio_scaled', 'tweets_last20_num_distinct_langs_scaled'): 0.0291\n",
            "('ratio_digits_in_name_scaled', 'following_over_total_connections_scaled'): 0.0291\n",
            "('description_length_scaled', 'username_entropy_scaled'): 0.0291\n",
            "('name_length_scaled', 'tweets_over_followers_scaled'): 0.0291\n",
            "('mention_in_description_count_scaled', 'listed_rate_scaled'): 0.0291\n",
            "('url_in_description_count_scaled', 'tweets_over_followers_scaled'): 0.0290\n",
            "('username_length_scaled', 'ratio_special_chars_in_username_scaled'): 0.0287\n",
            "('ratio_special_chars_in_username_scaled', 'mention_in_description_count_scaled'): 0.0286\n",
            "('following_count_scaled', 'listed_rate_scaled'): 0.0282\n",
            "('name_upper_to_lower_ratio_scaled', 'account_age_seconds_scaled'): 0.0280\n",
            "('mention_in_description_count_scaled', 'tweets_last20_num_distinct_langs_scaled'): 0.0280\n",
            "('username_name_length_ratio_scaled', 'url_in_description_count_scaled'): 0.0280\n",
            "('tweets_over_followers_scaled', 'follower_rate_scaled'): 0.0279\n",
            "('username_name_length_ratio_scaled', 'ratio_digits_in_description_scaled'): 0.0279\n",
            "('ratio_digits_in_username_scaled', 'username_entropy_scaled'): 0.0278\n",
            "('description_sentiment_scaled', 'tweets_last20_num_distinct_langs_scaled'): 0.0277\n",
            "('following_over_total_connections_scaled', 'tweets_last20_sensitive_fraction_scaled'): 0.0277\n",
            "('username_entropy_scaled', 'tweets_last20_avg_retweets_scaled'): 0.0275\n",
            "('ratio_digits_in_username_scaled', 'followers_count_scaled'): 0.0273\n",
            "('tweets_last20_reply_fraction_scaled', 'tweets_last20_sensitive_fraction_scaled'): 0.0273\n",
            "('name_length_scaled', 'following_over_followers_scaled'): 0.0273\n",
            "('ratio_special_chars_in_description_scaled', 'mention_in_description_count_scaled'): 0.0270\n",
            "('username_name_length_ratio_scaled', 'tweets_over_followers_scaled'): 0.0268\n",
            "('name_length_scaled', 'username_upper_to_lower_ratio_scaled'): 0.0265\n",
            "('description_length_scaled', 'ratio_special_chars_in_username_scaled'): 0.0263\n",
            "('name_entropy_scaled', 'account_age_seconds_scaled'): 0.0261\n",
            "('ratio_digits_in_description_scaled', 'hashtag_in_description_count_scaled'): 0.0259\n",
            "('url_in_description_count_scaled', 'listed_rate_scaled'): 0.0258\n",
            "('ratio_digits_in_description_scaled', 'username_entropy_scaled'): 0.0257\n",
            "('name_entropy_scaled', 'tweets_last20_avg_likes_scaled'): 0.0256\n",
            "('username_name_length_ratio_scaled', 'listed_rate_scaled'): 0.0254\n",
            "('listed_over_followers_scaled', 'tweets_last20_num_distinct_langs_scaled'): 0.0254\n",
            "('description_sentiment_scaled', 'tweets_last20_avg_retweets_scaled'): 0.0252\n",
            "('ratio_digits_in_description_scaled', 'tweets_last20_reply_fraction_scaled'): 0.0251\n",
            "('username_entropy_scaled', 'following_rate_scaled'): 0.0250\n",
            "('mention_in_description_count_scaled', 'listed_over_tweets_scaled'): 0.0250\n",
            "('username_name_length_ratio_scaled', 'listed_count_scaled'): 0.0249\n",
            "('hashtag_in_description_count_scaled', 'follower_rate_scaled'): 0.0248\n",
            "('username_entropy_scaled', 'follower_rate_scaled'): 0.0247\n",
            "('tweet_count_scaled', 'following_over_followers_scaled'): 0.0247\n",
            "('followers_over_following_scaled', 'tweets_last20_reply_fraction_scaled'): 0.0246\n",
            "('double_followers_over_following_scaled', 'tweets_last20_reply_fraction_scaled'): 0.0246\n",
            "('description_length_scaled', 'cashtag_in_description_count_scaled'): 0.0245\n",
            "('following_count_scaled', 'listed_count_scaled'): 0.0244\n",
            "('mention_in_description_count_scaled', 'following_over_followers_scaled'): 0.0241\n",
            "('username_upper_to_lower_ratio_scaled', 'username_name_levenshtein_scaled'): 0.0241\n",
            "('followers_count_scaled', 'tweets_over_followers_scaled'): 0.0239\n",
            "('account_age_seconds_scaled', 'tweets_last20_avg_retweets_scaled'): 0.0238\n",
            "('ratio_digits_in_username_scaled', 'tweets_last20_avg_retweets_scaled'): 0.0238\n",
            "('username_name_levenshtein_scaled', 'cashtag_in_description_count_scaled'): 0.0233\n",
            "('following_over_followers_scaled', 'tweet_rate_scaled'): 0.0230\n",
            "('ratio_special_chars_in_username_scaled', 'tweets_last20_avg_likes_scaled'): 0.0230\n",
            "('account_age_seconds_scaled', 'listed_over_tweets_scaled'): 0.0230\n",
            "('ratio_digits_in_username_scaled', 'name_upper_to_lower_ratio_scaled'): 0.0228\n",
            "('name_entropy_scaled', 'followers_over_following_scaled'): 0.0228\n",
            "('name_entropy_scaled', 'double_followers_over_following_scaled'): 0.0228\n",
            "('hashtag_in_description_count_scaled', 'followers_count_scaled'): 0.0227\n",
            "('description_sentiment_scaled', 'listed_rate_scaled'): 0.0226\n",
            "('username_entropy_scaled', 'tweets_last20_reply_fraction_scaled'): 0.0226\n",
            "('mention_in_description_count_scaled', 'url_in_description_count_scaled'): 0.0225\n",
            "('username_name_length_ratio_scaled', 'following_count_scaled'): 0.0225\n",
            "('username_upper_to_lower_ratio_scaled', 'tweets_last20_sensitive_fraction_scaled'): 0.0224\n",
            "('ratio_digits_in_description_scaled', 'account_age_seconds_scaled'): 0.0223\n",
            "('name_upper_to_lower_ratio_scaled', 'following_over_total_connections_scaled'): 0.0222\n",
            "('username_name_levenshtein_scaled', 'hashtag_in_description_count_scaled'): 0.0221\n",
            "('ratio_special_chars_in_description_scaled', 'username_upper_to_lower_ratio_scaled'): 0.0221\n",
            "('username_length_scaled', 'listed_over_tweets_scaled'): 0.0220\n",
            "('name_entropy_scaled', 'following_over_followers_scaled'): 0.0219\n",
            "('ratio_digits_in_description_scaled', 'tweets_last20_avg_likes_scaled'): 0.0219\n",
            "('name_entropy_scaled', 'tweet_count_scaled'): 0.0218\n",
            "('listed_over_followers_scaled', 'following_rate_scaled'): 0.0218\n",
            "('ratio_special_chars_in_username_scaled', 'hashtag_in_description_count_scaled'): 0.0217\n",
            "('username_name_length_ratio_scaled', 'following_rate_scaled'): 0.0216\n",
            "('name_entropy_scaled', 'hashtag_in_description_count_scaled'): 0.0215\n",
            "('ratio_digits_in_name_scaled', 'url_in_description_count_scaled'): 0.0212\n",
            "('mention_in_description_count_scaled', 'tweets_last20_sensitive_fraction_scaled'): 0.0210\n",
            "('username_length_scaled', 'tweets_last20_avg_retweets_scaled'): 0.0208\n",
            "('username_entropy_scaled', 'cashtag_in_description_count_scaled'): 0.0208\n",
            "('ratio_special_chars_in_description_scaled', 'following_over_followers_scaled'): 0.0206\n",
            "('url_in_description_count_scaled', 'listed_count_scaled'): 0.0206\n",
            "('description_sentiment_scaled', 'listed_count_scaled'): 0.0206\n",
            "('ratio_digits_in_description_scaled', 'tweets_over_followers_scaled'): 0.0206\n",
            "('description_sentiment_scaled', 'following_rate_scaled'): 0.0205\n",
            "('hashtag_in_description_count_scaled', 'tweets_last20_num_distinct_langs_scaled'): 0.0202\n",
            "('ratio_special_chars_in_name_scaled', 'following_over_total_connections_scaled'): 0.0201\n",
            "('username_length_scaled', 'following_rate_scaled'): 0.0201\n",
            "('description_sentiment_scaled', 'tweet_count_scaled'): 0.0201\n",
            "('description_sentiment_scaled', 'tweets_last20_sensitive_fraction_scaled'): 0.0199\n",
            "('following_rate_scaled', 'listed_rate_scaled'): 0.0199\n",
            "('username_name_length_ratio_scaled', 'follower_rate_scaled'): 0.0198\n",
            "('name_upper_to_lower_ratio_scaled', 'tweets_over_followers_scaled'): 0.0198\n",
            "('ratio_special_chars_in_name_scaled', 'name_upper_to_lower_ratio_scaled'): 0.0198\n",
            "('username_name_length_ratio_scaled', 'tweet_count_scaled'): 0.0198\n",
            "('ratio_digits_in_name_scaled', 'username_entropy_scaled'): 0.0198\n",
            "('username_name_length_ratio_scaled', 'followers_count_scaled'): 0.0198\n",
            "('ratio_special_chars_in_name_scaled', 'tweets_last20_avg_likes_scaled'): 0.0198\n",
            "('ratio_digits_in_name_scaled', 'username_upper_to_lower_ratio_scaled'): 0.0197\n",
            "('ratio_digits_in_name_scaled', 'ratio_special_chars_in_username_scaled'): 0.0197\n",
            "('username_length_scaled', 'tweet_count_scaled'): 0.0197\n",
            "('followers_count_scaled', 'tweets_last20_num_distinct_langs_scaled'): 0.0196\n",
            "('following_rate_scaled', 'tweets_last20_num_distinct_langs_scaled'): 0.0196\n",
            "('username_entropy_scaled', 'tweets_last20_num_distinct_langs_scaled'): 0.0196\n",
            "('username_entropy_scaled', 'mention_in_description_count_scaled'): 0.0195\n",
            "('description_length_scaled', 'follower_rate_scaled'): 0.0195\n",
            "('username_length_scaled', 'tweets_last20_avg_likes_scaled'): 0.0194\n",
            "('account_age_seconds_scaled', 'tweets_last20_sensitive_fraction_scaled'): 0.0193\n",
            "('listed_over_followers_scaled', 'follower_rate_scaled'): 0.0193\n",
            "('hashtag_in_description_count_scaled', 'listed_count_scaled'): 0.0193\n",
            "('hashtag_in_description_count_scaled', 'listed_rate_scaled'): 0.0191\n",
            "('mention_in_description_count_scaled', 'following_count_scaled'): 0.0191\n",
            "('name_length_scaled', 'following_over_followers_squared_scaled'): 0.0189\n",
            "('ratio_special_chars_in_name_scaled', 'following_rate_scaled'): 0.0188\n",
            "('hashtag_in_description_count_scaled', 'tweets_last20_avg_likes_scaled'): 0.0188\n",
            "('ratio_special_chars_in_username_scaled', 'description_sentiment_scaled'): 0.0185\n",
            "('username_entropy_scaled', 'url_in_description_count_scaled'): 0.0184\n",
            "('name_entropy_scaled', 'tweet_rate_scaled'): 0.0184\n",
            "('name_length_scaled', 'following_count_scaled'): 0.0183\n",
            "('username_upper_to_lower_ratio_scaled', 'tweet_rate_scaled'): 0.0183\n",
            "('username_name_length_ratio_scaled', 'listed_over_tweets_scaled'): 0.0182\n",
            "('name_entropy_scaled', 'cashtag_in_description_count_scaled'): 0.0182\n",
            "('ratio_special_chars_in_name_scaled', 'url_in_description_count_scaled'): 0.0181\n",
            "('description_sentiment_scaled', 'url_in_description_count_scaled'): 0.0180\n",
            "('url_in_description_count_scaled', 'tweets_last20_sensitive_fraction_scaled'): 0.0179\n",
            "('ratio_special_chars_in_username_scaled', 'username_entropy_scaled'): 0.0178\n",
            "('ratio_digits_in_username_scaled', 'hashtag_in_description_count_scaled'): 0.0177\n",
            "('ratio_special_chars_in_description_scaled', 'following_over_followers_squared_scaled'): 0.0175\n",
            "('ratio_special_chars_in_name_scaled', 'followers_over_following_scaled'): 0.0174\n",
            "('ratio_special_chars_in_name_scaled', 'double_followers_over_following_scaled'): 0.0174\n",
            "('url_in_description_count_scaled', 'tweets_last20_avg_retweets_scaled'): 0.0173\n",
            "('url_in_description_count_scaled', 'following_over_followers_scaled'): 0.0172\n",
            "('tweet_count_scaled', 'tweets_last20_num_distinct_langs_scaled'): 0.0172\n",
            "('following_over_followers_squared_scaled', 'tweets_last20_num_distinct_langs_scaled'): 0.0172\n",
            "('follower_rate_scaled', 'tweets_last20_num_distinct_langs_scaled'): 0.0172\n",
            "('listed_over_tweets_scaled', 'tweets_last20_num_distinct_langs_scaled'): 0.0171\n",
            "('tweets_over_followers_scaled', 'tweets_last20_avg_likes_scaled'): 0.0169\n",
            "('ratio_special_chars_in_username_scaled', 'following_over_total_connections_scaled'): 0.0168\n",
            "('description_length_scaled', 'followers_count_scaled'): 0.0166\n",
            "('ratio_special_chars_in_name_scaled', 'hashtag_in_description_count_scaled'): 0.0165\n",
            "('ratio_special_chars_in_name_scaled', 'listed_rate_scaled'): 0.0164\n",
            "('followers_count_scaled', 'listed_over_followers_scaled'): 0.0163\n",
            "('username_name_levenshtein_scaled', 'follower_rate_scaled'): 0.0162\n",
            "('ratio_digits_in_description_scaled', 'following_rate_scaled'): 0.0162\n",
            "('hashtag_in_description_count_scaled', 'listed_over_tweets_scaled'): 0.0161\n",
            "('username_length_scaled', 'tweets_over_followers_scaled'): 0.0160\n",
            "('ratio_special_chars_in_username_scaled', 'listed_over_followers_scaled'): 0.0159\n",
            "('username_name_levenshtein_scaled', 'description_sentiment_scaled'): 0.0158\n",
            "('name_upper_to_lower_ratio_scaled', 'listed_over_followers_scaled'): 0.0157\n",
            "('username_entropy_scaled', 'tweets_over_followers_scaled'): 0.0157\n",
            "('username_entropy_scaled', 'following_count_scaled'): 0.0156\n",
            "('ratio_special_chars_in_username_scaled', 'name_upper_to_lower_ratio_scaled'): 0.0155\n",
            "('description_sentiment_scaled', 'following_over_followers_scaled'): 0.0154\n",
            "('ratio_digits_in_username_scaled', 'cashtag_in_description_count_scaled'): 0.0154\n",
            "('ratio_digits_in_description_scaled', 'following_over_followers_scaled'): 0.0154\n",
            "('ratio_digits_in_description_scaled', 'listed_rate_scaled'): 0.0152\n",
            "('username_name_length_ratio_scaled', 'followers_over_following_scaled'): 0.0152\n",
            "('username_name_length_ratio_scaled', 'double_followers_over_following_scaled'): 0.0152\n",
            "('ratio_special_chars_in_username_scaled', 'tweets_over_followers_scaled'): 0.0151\n",
            "('username_upper_to_lower_ratio_scaled', 'listed_over_tweets_scaled'): 0.0151\n",
            "('username_name_levenshtein_scaled', 'following_over_followers_squared_scaled'): 0.0150\n",
            "('followers_over_following_scaled', 'tweets_last20_num_distinct_langs_scaled'): 0.0150\n",
            "('double_followers_over_following_scaled', 'tweets_last20_num_distinct_langs_scaled'): 0.0150\n",
            "('listed_count_scaled', 'following_rate_scaled'): 0.0150\n",
            "('ratio_special_chars_in_description_scaled', 'listed_rate_scaled'): 0.0149\n",
            "('ratio_digits_in_username_scaled', 'listed_over_followers_scaled'): 0.0149\n",
            "('mention_in_description_count_scaled', 'following_over_followers_squared_scaled'): 0.0149\n",
            "('ratio_special_chars_in_username_scaled', 'tweet_count_scaled'): 0.0144\n",
            "('username_length_scaled', 'followers_over_following_scaled'): 0.0144\n",
            "('username_length_scaled', 'double_followers_over_following_scaled'): 0.0144\n",
            "('ratio_digits_in_description_scaled', 'listed_over_followers_scaled'): 0.0143\n",
            "('ratio_special_chars_in_username_scaled', 'listed_over_tweets_scaled'): 0.0143\n",
            "('tweet_count_scaled', 'following_over_followers_squared_scaled'): 0.0142\n",
            "('cashtag_in_description_count_scaled', 'tweets_last20_num_distinct_langs_scaled'): 0.0142\n",
            "('ratio_digits_in_username_scaled', 'tweets_last20_avg_likes_scaled'): 0.0141\n",
            "('username_entropy_scaled', 'tweets_last20_sensitive_fraction_scaled'): 0.0141\n",
            "('following_count_scaled', 'listed_over_followers_scaled'): 0.0141\n",
            "('ratio_digits_in_username_scaled', 'following_over_followers_squared_scaled'): 0.0140\n",
            "('username_upper_to_lower_ratio_scaled', 'tweet_count_scaled'): 0.0140\n",
            "('name_length_scaled', 'cashtag_in_description_count_scaled'): 0.0140\n",
            "('ratio_special_chars_in_name_scaled', 'listed_count_scaled'): 0.0140\n",
            "('hashtag_in_description_count_scaled', 'mention_in_description_count_scaled'): 0.0139\n",
            "('username_name_length_ratio_scaled', 'username_upper_to_lower_ratio_scaled'): 0.0139\n",
            "('username_upper_to_lower_ratio_scaled', 'following_count_scaled'): 0.0139\n",
            "('following_over_followers_squared_scaled', 'tweet_rate_scaled'): 0.0138\n",
            "('ratio_special_chars_in_description_scaled', 'listed_count_scaled'): 0.0138\n",
            "('ratio_special_chars_in_username_scaled', 'followers_over_following_scaled'): 0.0138\n",
            "('ratio_special_chars_in_username_scaled', 'double_followers_over_following_scaled'): 0.0138\n",
            "('username_length_scaled', 'description_sentiment_scaled'): 0.0136\n",
            "('hashtag_in_description_count_scaled', 'following_over_followers_scaled'): 0.0136\n",
            "('ratio_digits_in_name_scaled', 'tweets_last20_sensitive_fraction_scaled'): 0.0134\n",
            "('following_count_scaled', 'tweets_last20_avg_retweets_scaled'): 0.0134\n",
            "('name_upper_to_lower_ratio_scaled', 'url_in_description_count_scaled'): 0.0132\n",
            "('username_name_length_ratio_scaled', 'hashtag_in_description_count_scaled'): 0.0132\n",
            "('listed_over_tweets_scaled', 'following_rate_scaled'): 0.0132\n",
            "('username_upper_to_lower_ratio_scaled', 'description_sentiment_scaled'): 0.0132\n",
            "('description_length_scaled', 'name_upper_to_lower_ratio_scaled'): 0.0132\n",
            "('account_age_seconds_scaled', 'following_rate_scaled'): 0.0131\n",
            "('ratio_digits_in_username_scaled', 'following_rate_scaled'): 0.0131\n",
            "('following_rate_scaled', 'tweets_last20_avg_retweets_scaled'): 0.0131\n",
            "('name_upper_to_lower_ratio_scaled', 'listed_over_tweets_scaled'): 0.0129\n",
            "('cashtag_in_description_count_scaled', 'tweet_count_scaled'): 0.0129\n",
            "('mention_in_description_count_scaled', 'following_rate_scaled'): 0.0128\n",
            "('username_name_length_ratio_scaled', 'cashtag_in_description_count_scaled'): 0.0128\n",
            "('tweet_rate_scaled', 'tweets_last20_avg_likes_scaled'): 0.0128\n",
            "('ratio_digits_in_description_scaled', 'name_upper_to_lower_ratio_scaled'): 0.0127\n",
            "('name_entropy_scaled', 'follower_rate_scaled'): 0.0127\n",
            "('username_name_length_ratio_scaled', 'tweets_last20_avg_likes_scaled'): 0.0127\n",
            "('ratio_digits_in_username_scaled', 'following_count_scaled'): 0.0127\n",
            "('ratio_digits_in_description_scaled', 'mention_in_description_count_scaled'): 0.0126\n",
            "('ratio_digits_in_description_scaled', 'listed_count_scaled'): 0.0126\n",
            "('username_name_levenshtein_scaled', 'followers_count_scaled'): 0.0125\n",
            "('name_entropy_scaled', 'following_over_followers_squared_scaled'): 0.0125\n",
            "('following_over_total_connections_scaled', 'listed_over_followers_scaled'): 0.0124\n",
            "('username_name_levenshtein_scaled', 'url_in_description_count_scaled'): 0.0124\n",
            "('mention_in_description_count_scaled', 'tweets_last20_avg_retweets_scaled'): 0.0123\n",
            "('hashtag_in_description_count_scaled', 'followers_over_following_scaled'): 0.0123\n",
            "('hashtag_in_description_count_scaled', 'double_followers_over_following_scaled'): 0.0123\n",
            "('username_name_length_ratio_scaled', 'ratio_digits_in_name_scaled'): 0.0123\n",
            "('ratio_digits_in_name_scaled', 'tweets_last20_num_distinct_langs_scaled'): 0.0121\n",
            "('ratio_special_chars_in_username_scaled', 'cashtag_in_description_count_scaled'): 0.0121\n",
            "('listed_over_followers_scaled', 'tweets_last20_avg_likes_scaled'): 0.0121\n",
            "('ratio_special_chars_in_description_scaled', 'tweets_last20_avg_retweets_scaled'): 0.0120\n",
            "('tweet_count_scaled', 'tweets_last20_avg_likes_scaled'): 0.0119\n",
            "('listed_over_tweets_scaled', 'tweets_last20_avg_retweets_scaled'): 0.0119\n",
            "('mention_in_description_count_scaled', 'tweet_count_scaled'): 0.0118\n",
            "('description_sentiment_scaled', 'following_over_followers_squared_scaled'): 0.0118\n",
            "('mention_in_description_count_scaled', 'followers_count_scaled'): 0.0118\n",
            "('description_length_scaled', 'listed_rate_scaled'): 0.0118\n",
            "('hashtag_in_description_count_scaled', 'url_in_description_count_scaled'): 0.0117\n",
            "('url_in_description_count_scaled', 'followers_over_following_scaled'): 0.0117\n",
            "('url_in_description_count_scaled', 'double_followers_over_following_scaled'): 0.0117\n",
            "('description_sentiment_scaled', 'hashtag_in_description_count_scaled'): 0.0117\n",
            "('username_upper_to_lower_ratio_scaled', 'following_rate_scaled'): 0.0117\n",
            "('ratio_special_chars_in_description_scaled', 'following_over_total_connections_scaled'): 0.0116\n",
            "('name_entropy_scaled', 'followers_count_scaled'): 0.0116\n",
            "('ratio_special_chars_in_description_scaled', 'following_rate_scaled'): 0.0115\n",
            "('username_length_scaled', 'description_length_scaled'): 0.0115\n",
            "('username_length_scaled', 'cashtag_in_description_count_scaled'): 0.0114\n",
            "('ratio_special_chars_in_name_scaled', 'following_over_followers_squared_scaled'): 0.0114\n",
            "('cashtag_in_description_count_scaled', 'following_rate_scaled'): 0.0114\n",
            "('listed_rate_scaled', 'tweets_last20_avg_retweets_scaled'): 0.0113\n",
            "('username_upper_to_lower_ratio_scaled', 'following_over_followers_scaled'): 0.0113\n",
            "('name_entropy_scaled', 'listed_rate_scaled'): 0.0112\n",
            "('username_name_levenshtein_scaled', 'following_count_scaled'): 0.0111\n",
            "('name_upper_to_lower_ratio_scaled', 'tweet_count_scaled'): 0.0111\n",
            "('description_length_scaled', 'listed_count_scaled'): 0.0110\n",
            "('ratio_digits_in_name_scaled', 'listed_over_tweets_scaled'): 0.0110\n",
            "('description_sentiment_scaled', 'following_count_scaled'): 0.0109\n",
            "('ratio_digits_in_username_scaled', 'followers_over_following_scaled'): 0.0108\n",
            "('ratio_digits_in_username_scaled', 'double_followers_over_following_scaled'): 0.0108\n",
            "('username_upper_to_lower_ratio_scaled', 'followers_over_following_scaled'): 0.0108\n",
            "('username_upper_to_lower_ratio_scaled', 'double_followers_over_following_scaled'): 0.0108\n",
            "('listed_over_tweets_scaled', 'tweets_last20_sensitive_fraction_scaled'): 0.0108\n",
            "('ratio_digits_in_name_scaled', 'follower_rate_scaled'): 0.0107\n",
            "('username_entropy_scaled', 'listed_over_tweets_scaled'): 0.0107\n",
            "('followers_over_following_scaled', 'tweets_over_followers_scaled'): 0.0106\n",
            "('double_followers_over_following_scaled', 'tweets_over_followers_scaled'): 0.0106\n",
            "('name_length_scaled', 'description_sentiment_scaled'): 0.0106\n",
            "('following_over_followers_scaled', 'listed_rate_scaled'): 0.0105\n",
            "('mention_in_description_count_scaled', 'listed_over_followers_scaled'): 0.0104\n",
            "('followers_over_following_scaled', 'following_rate_scaled'): 0.0104\n",
            "('double_followers_over_following_scaled', 'following_rate_scaled'): 0.0104\n",
            "('username_name_length_ratio_scaled', 'following_over_followers_scaled'): 0.0103\n",
            "('ratio_special_chars_in_name_scaled', 'following_over_followers_scaled'): 0.0103\n",
            "('listed_over_followers_scaled', 'tweets_last20_avg_retweets_scaled'): 0.0102\n",
            "('hashtag_in_description_count_scaled', 'following_over_followers_squared_scaled'): 0.0102\n",
            "('ratio_digits_in_description_scaled', 'following_over_followers_squared_scaled'): 0.0102\n",
            "('description_sentiment_scaled', 'listed_over_tweets_scaled'): 0.0101\n",
            "('name_upper_to_lower_ratio_scaled', 'tweets_last20_sensitive_fraction_scaled'): 0.0101\n",
            "('ratio_special_chars_in_username_scaled', 'tweet_rate_scaled'): 0.0100\n",
            "('username_length_scaled', 'tweets_last20_num_distinct_langs_scaled'): 0.0100\n",
            "('username_upper_to_lower_ratio_scaled', 'url_in_description_count_scaled'): 0.0100\n",
            "('ratio_digits_in_name_scaled', 'followers_count_scaled'): 0.0099\n",
            "('username_length_scaled', 'following_over_followers_squared_scaled'): 0.0099\n",
            "('hashtag_in_description_count_scaled', 'tweets_over_followers_scaled'): 0.0099\n",
            "('ratio_digits_in_name_scaled', 'listed_over_followers_scaled'): 0.0098\n",
            "('url_in_description_count_scaled', 'following_over_followers_squared_scaled'): 0.0098\n",
            "('ratio_digits_in_description_scaled', 'tweets_last20_sensitive_fraction_scaled'): 0.0098\n",
            "('ratio_digits_in_description_scaled', 'followers_over_following_scaled'): 0.0098\n",
            "('ratio_digits_in_description_scaled', 'double_followers_over_following_scaled'): 0.0098\n",
            "('name_upper_to_lower_ratio_scaled', 'tweets_last20_avg_retweets_scaled'): 0.0097\n",
            "('name_entropy_scaled', 'listed_over_followers_scaled'): 0.0096\n",
            "('name_entropy_scaled', 'listed_count_scaled'): 0.0096\n",
            "('listed_rate_scaled', 'tweets_last20_sensitive_fraction_scaled'): 0.0096\n",
            "('following_rate_scaled', 'tweets_last20_avg_likes_scaled'): 0.0096\n",
            "('ratio_digits_in_description_scaled', 'tweets_last20_avg_retweets_scaled'): 0.0095\n",
            "('tweet_count_scaled', 'listed_over_followers_scaled'): 0.0095\n",
            "('username_entropy_scaled', 'tweet_count_scaled'): 0.0095\n",
            "('username_upper_to_lower_ratio_scaled', 'tweets_last20_avg_retweets_scaled'): 0.0094\n",
            "('name_length_scaled', 'listed_count_scaled'): 0.0094\n",
            "('listed_count_scaled', 'tweets_last20_avg_retweets_scaled'): 0.0094\n",
            "('following_count_scaled', 'follower_rate_scaled'): 0.0093\n",
            "('ratio_digits_in_name_scaled', 'following_rate_scaled'): 0.0093\n",
            "('name_length_scaled', 'followers_over_following_scaled'): 0.0093\n",
            "('name_length_scaled', 'double_followers_over_following_scaled'): 0.0093\n",
            "('tweet_count_scaled', 'tweets_last20_sensitive_fraction_scaled'): 0.0093\n",
            "('ratio_digits_in_name_scaled', 'tweets_last20_avg_likes_scaled'): 0.0092\n",
            "('ratio_digits_in_name_scaled', 'description_sentiment_scaled'): 0.0091\n",
            "('following_rate_scaled', 'tweets_last20_reply_fraction_scaled'): 0.0091\n",
            "('ratio_special_chars_in_description_scaled', 'tweets_last20_sensitive_fraction_scaled'): 0.0091\n",
            "('listed_count_scaled', 'following_over_followers_scaled'): 0.0089\n",
            "('following_over_followers_scaled', 'tweets_over_followers_scaled'): 0.0088\n",
            "('ratio_special_chars_in_name_scaled', 'tweets_last20_sensitive_fraction_scaled'): 0.0088\n",
            "('name_upper_to_lower_ratio_scaled', 'tweets_last20_avg_likes_scaled'): 0.0088\n",
            "('following_count_scaled', 'followers_over_following_scaled'): 0.0088\n",
            "('following_count_scaled', 'double_followers_over_following_scaled'): 0.0088\n",
            "('name_length_scaled', 'listed_over_followers_scaled'): 0.0088\n",
            "('username_name_levenshtein_scaled', 'following_over_followers_scaled'): 0.0088\n",
            "('following_over_followers_scaled', 'listed_over_tweets_scaled'): 0.0088\n",
            "('cashtag_in_description_count_scaled', 'hashtag_in_description_count_scaled'): 0.0087\n",
            "('url_in_description_count_scaled', 'tweets_last20_avg_likes_scaled'): 0.0087\n",
            "('follower_rate_scaled', 'tweets_last20_sensitive_fraction_scaled'): 0.0086\n",
            "('ratio_digits_in_name_scaled', 'ratio_special_chars_in_name_scaled'): 0.0086\n",
            "('username_length_scaled', 'tweets_last20_sensitive_fraction_scaled'): 0.0085\n",
            "('name_entropy_scaled', 'username_name_levenshtein_scaled'): 0.0084\n",
            "('followers_over_following_scaled', 'tweets_last20_avg_likes_scaled'): 0.0084\n",
            "('double_followers_over_following_scaled', 'tweets_last20_avg_likes_scaled'): 0.0084\n",
            "('username_length_scaled', 'tweets_last20_reply_fraction_scaled'): 0.0084\n",
            "('name_entropy_scaled', 'listed_over_tweets_scaled'): 0.0084\n",
            "('url_in_description_count_scaled', 'followers_count_scaled'): 0.0083\n",
            "('username_length_scaled', 'following_over_followers_scaled'): 0.0083\n",
            "('name_length_scaled', 'listed_rate_scaled'): 0.0083\n",
            "('name_length_scaled', 'ratio_special_chars_in_name_scaled'): 0.0083\n",
            "('tweet_rate_scaled', 'tweets_last20_num_distinct_langs_scaled'): 0.0082\n",
            "('followers_count_scaled', 'following_count_scaled'): 0.0082\n",
            "('username_upper_to_lower_ratio_scaled', 'following_over_followers_squared_scaled'): 0.0082\n",
            "('cashtag_in_description_count_scaled', 'tweets_over_followers_scaled'): 0.0082\n",
            "('tweet_count_scaled', 'tweets_last20_avg_retweets_scaled'): 0.0081\n",
            "('username_upper_to_lower_ratio_scaled', 'cashtag_in_description_count_scaled'): 0.0081\n",
            "('listed_count_scaled', 'tweets_last20_sensitive_fraction_scaled'): 0.0081\n",
            "('following_count_scaled', 'tweets_last20_reply_fraction_scaled'): 0.0081\n",
            "('url_in_description_count_scaled', 'follower_rate_scaled'): 0.0081\n",
            "('username_entropy_scaled', 'tweets_last20_avg_likes_scaled'): 0.0080\n",
            "('username_length_scaled', 'ratio_digits_in_username_scaled'): 0.0079\n",
            "('name_upper_to_lower_ratio_scaled', 'listed_rate_scaled'): 0.0079\n",
            "('description_length_scaled', 'followers_over_following_scaled'): 0.0078\n",
            "('description_length_scaled', 'double_followers_over_following_scaled'): 0.0078\n",
            "('following_over_followers_scaled', 'follower_rate_scaled'): 0.0076\n",
            "('ratio_special_chars_in_username_scaled', 'tweets_last20_reply_fraction_scaled'): 0.0076\n",
            "('following_count_scaled', 'tweets_last20_avg_likes_scaled'): 0.0076\n",
            "('followers_over_following_scaled', 'listed_over_followers_scaled'): 0.0076\n",
            "('double_followers_over_following_scaled', 'listed_over_followers_scaled'): 0.0076\n",
            "('ratio_special_chars_in_description_scaled', 'hashtag_in_description_count_scaled'): 0.0074\n",
            "('following_count_scaled', 'listed_over_tweets_scaled'): 0.0074\n",
            "('following_over_followers_scaled', 'listed_over_followers_scaled'): 0.0073\n",
            "('tweets_last20_avg_likes_scaled', 'tweets_last20_avg_retweets_scaled'): 0.0073\n",
            "('mention_in_description_count_scaled', 'tweets_last20_reply_fraction_scaled'): 0.0073\n",
            "('followers_count_scaled', 'tweets_last20_sensitive_fraction_scaled'): 0.0073\n",
            "('mention_in_description_count_scaled', 'follower_rate_scaled'): 0.0071\n",
            "('username_upper_to_lower_ratio_scaled', 'account_age_seconds_scaled'): 0.0070\n",
            "('cashtag_in_description_count_scaled', 'tweets_last20_avg_retweets_scaled'): 0.0070\n",
            "('name_upper_to_lower_ratio_scaled', 'following_rate_scaled'): 0.0070\n",
            "('mention_in_description_count_scaled', 'tweets_last20_avg_likes_scaled'): 0.0070\n",
            "('name_length_scaled', 'followers_count_scaled'): 0.0070\n",
            "('username_length_scaled', 'following_count_scaled'): 0.0069\n",
            "('name_upper_to_lower_ratio_scaled', 'following_count_scaled'): 0.0069\n",
            "('username_upper_to_lower_ratio_scaled', 'hashtag_in_description_count_scaled'): 0.0068\n",
            "('username_name_length_ratio_scaled', 'listed_over_followers_scaled'): 0.0068\n",
            "('ratio_digits_in_description_scaled', 'ratio_special_chars_in_username_scaled'): 0.0068\n",
            "('ratio_digits_in_name_scaled', 'cashtag_in_description_count_scaled'): 0.0067\n",
            "('followers_count_scaled', 'following_over_followers_scaled'): 0.0065\n",
            "('name_length_scaled', 'follower_rate_scaled'): 0.0065\n",
            "('tweets_last20_sensitive_fraction_scaled', 'tweets_last20_avg_likes_scaled'): 0.0064\n",
            "('following_over_followers_squared_scaled', 'listed_over_followers_scaled'): 0.0062\n",
            "('following_over_followers_scaled', 'tweets_last20_num_distinct_langs_scaled'): 0.0061\n",
            "('url_in_description_count_scaled', 'listed_over_tweets_scaled'): 0.0060\n",
            "('name_upper_to_lower_ratio_scaled', 'following_over_followers_scaled'): 0.0060\n",
            "('username_length_scaled', 'hashtag_in_description_count_scaled'): 0.0059\n",
            "('followers_over_following_scaled', 'tweets_last20_avg_retweets_scaled'): 0.0058\n",
            "('double_followers_over_following_scaled', 'tweets_last20_avg_retweets_scaled'): 0.0058\n",
            "('follower_rate_scaled', 'following_rate_scaled'): 0.0057\n",
            "('username_name_levenshtein_scaled', 'followers_over_following_scaled'): 0.0056\n",
            "('username_name_levenshtein_scaled', 'double_followers_over_following_scaled'): 0.0056\n",
            "('username_length_scaled', 'listed_over_followers_scaled'): 0.0056\n",
            "('ratio_special_chars_in_description_scaled', 'followers_count_scaled'): 0.0055\n",
            "('follower_rate_scaled', 'tweets_last20_avg_retweets_scaled'): 0.0055\n",
            "('ratio_digits_in_username_scaled', 'username_upper_to_lower_ratio_scaled'): 0.0055\n",
            "('following_count_scaled', 'following_over_followers_scaled'): 0.0054\n",
            "('ratio_digits_in_name_scaled', 'followers_over_following_scaled'): 0.0054\n",
            "('ratio_digits_in_name_scaled', 'double_followers_over_following_scaled'): 0.0054\n",
            "('listed_count_scaled', 'listed_over_followers_scaled'): 0.0054\n",
            "('ratio_digits_in_username_scaled', 'tweets_last20_sensitive_fraction_scaled'): 0.0053\n",
            "('name_length_scaled', 'listed_over_tweets_scaled'): 0.0051\n",
            "('listed_over_followers_scaled', 'tweets_last20_sensitive_fraction_scaled'): 0.0051\n",
            "('username_length_scaled', 'ratio_digits_in_description_scaled'): 0.0050\n",
            "('description_sentiment_scaled', 'followers_over_following_scaled'): 0.0050\n",
            "('description_sentiment_scaled', 'double_followers_over_following_scaled'): 0.0050\n",
            "('username_name_length_ratio_scaled', 'tweet_rate_scaled'): 0.0049\n",
            "('name_upper_to_lower_ratio_scaled', 'following_over_followers_squared_scaled'): 0.0049\n",
            "('ratio_digits_in_name_scaled', 'listed_count_scaled'): 0.0049\n",
            "('following_over_followers_squared_scaled', 'listed_rate_scaled'): 0.0049\n",
            "('name_upper_to_lower_ratio_scaled', 'listed_count_scaled'): 0.0048\n",
            "('ratio_digits_in_name_scaled', 'listed_rate_scaled'): 0.0048\n",
            "('ratio_digits_in_description_scaled', 'username_name_levenshtein_scaled'): 0.0048\n",
            "('listed_over_followers_scaled', 'listed_rate_scaled'): 0.0048\n",
            "('username_upper_to_lower_ratio_scaled', 'tweets_last20_num_distinct_langs_scaled'): 0.0047\n",
            "('tweet_rate_scaled', 'tweets_last20_avg_retweets_scaled'): 0.0047\n",
            "('ratio_special_chars_in_name_scaled', 'following_count_scaled'): 0.0047\n",
            "('username_entropy_scaled', 'tweet_rate_scaled'): 0.0046\n",
            "('name_upper_to_lower_ratio_scaled', 'hashtag_in_description_count_scaled'): 0.0046\n",
            "('cashtag_in_description_count_scaled', 'tweets_last20_sensitive_fraction_scaled'): 0.0046\n",
            "('followers_count_scaled', 'tweets_last20_avg_retweets_scaled'): 0.0046\n",
            "('username_upper_to_lower_ratio_scaled', 'listed_over_followers_scaled'): 0.0046\n",
            "('following_over_followers_scaled', 'tweets_last20_avg_likes_scaled'): 0.0046\n",
            "('cashtag_in_description_count_scaled', 'listed_over_followers_scaled'): 0.0045\n",
            "('following_count_scaled', 'tweets_last20_num_distinct_langs_scaled'): 0.0044\n",
            "('username_entropy_scaled', 'followers_over_following_scaled'): 0.0043\n",
            "('username_entropy_scaled', 'double_followers_over_following_scaled'): 0.0043\n",
            "('ratio_special_chars_in_name_scaled', 'follower_rate_scaled'): 0.0043\n",
            "('following_over_followers_squared_scaled', 'listed_over_tweets_scaled'): 0.0043\n",
            "('ratio_special_chars_in_description_scaled', 'follower_rate_scaled'): 0.0042\n",
            "('hashtag_in_description_count_scaled', 'tweets_last20_sensitive_fraction_scaled'): 0.0041\n",
            "('listed_count_scaled', 'following_over_followers_squared_scaled'): 0.0041\n",
            "('followers_over_following_scaled', 'tweets_last20_sensitive_fraction_scaled'): 0.0040\n",
            "('double_followers_over_following_scaled', 'tweets_last20_sensitive_fraction_scaled'): 0.0040\n",
            "('mention_in_description_count_scaled', 'tweet_rate_scaled'): 0.0039\n",
            "('ratio_digits_in_name_scaled', 'following_over_followers_scaled'): 0.0039\n",
            "('cashtag_in_description_count_scaled', 'tweet_rate_scaled'): 0.0039\n",
            "('account_age_seconds_scaled', 'tweets_last20_avg_likes_scaled'): 0.0038\n",
            "('following_count_scaled', 'following_over_followers_squared_scaled'): 0.0038\n",
            "('cashtag_in_description_count_scaled', 'listed_count_scaled'): 0.0038\n",
            "('listed_over_followers_scaled', 'listed_over_tweets_scaled'): 0.0037\n",
            "('name_upper_to_lower_ratio_scaled', 'followers_count_scaled'): 0.0037\n",
            "('username_name_length_ratio_scaled', 'following_over_followers_squared_scaled'): 0.0036\n",
            "('ratio_digits_in_description_scaled', 'following_count_scaled'): 0.0035\n",
            "('cashtag_in_description_count_scaled', 'followers_count_scaled'): 0.0035\n",
            "('url_in_description_count_scaled', 'listed_over_followers_scaled'): 0.0035\n",
            "('ratio_special_chars_in_description_scaled', 'following_count_scaled'): 0.0035\n",
            "('following_over_followers_squared_scaled', 'follower_rate_scaled'): 0.0034\n",
            "('ratio_special_chars_in_name_scaled', 'followers_count_scaled'): 0.0034\n",
            "('following_over_followers_scaled', 'following_rate_scaled'): 0.0033\n",
            "('username_entropy_scaled', 'hashtag_in_description_count_scaled'): 0.0033\n",
            "('following_over_followers_scaled', 'tweets_last20_sensitive_fraction_scaled'): 0.0033\n",
            "('name_upper_to_lower_ratio_scaled', 'follower_rate_scaled'): 0.0032\n",
            "('following_over_followers_squared_scaled', 'tweets_over_followers_scaled'): 0.0032\n",
            "('ratio_digits_in_name_scaled', 'following_over_followers_squared_scaled'): 0.0032\n",
            "('followers_count_scaled', 'following_rate_scaled'): 0.0032\n",
            "('username_entropy_scaled', 'description_sentiment_scaled'): 0.0031\n",
            "('followers_over_following_scaled', 'following_over_followers_scaled'): 0.0029\n",
            "('double_followers_over_following_scaled', 'following_over_followers_scaled'): 0.0029\n",
            "('followers_count_scaled', 'following_over_followers_squared_scaled'): 0.0029\n",
            "('ratio_special_chars_in_name_scaled', 'username_upper_to_lower_ratio_scaled'): 0.0029\n",
            "('ratio_digits_in_name_scaled', 'hashtag_in_description_count_scaled'): 0.0028\n",
            "('following_over_followers_squared_scaled', 'following_rate_scaled'): 0.0028\n",
            "('listed_over_followers_scaled', 'tweet_rate_scaled'): 0.0028\n",
            "('following_over_followers_scaled', 'tweets_last20_avg_retweets_scaled'): 0.0027\n",
            "('username_length_scaled', 'tweet_rate_scaled'): 0.0027\n",
            "('tweet_rate_scaled', 'tweets_last20_sensitive_fraction_scaled'): 0.0027\n",
            "('hashtag_in_description_count_scaled', 'account_age_seconds_scaled'): 0.0027\n",
            "('cashtag_in_description_count_scaled', 'tweets_last20_avg_likes_scaled'): 0.0026\n",
            "('following_over_followers_squared_scaled', 'tweets_last20_sensitive_fraction_scaled'): 0.0026\n",
            "('cashtag_in_description_count_scaled', 'follower_rate_scaled'): 0.0026\n",
            "('following_over_followers_squared_scaled', 'tweets_last20_avg_retweets_scaled'): 0.0025\n",
            "('name_upper_to_lower_ratio_scaled', 'followers_over_following_scaled'): 0.0024\n",
            "('name_upper_to_lower_ratio_scaled', 'double_followers_over_following_scaled'): 0.0024\n",
            "('ratio_digits_in_name_scaled', 'tweets_last20_reply_fraction_scaled'): 0.0024\n",
            "('ratio_special_chars_in_description_scaled', 'tweets_last20_avg_likes_scaled'): 0.0023\n",
            "('description_sentiment_scaled', 'following_over_total_connections_scaled'): 0.0023\n",
            "('cashtag_in_description_count_scaled', 'following_over_followers_scaled'): 0.0022\n",
            "('ratio_special_chars_in_description_scaled', 'cashtag_in_description_count_scaled'): 0.0021\n",
            "('following_over_followers_squared_scaled', 'tweets_last20_avg_likes_scaled'): 0.0020\n",
            "('description_sentiment_scaled', 'cashtag_in_description_count_scaled'): 0.0020\n",
            "('name_length_scaled', 'account_age_seconds_scaled'): 0.0019\n",
            "('cashtag_in_description_count_scaled', 'followers_over_following_scaled'): 0.0019\n",
            "('cashtag_in_description_count_scaled', 'double_followers_over_following_scaled'): 0.0019\n",
            "('username_entropy_scaled', 'following_over_followers_scaled'): 0.0014\n",
            "('cashtag_in_description_count_scaled', 'following_over_followers_squared_scaled'): 0.0014\n",
            "('followers_over_following_scaled', 'following_over_followers_squared_scaled'): 0.0013\n",
            "('double_followers_over_following_scaled', 'following_over_followers_squared_scaled'): 0.0013\n",
            "('ratio_digits_in_description_scaled', 'listed_over_tweets_scaled'): 0.0013\n",
            "('ratio_digits_in_description_scaled', 'followers_count_scaled'): 0.0012\n",
            "('ratio_digits_in_description_scaled', 'tweets_last20_num_distinct_langs_scaled'): 0.0012\n",
            "('cashtag_in_description_count_scaled', 'listed_over_tweets_scaled'): 0.0011\n",
            "('description_length_scaled', 'username_upper_to_lower_ratio_scaled'): 0.0011\n",
            "('ratio_special_chars_in_description_scaled', 'followers_over_following_scaled'): 0.0010\n",
            "('ratio_special_chars_in_description_scaled', 'double_followers_over_following_scaled'): 0.0010\n",
            "('cashtag_in_description_count_scaled', 'following_count_scaled'): 0.0010\n",
            "('cashtag_in_description_count_scaled', 'listed_rate_scaled'): 0.0009\n",
            "('description_sentiment_scaled', 'listed_over_followers_scaled'): 0.0008\n",
            "('ratio_digits_in_description_scaled', 'cashtag_in_description_count_scaled'): 0.0007\n",
            "('ratio_digits_in_name_scaled', 'following_count_scaled'): 0.0005\n",
            "('ratio_digits_in_name_scaled', 'tweets_last20_avg_retweets_scaled'): 0.0004\n",
            "('username_entropy_scaled', 'listed_over_followers_scaled'): 0.0004\n",
            "('username_length_scaled', 'url_in_description_count_scaled'): 0.0003\n",
            "('username_entropy_scaled', 'following_over_followers_squared_scaled'): 0.0001\n",
            "('cashtag_in_description_count_scaled', 'following_over_total_connections_scaled'): 0.0001\n",
            "('ratio_digits_in_description_scaled', 'follower_rate_scaled'): 0.0000\n"
          ]
        }
      ]
    },
    {
      "cell_type": "code",
      "source": [],
      "metadata": {
        "id": "otO2ZURCl-EW"
      },
      "execution_count": null,
      "outputs": []
    }
  ]
}